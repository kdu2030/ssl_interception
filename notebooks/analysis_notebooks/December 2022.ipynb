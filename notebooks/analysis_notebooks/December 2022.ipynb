{
 "cells": [
  {
   "cell_type": "code",
   "execution_count": 1,
   "id": "d0741e6e-3e90-46d9-8e01-6fb86941392e",
   "metadata": {},
   "outputs": [],
   "source": [
    "from analysis_helpers.intercept_helpers import process_parquet_dir\n",
    "import pandas as pd"
   ]
  },
  {
   "cell_type": "code",
   "execution_count": 2,
   "id": "b3af24b6-ecd8-4ff3-b1d5-bfc2d80d33f7",
   "metadata": {},
   "outputs": [
    {
     "name": "stderr",
     "output_type": "stream",
     "text": [
      "/home/ubuntu/GitLab/ssl_interception/notebooks/analysis_notebooks/analysis_helpers/intercept_helpers.py:47: SettingWithCopyWarning: \n",
      "A value is trying to be set on a copy of a slice from a DataFrame.\n",
      "Try using .loc[row_indexer,col_indexer] = value instead\n",
      "\n",
      "See the caveats in the documentation: https://pandas.pydata.org/pandas-docs/stable/user_guide/indexing.html#returning-a-view-versus-a-copy\n",
      "  df[\"does_ca_match\"] = df.apply(lambda row: does_ca_match(\n"
     ]
    }
   ],
   "source": [
    "data_path = \"/mnt/chaseproject/uva/kd5eyn/intercept_data/2022-12-01_2022-12-31/\"\n",
    "df = process_parquet_dir(data_path)"
   ]
  },
  {
   "cell_type": "code",
   "execution_count": 4,
   "id": "765d7d36-92db-4f5e-9fbc-9f62754796ed",
   "metadata": {},
   "outputs": [
    {
     "name": "stdout",
     "output_type": "stream",
     "text": [
      "N=3QC07n 22JpcB 5lja1WF 1\n",
      "N=5a8uEGx 73oFVybUf 5lja1WF 1V \n",
      "N=2hsqsq-2XqsqkB\n",
      "N=2SF-6\n",
      "DigiCert\n",
      "GeoTrust Inc.\n",
      "N=67FxPju\n",
      "N=7Fw6H 2cMYVTs\n",
      "Free Ad Blocker\n",
      "N=DO5OrizgLPU\n",
      "Temporary CA a0305fb9-1d21-4142-9f97-e1c6efdab8f\n",
      "N=uGPnM2n4wJj 5EbvZ8tQOb 1V,DC=healthsouth,DC=insidehrc,DC=co\n",
      "LBE\n",
      "Kabam Games Inc.\n",
      "Palo-Alto-Networks-Inc.\n",
      "VMware\n",
      "OpenSSL Group\n",
      "Lockheed Martin Corporation\n",
      "COMODO CA Limited\n",
      "N=4K2VsoWa\n",
      "N=cert-manager.loca\n",
      "N=6Fk1JiB 1kKtVMy 11d\n",
      "Acme C\n",
      "N=1qL-Y7gCtm,DC=ecc,DC=acuecc,DC=or\n",
      "GlobalSign nv-sa\n",
      "CloudFlare\n",
      "N=1xx7hPww\n",
      "N=5J-2vxp 1V 1u,DC=tp-link,DC=com,DC=c\n",
      "N=www.iwsebyvqomvmyo.co\n",
      "N=Qy3bASvC0SiInpU7F5nC9d,DC=RADEXT,DC=NE\n",
      "Opera Software ASA\n",
      "Apeman\n",
      "Indus\n",
      "N=13MPnX0jgs,DC=despreinte,DC=loca\n",
      "GoDaddy.com\n",
      "Peloton Interactive Inc\n",
      "N=5jANS_HoC46Ta_5NwR_7e4ao\n",
      "DigiCert Global Root CA\n",
      "GSM Associatio\n",
      "N=6Mi7ZTi\n",
      "N=2fq-6Nr2XkT,DC=ad,DC=loca\n",
      "N=2XJ-6eiPrzGDXxc,DC=India,DC=TCS,DC=co\n",
      "Synology Inc.\n",
      "N=www.dsbvrdrh4vs5nkxkuedf.co\n",
      "snap-cloud\n",
      "N=1HYakN5S4zjWaE\n",
      "N=www.rmyvftxogcmsftldj.co\n",
      "N=prod-prox-mwg.cargill.co\n",
      "BigCommerce Pty. Ltd.\n",
      "nQualifier=1xKEXgaI-4tSK-4PRz-52RJ-227bMeyOuNLI,CN=1msQj6pBELU 6Nwi 1\n",
      "N=1IlTtQ 2hTX11qddI1 57JOJKKD\n",
      "N=6DynWyi0 7OxcoTQ2 2hTX11qddI\n",
      "nQualifier=6crrflRY-1f5g-2aYz-1eg6-7kpF0Kd05Cwg,CN=1msQj6pBELU 6Nwi 1\n",
      "VK\n",
      "N=TUCINC-DC.ad.tidewaterutility.co\n",
      "PerkinElmer Inc.\n",
      "N=6ZWu0g3-1O-69b-1\n",
      "Internet Widgits Pty Ltd\n",
      "N=1sAL 3ul 5lja1WF 1V,OU=FPKI,OU=U.S. Government,C=U\n",
      "Unipay Root CA\n",
      "N=3x1M07 1V: 6VGxFeUed.Lt.6oWqzk7H.1r\n",
      "N=1Hx32o2d\n",
      "Cloudflare\n",
      "N=5VAVekNmN5Y\n",
      "Google Trust Services\n",
      "eMudhra Technologies Limited\n",
      "N=4QZP1v 6gRqZwAx8ch 5EbvZ8tQOb 5lja1WF 1V,DC=PathologyPartners,DC=intrane\n",
      "N=www.zsm5gkip3zpm.co\n",
      "Verizon Enterprise Solutions\n",
      "Linden Lab\n",
      "I\n",
      "N=4HJaA-5lja1WF-5kt,DC=bcbsa,DC=co\n",
      "Northrop Grumman Corporation\n",
      "N=5z 5m2fWj 5jYylAHA 72LWx 2hTX11qddI\n",
      "N=5lWMENULxCXI5\n",
      "N=u3dwBzM 4KPuUO 5qFJM5 57JOJKKDi 7,DC=tiger,DC=loca\n",
      "F-Secur\n",
      "Sectigo Limited\n",
      "N=QJldbo1\n",
      "N=1nQb8hckltR-AkjluJPzsJZ9-1V,DC=mksinternal,DC=co\n",
      "BlackBerry Limited\n",
      "AC Camerfirma S.A.\n",
      "N=1tKvH\n",
      "N=mail.drfl.ne\n",
      "Positive Software\n",
      "Aruba Networks\n",
      "Snake Oil\n",
      "N=fI7fW5L\n",
      "Ruckus Wireless Inc.\n",
      "E-TUGRA EBG BILISIM TEKNOLOJILERI VE HIZMETLERI ANONIM SIRKETI\n",
      "N=www.yy32x7mvqjkzx7vx.co\n",
      "N=1*46zE\n",
      "N=1vSDmQAE\n"
     ]
    }
   ],
   "source": [
    "unique_issuers = df[\"issuer_O\"].unique()\n",
    "for issuer in unique_issuers:\n",
    "    print(issuer)"
   ]
  },
  {
   "cell_type": "markdown",
   "id": "7025982a-b773-454c-8753-d49646190dc9",
   "metadata": {},
   "source": [
    "# OpenSSL Group\n",
    "* Possible that googleleadservices.com is using the OpenSSL library to configure their certificates"
   ]
  },
  {
   "cell_type": "code",
   "execution_count": 6,
   "id": "73ed58e3-3ff2-4bbf-9017-8da1e81720ee",
   "metadata": {},
   "outputs": [
    {
     "data": {
      "text/html": [
       "<div>\n",
       "<style scoped>\n",
       "    .dataframe tbody tr th:only-of-type {\n",
       "        vertical-align: middle;\n",
       "    }\n",
       "\n",
       "    .dataframe tbody tr th {\n",
       "        vertical-align: top;\n",
       "    }\n",
       "\n",
       "    .dataframe thead th {\n",
       "        text-align: right;\n",
       "    }\n",
       "</style>\n",
       "<table border=\"1\" class=\"dataframe\">\n",
       "  <thead>\n",
       "    <tr style=\"text-align: right;\">\n",
       "      <th></th>\n",
       "      <th>index</th>\n",
       "      <th>domain</th>\n",
       "      <th>issuer_O</th>\n",
       "      <th>conn_count</th>\n",
       "      <th>historical_ca</th>\n",
       "    </tr>\n",
       "  </thead>\n",
       "  <tbody>\n",
       "    <tr>\n",
       "      <th>74</th>\n",
       "      <td>50</td>\n",
       "      <td>googleleadservices.com</td>\n",
       "      <td>OpenSSL Group</td>\n",
       "      <td>1</td>\n",
       "      <td>GoDaddy.com, Inc. (2021-12-23 17:41:05 - 2023-...</td>\n",
       "    </tr>\n",
       "    <tr>\n",
       "      <th>205</th>\n",
       "      <td>4</td>\n",
       "      <td>googleleadservices.com</td>\n",
       "      <td>OpenSSL Group</td>\n",
       "      <td>13</td>\n",
       "      <td>GoDaddy.com, Inc. (2021-12-23 17:41:05 - 2023-...</td>\n",
       "    </tr>\n",
       "    <tr>\n",
       "      <th>588</th>\n",
       "      <td>205</td>\n",
       "      <td>googleleadservices.com</td>\n",
       "      <td>OpenSSL Group</td>\n",
       "      <td>1</td>\n",
       "      <td>GoDaddy.com, Inc. (2021-12-23 17:41:05 - 2023-...</td>\n",
       "    </tr>\n",
       "    <tr>\n",
       "      <th>889</th>\n",
       "      <td>37</td>\n",
       "      <td>googleleadservices.com</td>\n",
       "      <td>OpenSSL Group</td>\n",
       "      <td>1</td>\n",
       "      <td>GoDaddy.com, Inc. (2021-12-23 17:41:05 - 2023-...</td>\n",
       "    </tr>\n",
       "  </tbody>\n",
       "</table>\n",
       "</div>"
      ],
      "text/plain": [
       "    index                  domain       issuer_O  conn_count  \\\n",
       "74     50  googleleadservices.com  OpenSSL Group           1   \n",
       "205     4  googleleadservices.com  OpenSSL Group          13   \n",
       "588   205  googleleadservices.com  OpenSSL Group           1   \n",
       "889    37  googleleadservices.com  OpenSSL Group           1   \n",
       "\n",
       "                                         historical_ca  \n",
       "74   GoDaddy.com, Inc. (2021-12-23 17:41:05 - 2023-...  \n",
       "205  GoDaddy.com, Inc. (2021-12-23 17:41:05 - 2023-...  \n",
       "588  GoDaddy.com, Inc. (2021-12-23 17:41:05 - 2023-...  \n",
       "889  GoDaddy.com, Inc. (2021-12-23 17:41:05 - 2023-...  "
      ]
     },
     "execution_count": 6,
     "metadata": {},
     "output_type": "execute_result"
    }
   ],
   "source": [
    "df[df[\"issuer_O\"] == \"OpenSSL Group\"]"
   ]
  },
  {
   "cell_type": "markdown",
   "id": "668fd1ea-4f46-4e55-8136-e4381995056f",
   "metadata": {},
   "source": [
    "# Apeman\n",
    "* Apeman is the CA for tst-ic.nooie.com - confirmed by SSL Certificate Checker\n",
    "  "
   ]
  },
  {
   "cell_type": "code",
   "execution_count": null,
   "id": "67ce535b-f6b0-4762-a24f-04289970f733",
   "metadata": {},
   "outputs": [],
   "source": [
    "df[df[\"issuer_O\"] == \"Apeman\"]"
   ]
  },
  {
   "cell_type": "markdown",
   "id": "2373114c-1a57-4e12-aa7d-f7881a048b52",
   "metadata": {},
   "source": [
    "# Indus\n",
    "* Indus is a historical CA for discover-api.appbazaar.com"
   ]
  },
  {
   "cell_type": "code",
   "execution_count": null,
   "id": "06940a4a-be16-448e-b1f5-fd0dea7fa61c",
   "metadata": {},
   "outputs": [],
   "source": [
    "pd.set_option(\"colwidth\", None)\n",
    "df[df[\"issuer_O\"] == \"Indus\"]"
   ]
  },
  {
   "cell_type": "markdown",
   "id": "3a29e341-4b56-4c0d-a12a-70e9a4b9ea6f",
   "metadata": {},
   "source": [
    "# BigCommerce Pty. Ltd.\n",
    "* BigCommerce is an e-commerce platform\n",
    "* More data needed\n",
    "* Could be switching from a public issuer to a private issuer"
   ]
  },
  {
   "cell_type": "code",
   "execution_count": 11,
   "id": "bb9d8ee5-44a3-4d81-ac7d-8ba71d78c5c9",
   "metadata": {},
   "outputs": [
    {
     "data": {
      "text/html": [
       "<div>\n",
       "<style scoped>\n",
       "    .dataframe tbody tr th:only-of-type {\n",
       "        vertical-align: middle;\n",
       "    }\n",
       "\n",
       "    .dataframe tbody tr th {\n",
       "        vertical-align: top;\n",
       "    }\n",
       "\n",
       "    .dataframe thead th {\n",
       "        text-align: right;\n",
       "    }\n",
       "</style>\n",
       "<table border=\"1\" class=\"dataframe\">\n",
       "  <thead>\n",
       "    <tr style=\"text-align: right;\">\n",
       "      <th></th>\n",
       "      <th>index</th>\n",
       "      <th>domain</th>\n",
       "      <th>issuer_O</th>\n",
       "      <th>conn_count</th>\n",
       "      <th>historical_ca</th>\n",
       "    </tr>\n",
       "  </thead>\n",
       "  <tbody>\n",
       "    <tr>\n",
       "      <th>416</th>\n",
       "      <td>54</td>\n",
       "      <td>testgomerblog.wpengine.com</td>\n",
       "      <td>BigCommerce Pty. Ltd.</td>\n",
       "      <td>3</td>\n",
       "      <td>DigiCert Inc (2019-07-01 00:00:00 - 2021-08-29 12:00:00)</td>\n",
       "    </tr>\n",
       "  </tbody>\n",
       "</table>\n",
       "</div>"
      ],
      "text/plain": [
       "    index                      domain               issuer_O  conn_count  \\\n",
       "416    54  testgomerblog.wpengine.com  BigCommerce Pty. Ltd.           3   \n",
       "\n",
       "                                                historical_ca  \n",
       "416  DigiCert Inc (2019-07-01 00:00:00 - 2021-08-29 12:00:00)  "
      ]
     },
     "execution_count": 11,
     "metadata": {},
     "output_type": "execute_result"
    }
   ],
   "source": [
    "df[df[\"issuer_O\"] == \"BigCommerce Pty. Ltd.\"]"
   ]
  },
  {
   "cell_type": "markdown",
   "id": "7f80794f-cffa-480c-a2a9-5dd8c81a61e4",
   "metadata": {},
   "source": [
    "# eMudhra Technologies Limited\n",
    "* eMudhra Technologies is the certificate issuer of iiitd.edu.in as confirmed by SSL Checker"
   ]
  },
  {
   "cell_type": "code",
   "execution_count": 12,
   "id": "c16a086f-47dd-4e9e-a108-4f675de1fcc6",
   "metadata": {},
   "outputs": [
    {
     "data": {
      "text/html": [
       "<div>\n",
       "<style scoped>\n",
       "    .dataframe tbody tr th:only-of-type {\n",
       "        vertical-align: middle;\n",
       "    }\n",
       "\n",
       "    .dataframe tbody tr th {\n",
       "        vertical-align: top;\n",
       "    }\n",
       "\n",
       "    .dataframe thead th {\n",
       "        text-align: right;\n",
       "    }\n",
       "</style>\n",
       "<table border=\"1\" class=\"dataframe\">\n",
       "  <thead>\n",
       "    <tr style=\"text-align: right;\">\n",
       "      <th></th>\n",
       "      <th>index</th>\n",
       "      <th>domain</th>\n",
       "      <th>issuer_O</th>\n",
       "      <th>conn_count</th>\n",
       "      <th>historical_ca</th>\n",
       "    </tr>\n",
       "  </thead>\n",
       "  <tbody>\n",
       "    <tr>\n",
       "      <th>798</th>\n",
       "      <td>11</td>\n",
       "      <td>www.iiitd.edu.in</td>\n",
       "      <td>eMudhra Technologies Limited</td>\n",
       "      <td>2</td>\n",
       "      <td>COMODO CA Limited (2018-12-21 00:00:00 - 2019-12-21 23:59:59)</td>\n",
       "    </tr>\n",
       "  </tbody>\n",
       "</table>\n",
       "</div>"
      ],
      "text/plain": [
       "    index            domain                      issuer_O  conn_count  \\\n",
       "798    11  www.iiitd.edu.in  eMudhra Technologies Limited           2   \n",
       "\n",
       "                                                     historical_ca  \n",
       "798  COMODO CA Limited (2018-12-21 00:00:00 - 2019-12-21 23:59:59)  "
      ]
     },
     "execution_count": 12,
     "metadata": {},
     "output_type": "execute_result"
    }
   ],
   "source": [
    "df[df[\"issuer_O\"] == \"eMudhra Technologies Limited\"]"
   ]
  },
  {
   "cell_type": "markdown",
   "id": "9def739d-c410-4bc0-9cd1-6c80fd2e9efa",
   "metadata": {},
   "source": [
    "# F-Secur"
   ]
  },
  {
   "cell_type": "code",
   "execution_count": 13,
   "id": "9de1aab6-b69c-4207-bf18-b71662399ae5",
   "metadata": {},
   "outputs": [
    {
     "data": {
      "text/html": [
       "<div>\n",
       "<style scoped>\n",
       "    .dataframe tbody tr th:only-of-type {\n",
       "        vertical-align: middle;\n",
       "    }\n",
       "\n",
       "    .dataframe tbody tr th {\n",
       "        vertical-align: top;\n",
       "    }\n",
       "\n",
       "    .dataframe thead th {\n",
       "        text-align: right;\n",
       "    }\n",
       "</style>\n",
       "<table border=\"1\" class=\"dataframe\">\n",
       "  <thead>\n",
       "    <tr style=\"text-align: right;\">\n",
       "      <th></th>\n",
       "      <th>index</th>\n",
       "      <th>domain</th>\n",
       "      <th>issuer_O</th>\n",
       "      <th>conn_count</th>\n",
       "      <th>historical_ca</th>\n",
       "    </tr>\n",
       "  </thead>\n",
       "  <tbody>\n",
       "    <tr>\n",
       "      <th>1068</th>\n",
       "      <td>130</td>\n",
       "      <td>freedome-prov.freedome-vpn.net</td>\n",
       "      <td>F-Secur</td>\n",
       "      <td>1</td>\n",
       "      <td>F-Secure (2021-12-31 14:46:17 - 2023-12-01 14:46:17)</td>\n",
       "    </tr>\n",
       "  </tbody>\n",
       "</table>\n",
       "</div>"
      ],
      "text/plain": [
       "     index                          domain issuer_O  conn_count  \\\n",
       "1068   130  freedome-prov.freedome-vpn.net  F-Secur           1   \n",
       "\n",
       "                                             historical_ca  \n",
       "1068  F-Secure (2021-12-31 14:46:17 - 2023-12-01 14:46:17)  "
      ]
     },
     "execution_count": 13,
     "metadata": {},
     "output_type": "execute_result"
    }
   ],
   "source": [
    "df[df[\"issuer_O\"] == \"F-Secur\"]"
   ]
  },
  {
   "cell_type": "markdown",
   "id": "1773d9d0-cf2c-4163-b5c7-f6042049461e",
   "metadata": {},
   "source": [
    "# BlackBerry Limited\n",
    "* Likely self-signed sertificate"
   ]
  },
  {
   "cell_type": "code",
   "execution_count": 14,
   "id": "5eaae24e-ffec-44b2-93f2-871e09228e33",
   "metadata": {},
   "outputs": [
    {
     "data": {
      "text/html": [
       "<div>\n",
       "<style scoped>\n",
       "    .dataframe tbody tr th:only-of-type {\n",
       "        vertical-align: middle;\n",
       "    }\n",
       "\n",
       "    .dataframe tbody tr th {\n",
       "        vertical-align: top;\n",
       "    }\n",
       "\n",
       "    .dataframe thead th {\n",
       "        text-align: right;\n",
       "    }\n",
       "</style>\n",
       "<table border=\"1\" class=\"dataframe\">\n",
       "  <thead>\n",
       "    <tr style=\"text-align: right;\">\n",
       "      <th></th>\n",
       "      <th>index</th>\n",
       "      <th>domain</th>\n",
       "      <th>issuer_O</th>\n",
       "      <th>conn_count</th>\n",
       "      <th>historical_ca</th>\n",
       "    </tr>\n",
       "  </thead>\n",
       "  <tbody>\n",
       "    <tr>\n",
       "      <th>1157</th>\n",
       "      <td>149</td>\n",
       "      <td>bsg--us-s60201613.us.bbsecure.com</td>\n",
       "      <td>BlackBerry Limited</td>\n",
       "      <td>79</td>\n",
       "      <td>['DigiCert Inc (2022-06-10 - 2023-07-11)', '\"thawte, Inc.\" (2015-12-03 - 2016-12-02)', '\"Thawte, Inc.\" (2013-03-06 - 2014-03-06)']</td>\n",
       "    </tr>\n",
       "  </tbody>\n",
       "</table>\n",
       "</div>"
      ],
      "text/plain": [
       "     index                             domain            issuer_O  conn_count  \\\n",
       "1157   149  bsg--us-s60201613.us.bbsecure.com  BlackBerry Limited          79   \n",
       "\n",
       "                                                                                                                           historical_ca  \n",
       "1157  ['DigiCert Inc (2022-06-10 - 2023-07-11)', '\"thawte, Inc.\" (2015-12-03 - 2016-12-02)', '\"Thawte, Inc.\" (2013-03-06 - 2014-03-06)']  "
      ]
     },
     "execution_count": 14,
     "metadata": {},
     "output_type": "execute_result"
    }
   ],
   "source": [
    "df[df[\"issuer_O\"] == \"BlackBerry Limited\"]"
   ]
  },
  {
   "cell_type": "markdown",
   "id": "96681f3e-8369-43b2-ac42-36f774c69b00",
   "metadata": {},
   "source": [
    "# AC Camerfirma S.A.\n",
    "* Could be switching from a self-signed or private certificate to a public certificate"
   ]
  },
  {
   "cell_type": "code",
   "execution_count": 15,
   "id": "52010f5b-a48b-4c53-a6d0-7076868bfab0",
   "metadata": {},
   "outputs": [
    {
     "data": {
      "text/html": [
       "<div>\n",
       "<style scoped>\n",
       "    .dataframe tbody tr th:only-of-type {\n",
       "        vertical-align: middle;\n",
       "    }\n",
       "\n",
       "    .dataframe tbody tr th {\n",
       "        vertical-align: top;\n",
       "    }\n",
       "\n",
       "    .dataframe thead th {\n",
       "        text-align: right;\n",
       "    }\n",
       "</style>\n",
       "<table border=\"1\" class=\"dataframe\">\n",
       "  <thead>\n",
       "    <tr style=\"text-align: right;\">\n",
       "      <th></th>\n",
       "      <th>index</th>\n",
       "      <th>domain</th>\n",
       "      <th>issuer_O</th>\n",
       "      <th>conn_count</th>\n",
       "      <th>historical_ca</th>\n",
       "    </tr>\n",
       "  </thead>\n",
       "  <tbody>\n",
       "    <tr>\n",
       "      <th>1186</th>\n",
       "      <td>3</td>\n",
       "      <td>www.aracena.es</td>\n",
       "      <td>AC Camerfirma S.A.</td>\n",
       "      <td>2</td>\n",
       "      <td>Let's Encrypt (2023-02-14 - 2023-05-15)</td>\n",
       "    </tr>\n",
       "  </tbody>\n",
       "</table>\n",
       "</div>"
      ],
      "text/plain": [
       "     index          domain            issuer_O  conn_count  \\\n",
       "1186     3  www.aracena.es  AC Camerfirma S.A.           2   \n",
       "\n",
       "                                historical_ca  \n",
       "1186  Let's Encrypt (2023-02-14 - 2023-05-15)  "
      ]
     },
     "execution_count": 15,
     "metadata": {},
     "output_type": "execute_result"
    }
   ],
   "source": [
    "df[df[\"issuer_O\"] == \"AC Camerfirma S.A.\"]"
   ]
  },
  {
   "cell_type": "markdown",
   "id": "f2d9084b-44a0-4d70-9f2f-8fb750736583",
   "metadata": {},
   "source": [
    "# Snake Oil\n",
    "* Could be switching from a private issuer to a public issuer"
   ]
  },
  {
   "cell_type": "code",
   "execution_count": 16,
   "id": "3e496a09-f8cf-4715-9670-547e10569f0e",
   "metadata": {},
   "outputs": [
    {
     "data": {
      "text/html": [
       "<div>\n",
       "<style scoped>\n",
       "    .dataframe tbody tr th:only-of-type {\n",
       "        vertical-align: middle;\n",
       "    }\n",
       "\n",
       "    .dataframe tbody tr th {\n",
       "        vertical-align: top;\n",
       "    }\n",
       "\n",
       "    .dataframe thead th {\n",
       "        text-align: right;\n",
       "    }\n",
       "</style>\n",
       "<table border=\"1\" class=\"dataframe\">\n",
       "  <thead>\n",
       "    <tr style=\"text-align: right;\">\n",
       "      <th></th>\n",
       "      <th>index</th>\n",
       "      <th>domain</th>\n",
       "      <th>issuer_O</th>\n",
       "      <th>conn_count</th>\n",
       "      <th>historical_ca</th>\n",
       "    </tr>\n",
       "  </thead>\n",
       "  <tbody>\n",
       "    <tr>\n",
       "      <th>1418</th>\n",
       "      <td>465</td>\n",
       "      <td>www.cartesfrance.fr</td>\n",
       "      <td>Snake Oil</td>\n",
       "      <td>1</td>\n",
       "      <td>Let's Encrypt (2023-06-05 - 2023-09-03)</td>\n",
       "    </tr>\n",
       "  </tbody>\n",
       "</table>\n",
       "</div>"
      ],
      "text/plain": [
       "     index               domain   issuer_O  conn_count  \\\n",
       "1418   465  www.cartesfrance.fr  Snake Oil           1   \n",
       "\n",
       "                                historical_ca  \n",
       "1418  Let's Encrypt (2023-06-05 - 2023-09-03)  "
      ]
     },
     "execution_count": 16,
     "metadata": {},
     "output_type": "execute_result"
    }
   ],
   "source": [
    "df[df[\"issuer_O\"] == \"Snake Oil\"]"
   ]
  },
  {
   "cell_type": "markdown",
   "id": "8c672154-badd-4640-bec5-a9e3ebc3fab7",
   "metadata": {},
   "source": [
    "# Ruckus Wireless Inc."
   ]
  },
  {
   "cell_type": "code",
   "execution_count": 17,
   "id": "7c2964d9-1a98-4446-9d4b-6878f22e22c4",
   "metadata": {},
   "outputs": [
    {
     "data": {
      "text/html": [
       "<div>\n",
       "<style scoped>\n",
       "    .dataframe tbody tr th:only-of-type {\n",
       "        vertical-align: middle;\n",
       "    }\n",
       "\n",
       "    .dataframe tbody tr th {\n",
       "        vertical-align: top;\n",
       "    }\n",
       "\n",
       "    .dataframe thead th {\n",
       "        text-align: right;\n",
       "    }\n",
       "</style>\n",
       "<table border=\"1\" class=\"dataframe\">\n",
       "  <thead>\n",
       "    <tr style=\"text-align: right;\">\n",
       "      <th></th>\n",
       "      <th>index</th>\n",
       "      <th>domain</th>\n",
       "      <th>issuer_O</th>\n",
       "      <th>conn_count</th>\n",
       "      <th>historical_ca</th>\n",
       "    </tr>\n",
       "  </thead>\n",
       "  <tbody>\n",
       "    <tr>\n",
       "      <th>1442</th>\n",
       "      <td>10</td>\n",
       "      <td>7UyKlSdN.virginia.edu</td>\n",
       "      <td>Ruckus Wireless Inc.</td>\n",
       "      <td>1</td>\n",
       "      <td>['Internet2 (2022-11-14 - 2023-11-14)', 'DigiCert Inc (2008-07-09 - 2011-07-13)', 'ChainedSSL (2005-03-31 - 2007-07-01)']</td>\n",
       "    </tr>\n",
       "  </tbody>\n",
       "</table>\n",
       "</div>"
      ],
      "text/plain": [
       "     index                 domain              issuer_O  conn_count  \\\n",
       "1442    10  7UyKlSdN.virginia.edu  Ruckus Wireless Inc.           1   \n",
       "\n",
       "                                                                                                                  historical_ca  \n",
       "1442  ['Internet2 (2022-11-14 - 2023-11-14)', 'DigiCert Inc (2008-07-09 - 2011-07-13)', 'ChainedSSL (2005-03-31 - 2007-07-01)']  "
      ]
     },
     "execution_count": 17,
     "metadata": {},
     "output_type": "execute_result"
    }
   ],
   "source": [
    "df[df[\"issuer_O\"] == \"Ruckus Wireless Inc.\"]"
   ]
  },
  {
   "cell_type": "markdown",
   "id": "20504d18-af04-4a21-9cc6-a826c5c81d12",
   "metadata": {},
   "source": [
    "# E-TUGRA EBG BILISIM TEKNOLOJILERI VE HIZMETLERI ANONIM SIRKETI"
   ]
  },
  {
   "cell_type": "code",
   "execution_count": 18,
   "id": "84b529c1-b60f-4453-aec7-01edeecbf01a",
   "metadata": {},
   "outputs": [
    {
     "data": {
      "text/html": [
       "<div>\n",
       "<style scoped>\n",
       "    .dataframe tbody tr th:only-of-type {\n",
       "        vertical-align: middle;\n",
       "    }\n",
       "\n",
       "    .dataframe tbody tr th {\n",
       "        vertical-align: top;\n",
       "    }\n",
       "\n",
       "    .dataframe thead th {\n",
       "        text-align: right;\n",
       "    }\n",
       "</style>\n",
       "<table border=\"1\" class=\"dataframe\">\n",
       "  <thead>\n",
       "    <tr style=\"text-align: right;\">\n",
       "      <th></th>\n",
       "      <th>index</th>\n",
       "      <th>domain</th>\n",
       "      <th>issuer_O</th>\n",
       "      <th>conn_count</th>\n",
       "      <th>historical_ca</th>\n",
       "    </tr>\n",
       "  </thead>\n",
       "  <tbody>\n",
       "    <tr>\n",
       "      <th>1461</th>\n",
       "      <td>34</td>\n",
       "      <td>esinav.osym.gov.tr</td>\n",
       "      <td>E-TUGRA EBG BILISIM TEKNOLOJILERI VE HIZMETLERI ANONIM SIRKETI</td>\n",
       "      <td>2</td>\n",
       "      <td>E-Tuğra EBG Bilişim Teknolojileri ve Hizmetleri A.Ş. (2020-08-11 08:07:00 - 2022-08-11 08:07:00)</td>\n",
       "    </tr>\n",
       "    <tr>\n",
       "      <th>1462</th>\n",
       "      <td>52</td>\n",
       "      <td>www.osym.gov.tr</td>\n",
       "      <td>E-TUGRA EBG BILISIM TEKNOLOJILERI VE HIZMETLERI ANONIM SIRKETI</td>\n",
       "      <td>6</td>\n",
       "      <td>['E-Tuğra EBG Bilişim Teknolojileri ve Hizmetleri A.Ş. (2020-08-11 08:07:00 - 2022-08-11 08:07:00)', 'GlobalSign nv-sa (2018-07-13 15:46:20 - 2020-07-13 15:46:20)']</td>\n",
       "    </tr>\n",
       "  </tbody>\n",
       "</table>\n",
       "</div>"
      ],
      "text/plain": [
       "     index              domain  \\\n",
       "1461    34  esinav.osym.gov.tr   \n",
       "1462    52     www.osym.gov.tr   \n",
       "\n",
       "                                                            issuer_O  \\\n",
       "1461  E-TUGRA EBG BILISIM TEKNOLOJILERI VE HIZMETLERI ANONIM SIRKETI   \n",
       "1462  E-TUGRA EBG BILISIM TEKNOLOJILERI VE HIZMETLERI ANONIM SIRKETI   \n",
       "\n",
       "      conn_count  \\\n",
       "1461           2   \n",
       "1462           6   \n",
       "\n",
       "                                                                                                                                                             historical_ca  \n",
       "1461                                                                      E-Tuğra EBG Bilişim Teknolojileri ve Hizmetleri A.Ş. (2020-08-11 08:07:00 - 2022-08-11 08:07:00)  \n",
       "1462  ['E-Tuğra EBG Bilişim Teknolojileri ve Hizmetleri A.Ş. (2020-08-11 08:07:00 - 2022-08-11 08:07:00)', 'GlobalSign nv-sa (2018-07-13 15:46:20 - 2020-07-13 15:46:20)']  "
      ]
     },
     "execution_count": 18,
     "metadata": {},
     "output_type": "execute_result"
    }
   ],
   "source": [
    "df[df[\"issuer_O\"] == \"E-TUGRA EBG BILISIM TEKNOLOJILERI VE HIZMETLERI ANONIM SIRKETI\"]"
   ]
  }
 ],
 "metadata": {
  "kernelspec": {
   "display_name": "Python 3 (ipykernel)",
   "language": "python",
   "name": "python3"
  },
  "language_info": {
   "codemirror_mode": {
    "name": "ipython",
    "version": 3
   },
   "file_extension": ".py",
   "mimetype": "text/x-python",
   "name": "python",
   "nbconvert_exporter": "python",
   "pygments_lexer": "ipython3",
   "version": "3.8.10"
  }
 },
 "nbformat": 4,
 "nbformat_minor": 5
}
