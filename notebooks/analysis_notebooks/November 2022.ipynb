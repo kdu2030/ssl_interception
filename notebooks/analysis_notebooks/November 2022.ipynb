{
 "cells": [
  {
   "cell_type": "code",
   "execution_count": 1,
   "metadata": {},
   "outputs": [],
   "source": [
    "from analysis_helpers.intercept_helpers import process_parquet_dir\n",
    "import pandas as pd"
   ]
  },
  {
   "cell_type": "code",
   "execution_count": 3,
   "metadata": {},
   "outputs": [],
   "source": [
    "data_path = \"/mnt/chaseproject/uva/kd5eyn/intercept_data/2022-11-01_2022-11-30/\"\n",
    "df = process_parquet_dir(data_path)"
   ]
  },
  {
   "cell_type": "code",
   "execution_count": 4,
   "metadata": {},
   "outputs": [
    {
     "name": "stdout",
     "output_type": "stream",
     "text": [
      "CloudFlare\n",
      "Talking Monkey Media\n",
      "N=67FxPju\n",
      "Free Ad Blocker\n",
      "Acme C\n",
      "nQualifier=1xKEXgaI-4tSK-4PRz-52RJ-227bMeyOuNLI,CN=1msQj6pBELU 6Nwi 1\n",
      "N=DO5OrizgLPU\n",
      "N=13MPnX0jgs,DC=despreinte,DC=loca\n",
      "Opera Software ASA\n",
      "N=1IlTtQ 2hTX11qddI1 57JOJKKD\n",
      "N=7Fw6H 2cMYVTs\n",
      "nQualifier=6crrflRY-1f5g-2aYz-1eg6-7kpF0Kd05Cwg,CN=1msQj6pBELU 6Nwi 1\n",
      "Leido\n",
      "VK\n",
      "N=4K2VsoWa\n",
      "Temporary CA a0305fb9-1d21-4142-9f97-e1c6efdab8f\n",
      "Palo-Alto-Networks-Inc.\n",
      "N=www.akmatlzkxp.co\n",
      "N=www.j3ckatqur.co\n",
      "Bad Server Certificate [invalid server certificate]\n",
      "SC Johnson\n",
      "snap-cloud\n",
      "N=QJldbo1\n",
      "N=1HYakN5S4zjWaE\n",
      "GlobalSign nv-sa\n",
      "Kabam Games Inc.\n",
      "N=5jANS_HoC46Ta_5NwR_7e4ao\n",
      "Insta\n",
      "N=4fsW\n",
      "McAfee Inc.\n",
      "VeriSign\n",
      "DigiCert Global Root CA\n",
      "N=6YehJPbHk3,DC=intra,DC=renhsc,DC=co\n",
      "N=u3dwBzM 4KPuUO 5qFJM5 57JOJKKDi 7,DC=tiger,DC=loca\n",
      "Peloton Interactive Inc\n",
      "Xero\n",
      "Forcepoint\n",
      "Verizon Enterprise Solutions\n",
      "Cloudflare\n",
      "GeoTrust Inc.\n",
      "VMware\n",
      "N=www.mu77my6ebmvgu.co\n",
      "Positive Software\n",
      "N=6Mi7ZTi\n",
      "N=cert-manager.loca\n",
      "N=www.uauyytn62i.co\n",
      "ControlScan\n",
      "Unipay Root CA\n",
      "N=5Y7uLU-1V,DC=sunquestinfo,DC=co\n",
      "RMC Events\n",
      "GoDaddy.com\n",
      "N=2hsqsq-2XqsqkB\n",
      "BlackBerry Limited\n",
      "N=Qy3bASvC0SiInpU7F5nC9d,DC=RADEXT,DC=NE\n",
      "OpenSSL Group\n",
      "LBE\n",
      "N=3QC07n 22JpcB 5lja1WF 1\n",
      "N=6Fk1JiB 1kKtVMy 11d\n",
      "N=301t0FH-6aTAU4\n",
      "Aprima Medical Software\n",
      "N=CESC-CORE1-MSWG-1.cov.virginia.go\n",
      "N=3GiQMToo4l\n",
      "N=5a8uEGx 73oFVybUf 5lja1WF 1V \n",
      "N=uGPnM2n4wJj 5EbvZ8tQOb 1V,DC=healthsouth,DC=insidehrc,DC=co\n",
      "GSM Associatio\n",
      "WanBa\n",
      "N=3cN-6csb-4fkbjMa-1V,DC=na,DC=fti,DC=loca\n",
      "Humana Inc.\n",
      "N=1tKvH\n",
      "N=www.2lp7v3lvhb72fm.co\n",
      "N=6ZWu0g3-1O-69b-1\n",
      "Northrop Grumman Corporation\n",
      "N=2SF-6\n",
      "DigiCert#Inc\n",
      "DigiCert\"Inc\n",
      "I\n",
      "DigiCert!Inc\n",
      "Lockheed Martin Corporation\n",
      "StartCom Ltd.\n",
      "N=16AWS-71VY-4wkchEE-2MY0LX\n",
      "Japan Registry Services Co.\n",
      "N=5J-2vxp 1V 1u,DC=tp-link,DC=com,DC=c\n",
      "Entrust\n",
      "N=www.ov6tbqvhyrgq5qp.co\n",
      "Convo Communications\n",
      "XM\n",
      "MANDIANT\n",
      "N=6vaMXDqR\n",
      "Mimecast Services Ltd\n",
      "nQualifier=BxrpPXKO-61G0-KFaG-2ZmD-2F1hPBLhk5g8,CN=1msQj6pBELU 6Nwi 1\n",
      "N=www.2ejodrdzyjkvzrw7l.co\n",
      "N=24waZVIQmX,DC=merkle,DC=loca\n",
      "Sectigo Limited\n",
      "D. E. Shaw & Co.\n",
      "Aruba Networks\n",
      "Raya Abre Derak Pars PJSC\n",
      "N=www.5j7qoyy3xsngowu6x.co\n",
      "\n",
      "N=www.2tagrekknyzbu.co\n"
     ]
    }
   ],
   "source": [
    "unique_issuers = df[\"issuer_O\"].unique()\n",
    "for issuer in unique_issuers:\n",
    "    print(issuer)"
   ]
  },
  {
   "attachments": {},
   "cell_type": "markdown",
   "metadata": {},
   "source": [
    "**Talking Monkey Media**\n",
    "* Richmond based digital marketing business\n",
    "* https://talkingmonkeymedia.com/\n",
    "* cvlas.org - Central Virginia Legal Aid Society - non-profit that provides free legal assistance"
   ]
  },
  {
   "cell_type": "code",
   "execution_count": 6,
   "metadata": {},
   "outputs": [
    {
     "data": {
      "text/html": [
       "<div>\n",
       "<style scoped>\n",
       "    .dataframe tbody tr th:only-of-type {\n",
       "        vertical-align: middle;\n",
       "    }\n",
       "\n",
       "    .dataframe tbody tr th {\n",
       "        vertical-align: top;\n",
       "    }\n",
       "\n",
       "    .dataframe thead th {\n",
       "        text-align: right;\n",
       "    }\n",
       "</style>\n",
       "<table border=\"1\" class=\"dataframe\">\n",
       "  <thead>\n",
       "    <tr style=\"text-align: right;\">\n",
       "      <th></th>\n",
       "      <th>index</th>\n",
       "      <th>domain</th>\n",
       "      <th>issuer_O</th>\n",
       "      <th>conn_count</th>\n",
       "      <th>historical_ca</th>\n",
       "    </tr>\n",
       "  </thead>\n",
       "  <tbody>\n",
       "    <tr>\n",
       "      <th>2</th>\n",
       "      <td>7</td>\n",
       "      <td>cvlas.org</td>\n",
       "      <td>Talking Monkey Media</td>\n",
       "      <td>5</td>\n",
       "      <td>[\"Let's Encrypt (2022-09-18 - 2022-12-17)\", '\"GoDaddy.com, Inc.\" (2022-02-03 - 2023-03-07)']</td>\n",
       "    </tr>\n",
       "  </tbody>\n",
       "</table>\n",
       "</div>"
      ],
      "text/plain": [
       "  index     domain              issuer_O  conn_count  \\\n",
       "2     7  cvlas.org  Talking Monkey Media           5   \n",
       "\n",
       "                                                                                  historical_ca  \n",
       "2  [\"Let's Encrypt (2022-09-18 - 2022-12-17)\", '\"GoDaddy.com, Inc.\" (2022-02-03 - 2023-03-07)']  "
      ]
     },
     "execution_count": 6,
     "metadata": {},
     "output_type": "execute_result"
    }
   ],
   "source": [
    "pd.set_option(\"colwidth\", None)\n",
    "df[df[\"issuer_O\"] == \"Talking Monkey Media\"]"
   ]
  },
  {
   "attachments": {},
   "cell_type": "markdown",
   "metadata": {},
   "source": [
    "**Free Ad Blocker**"
   ]
  },
  {
   "attachments": {},
   "cell_type": "markdown",
   "metadata": {},
   "source": [
    "* Likely case of SSL Interception"
   ]
  },
  {
   "cell_type": "code",
   "execution_count": 7,
   "metadata": {},
   "outputs": [
    {
     "data": {
      "text/html": [
       "<div>\n",
       "<style scoped>\n",
       "    .dataframe tbody tr th:only-of-type {\n",
       "        vertical-align: middle;\n",
       "    }\n",
       "\n",
       "    .dataframe tbody tr th {\n",
       "        vertical-align: top;\n",
       "    }\n",
       "\n",
       "    .dataframe thead th {\n",
       "        text-align: right;\n",
       "    }\n",
       "</style>\n",
       "<table border=\"1\" class=\"dataframe\">\n",
       "  <thead>\n",
       "    <tr style=\"text-align: right;\">\n",
       "      <th></th>\n",
       "      <th>index</th>\n",
       "      <th>domain</th>\n",
       "      <th>issuer_O</th>\n",
       "      <th>conn_count</th>\n",
       "      <th>historical_ca</th>\n",
       "    </tr>\n",
       "  </thead>\n",
       "  <tbody>\n",
       "    <tr>\n",
       "      <th>23</th>\n",
       "      <td>22</td>\n",
       "      <td>www.google.com</td>\n",
       "      <td>Free Ad Blocker</td>\n",
       "      <td>2</td>\n",
       "      <td>Google Trust Services LLC (2023-02-20 09:15:34 - 2023-05-15 09:15:33)</td>\n",
       "    </tr>\n",
       "    <tr>\n",
       "      <th>578</th>\n",
       "      <td>61</td>\n",
       "      <td>www.google.com</td>\n",
       "      <td>Free Ad Blocker</td>\n",
       "      <td>1</td>\n",
       "      <td>Google Trust Services LLC (2023-02-20 09:15:34 - 2023-05-15 09:15:33)</td>\n",
       "    </tr>\n",
       "    <tr>\n",
       "      <th>844</th>\n",
       "      <td>4</td>\n",
       "      <td>www.google.com</td>\n",
       "      <td>Free Ad Blocker</td>\n",
       "      <td>1</td>\n",
       "      <td>['Google Trust Services LLC (2022-11-07 - 2023-01-30)', 'Google Trust Services (2017-07-28 - 2017-10-20)', \"Let's Encrypt (2020-01-29 - 2020-04-28)\", 'Google Inc (2013-01-03 - 2013-06-07)', 'Thawte Consulting (Pty) Ltd. (2009-12-18 - 2011-12-18)', '\"cPanel, Inc.\" (2017-11-01 - 2018-01-30)', 'COMODO CA Limited (2009-02-20 - 2009-05-21)', 'The USERTRUST Network (2011-03-15 - 2014-03-14)', '\"thawte, Inc.\" (2015-09-14 - 2015-09-15)']</td>\n",
       "    </tr>\n",
       "    <tr>\n",
       "      <th>1530</th>\n",
       "      <td>12</td>\n",
       "      <td>www.google.com</td>\n",
       "      <td>Free Ad Blocker</td>\n",
       "      <td>2</td>\n",
       "      <td>Google Trust Services LLC (2023-02-20 09:15:34 - 2023-05-15 09:15:33)</td>\n",
       "    </tr>\n",
       "    <tr>\n",
       "      <th>1928</th>\n",
       "      <td>6</td>\n",
       "      <td>www.google.com</td>\n",
       "      <td>Free Ad Blocker</td>\n",
       "      <td>4</td>\n",
       "      <td>['Google Trust Services LLC (2022-11-02 - 2023-01-25)', 'Google Trust Services (2017-07-28 - 2017-10-20)', \"Let's Encrypt (2020-01-29 - 2020-04-28)\", 'Google Inc (2013-01-03 - 2013-06-07)', 'Thawte Consulting (Pty) Ltd. (2009-12-18 - 2011-12-18)', '\"cPanel, Inc.\" (2017-11-01 - 2018-01-30)', 'COMODO CA Limited (2009-02-20 - 2009-05-21)', 'The USERTRUST Network (2011-03-15 - 2014-03-14)', '\"thawte, Inc.\" (2015-09-14 - 2015-09-15)']</td>\n",
       "    </tr>\n",
       "    <tr>\n",
       "      <th>2080</th>\n",
       "      <td>5</td>\n",
       "      <td>www.google.com</td>\n",
       "      <td>Free Ad Blocker</td>\n",
       "      <td>3</td>\n",
       "      <td>Google Trust Services LLC (2023-02-20 09:15:34 - 2023-05-15 09:15:33)</td>\n",
       "    </tr>\n",
       "    <tr>\n",
       "      <th>2325</th>\n",
       "      <td>4</td>\n",
       "      <td>www.google.com</td>\n",
       "      <td>Free Ad Blocker</td>\n",
       "      <td>5</td>\n",
       "      <td>['Google Trust Services LLC (2022-11-14 - 2023-02-06)', 'Google Trust Services (2017-07-28 - 2017-10-20)', \"Let's Encrypt (2020-01-29 - 2020-04-28)\", 'Google Inc (2013-01-03 - 2013-06-07)', 'Thawte Consulting (Pty) Ltd. (2009-12-18 - 2011-12-18)', '\"cPanel, Inc.\" (2017-11-01 - 2018-01-30)', 'COMODO CA Limited (2009-02-20 - 2009-05-21)', 'The USERTRUST Network (2011-03-15 - 2014-03-14)', '\"thawte, Inc.\" (2015-09-14 - 2015-09-15)']</td>\n",
       "    </tr>\n",
       "  </tbody>\n",
       "</table>\n",
       "</div>"
      ],
      "text/plain": [
       "     index          domain         issuer_O  conn_count  \\\n",
       "23      22  www.google.com  Free Ad Blocker           2   \n",
       "578     61  www.google.com  Free Ad Blocker           1   \n",
       "844      4  www.google.com  Free Ad Blocker           1   \n",
       "1530    12  www.google.com  Free Ad Blocker           2   \n",
       "1928     6  www.google.com  Free Ad Blocker           4   \n",
       "2080     5  www.google.com  Free Ad Blocker           3   \n",
       "2325     4  www.google.com  Free Ad Blocker           5   \n",
       "\n",
       "                                                                                                                                                                                                                                                                                                                                                                                                                                          historical_ca  \n",
       "23                                                                                                                                                                                                                                                                                                                                                                                Google Trust Services LLC (2023-02-20 09:15:34 - 2023-05-15 09:15:33)  \n",
       "578                                                                                                                                                                                                                                                                                                                                                                               Google Trust Services LLC (2023-02-20 09:15:34 - 2023-05-15 09:15:33)  \n",
       "844   ['Google Trust Services LLC (2022-11-07 - 2023-01-30)', 'Google Trust Services (2017-07-28 - 2017-10-20)', \"Let's Encrypt (2020-01-29 - 2020-04-28)\", 'Google Inc (2013-01-03 - 2013-06-07)', 'Thawte Consulting (Pty) Ltd. (2009-12-18 - 2011-12-18)', '\"cPanel, Inc.\" (2017-11-01 - 2018-01-30)', 'COMODO CA Limited (2009-02-20 - 2009-05-21)', 'The USERTRUST Network (2011-03-15 - 2014-03-14)', '\"thawte, Inc.\" (2015-09-14 - 2015-09-15)']  \n",
       "1530                                                                                                                                                                                                                                                                                                                                                                              Google Trust Services LLC (2023-02-20 09:15:34 - 2023-05-15 09:15:33)  \n",
       "1928  ['Google Trust Services LLC (2022-11-02 - 2023-01-25)', 'Google Trust Services (2017-07-28 - 2017-10-20)', \"Let's Encrypt (2020-01-29 - 2020-04-28)\", 'Google Inc (2013-01-03 - 2013-06-07)', 'Thawte Consulting (Pty) Ltd. (2009-12-18 - 2011-12-18)', '\"cPanel, Inc.\" (2017-11-01 - 2018-01-30)', 'COMODO CA Limited (2009-02-20 - 2009-05-21)', 'The USERTRUST Network (2011-03-15 - 2014-03-14)', '\"thawte, Inc.\" (2015-09-14 - 2015-09-15)']  \n",
       "2080                                                                                                                                                                                                                                                                                                                                                                              Google Trust Services LLC (2023-02-20 09:15:34 - 2023-05-15 09:15:33)  \n",
       "2325  ['Google Trust Services LLC (2022-11-14 - 2023-02-06)', 'Google Trust Services (2017-07-28 - 2017-10-20)', \"Let's Encrypt (2020-01-29 - 2020-04-28)\", 'Google Inc (2013-01-03 - 2013-06-07)', 'Thawte Consulting (Pty) Ltd. (2009-12-18 - 2011-12-18)', '\"cPanel, Inc.\" (2017-11-01 - 2018-01-30)', 'COMODO CA Limited (2009-02-20 - 2009-05-21)', 'The USERTRUST Network (2011-03-15 - 2014-03-14)', '\"thawte, Inc.\" (2015-09-14 - 2015-09-15)']  "
      ]
     },
     "execution_count": 7,
     "metadata": {},
     "output_type": "execute_result"
    }
   ],
   "source": [
    "df[df[\"issuer_O\"] == \"Free Ad Blocker\"]"
   ]
  },
  {
   "attachments": {},
   "cell_type": "markdown",
   "metadata": {},
   "source": [
    "**SC Johnson**"
   ]
  },
  {
   "attachments": {},
   "cell_type": "markdown",
   "metadata": {},
   "source": [
    "* Likely case of SSL Interception\n",
    "* SC Johnson is a manufacturer of cleaning supplies"
   ]
  },
  {
   "cell_type": "code",
   "execution_count": 8,
   "metadata": {},
   "outputs": [
    {
     "data": {
      "text/html": [
       "<div>\n",
       "<style scoped>\n",
       "    .dataframe tbody tr th:only-of-type {\n",
       "        vertical-align: middle;\n",
       "    }\n",
       "\n",
       "    .dataframe tbody tr th {\n",
       "        vertical-align: top;\n",
       "    }\n",
       "\n",
       "    .dataframe thead th {\n",
       "        text-align: right;\n",
       "    }\n",
       "</style>\n",
       "<table border=\"1\" class=\"dataframe\">\n",
       "  <thead>\n",
       "    <tr style=\"text-align: right;\">\n",
       "      <th></th>\n",
       "      <th>index</th>\n",
       "      <th>domain</th>\n",
       "      <th>issuer_O</th>\n",
       "      <th>conn_count</th>\n",
       "      <th>historical_ca</th>\n",
       "    </tr>\n",
       "  </thead>\n",
       "  <tbody>\n",
       "    <tr>\n",
       "      <th>253</th>\n",
       "      <td>41</td>\n",
       "      <td>api.msn.com</td>\n",
       "      <td>SC Johnson</td>\n",
       "      <td>1</td>\n",
       "      <td>Microsoft Corporation (2022-09-08 23:53:46 - 2023-09-08 23:53:46)</td>\n",
       "    </tr>\n",
       "    <tr>\n",
       "      <th>257</th>\n",
       "      <td>54</td>\n",
       "      <td>searchhighlights.bing.com</td>\n",
       "      <td>SC Johnson</td>\n",
       "      <td>1</td>\n",
       "      <td>Microsoft Corporation (2022-11-01 - 2023-10-27)</td>\n",
       "    </tr>\n",
       "    <tr>\n",
       "      <th>258</th>\n",
       "      <td>64</td>\n",
       "      <td>arc.msn.com</td>\n",
       "      <td>SC Johnson</td>\n",
       "      <td>1</td>\n",
       "      <td>Microsoft Corporation (2022-09-15 - 2023-09-10)</td>\n",
       "    </tr>\n",
       "    <tr>\n",
       "      <th>262</th>\n",
       "      <td>95</td>\n",
       "      <td>onedriveclubprodbn20004.blob.core.windows.net</td>\n",
       "      <td>SC Johnson</td>\n",
       "      <td>1</td>\n",
       "      <td>Microsoft Corporation (2022-11-17 00:51:35 - 2023-11-12 00:51:35)</td>\n",
       "    </tr>\n",
       "    <tr>\n",
       "      <th>263</th>\n",
       "      <td>98</td>\n",
       "      <td>login.live.com</td>\n",
       "      <td>SC Johnson</td>\n",
       "      <td>1</td>\n",
       "      <td>DigiCert Inc (2023-04-02 00:00:00 - 2024-04-02 23:59:59)</td>\n",
       "    </tr>\n",
       "    <tr>\n",
       "      <th>264</th>\n",
       "      <td>102</td>\n",
       "      <td>settings-win.data.microsoft.com</td>\n",
       "      <td>SC Johnson</td>\n",
       "      <td>3</td>\n",
       "      <td>Microsoft Corporation (2014-10-08 - 2016-01-08)</td>\n",
       "    </tr>\n",
       "    <tr>\n",
       "      <th>1191</th>\n",
       "      <td>21</td>\n",
       "      <td>ris.api.iris.microsoft.com</td>\n",
       "      <td>SC Johnson</td>\n",
       "      <td>1</td>\n",
       "      <td>Microsoft Corporation (2022-05-09 08:03:20 - 2023-05-04 08:03:20)</td>\n",
       "    </tr>\n",
       "    <tr>\n",
       "      <th>1194</th>\n",
       "      <td>131</td>\n",
       "      <td>api.msn.com</td>\n",
       "      <td>SC Johnson</td>\n",
       "      <td>2</td>\n",
       "      <td>Microsoft Corporation (2018-05-04 - 2020-05-04)</td>\n",
       "    </tr>\n",
       "    <tr>\n",
       "      <th>1195</th>\n",
       "      <td>193</td>\n",
       "      <td>arc.msn.com</td>\n",
       "      <td>SC Johnson</td>\n",
       "      <td>2</td>\n",
       "      <td>Microsoft Corporation (2023-02-03 23:31:45 - 2024-01-29 23:31:45)</td>\n",
       "    </tr>\n",
       "    <tr>\n",
       "      <th>1197</th>\n",
       "      <td>287</td>\n",
       "      <td>login.live.com</td>\n",
       "      <td>SC Johnson</td>\n",
       "      <td>14</td>\n",
       "      <td>DigiCert Inc (2023-04-02 00:00:00 - 2024-04-02 23:59:59)</td>\n",
       "    </tr>\n",
       "    <tr>\n",
       "      <th>1198</th>\n",
       "      <td>328</td>\n",
       "      <td>static.dataservices.hp.com</td>\n",
       "      <td>SC Johnson</td>\n",
       "      <td>1</td>\n",
       "      <td>['DigiCert Inc (2022-10-03 - 2023-10-03)', 'Symantec Corporation (2015-10-07 - 2016-10-07)', '\"VeriSign, Inc.\" (2014-10-10 - 2015-10-11)']</td>\n",
       "    </tr>\n",
       "  </tbody>\n",
       "</table>\n",
       "</div>"
      ],
      "text/plain": [
       "     index                                         domain    issuer_O  \\\n",
       "253     41                                    api.msn.com  SC Johnson   \n",
       "257     54                      searchhighlights.bing.com  SC Johnson   \n",
       "258     64                                    arc.msn.com  SC Johnson   \n",
       "262     95  onedriveclubprodbn20004.blob.core.windows.net  SC Johnson   \n",
       "263     98                                 login.live.com  SC Johnson   \n",
       "264    102                settings-win.data.microsoft.com  SC Johnson   \n",
       "1191    21                     ris.api.iris.microsoft.com  SC Johnson   \n",
       "1194   131                                    api.msn.com  SC Johnson   \n",
       "1195   193                                    arc.msn.com  SC Johnson   \n",
       "1197   287                                 login.live.com  SC Johnson   \n",
       "1198   328                     static.dataservices.hp.com  SC Johnson   \n",
       "\n",
       "      conn_count  \\\n",
       "253            1   \n",
       "257            1   \n",
       "258            1   \n",
       "262            1   \n",
       "263            1   \n",
       "264            3   \n",
       "1191           1   \n",
       "1194           2   \n",
       "1195           2   \n",
       "1197          14   \n",
       "1198           1   \n",
       "\n",
       "                                                                                                                                   historical_ca  \n",
       "253                                                                            Microsoft Corporation (2022-09-08 23:53:46 - 2023-09-08 23:53:46)  \n",
       "257                                                                                              Microsoft Corporation (2022-11-01 - 2023-10-27)  \n",
       "258                                                                                              Microsoft Corporation (2022-09-15 - 2023-09-10)  \n",
       "262                                                                            Microsoft Corporation (2022-11-17 00:51:35 - 2023-11-12 00:51:35)  \n",
       "263                                                                                     DigiCert Inc (2023-04-02 00:00:00 - 2024-04-02 23:59:59)  \n",
       "264                                                                                              Microsoft Corporation (2014-10-08 - 2016-01-08)  \n",
       "1191                                                                           Microsoft Corporation (2022-05-09 08:03:20 - 2023-05-04 08:03:20)  \n",
       "1194                                                                                             Microsoft Corporation (2018-05-04 - 2020-05-04)  \n",
       "1195                                                                           Microsoft Corporation (2023-02-03 23:31:45 - 2024-01-29 23:31:45)  \n",
       "1197                                                                                    DigiCert Inc (2023-04-02 00:00:00 - 2024-04-02 23:59:59)  \n",
       "1198  ['DigiCert Inc (2022-10-03 - 2023-10-03)', 'Symantec Corporation (2015-10-07 - 2016-10-07)', '\"VeriSign, Inc.\" (2014-10-10 - 2015-10-11)']  "
      ]
     },
     "execution_count": 8,
     "metadata": {},
     "output_type": "execute_result"
    }
   ],
   "source": [
    "df[df[\"issuer_O\"] == \"SC Johnson\"]"
   ]
  },
  {
   "attachments": {},
   "cell_type": "markdown",
   "metadata": {},
   "source": [
    "**Insta**"
   ]
  },
  {
   "attachments": {},
   "cell_type": "markdown",
   "metadata": {},
   "source": [
    "* Insta confirmed as the certificate issuer for spectrum-connect.federatedwireless.com"
   ]
  },
  {
   "cell_type": "code",
   "execution_count": 9,
   "metadata": {},
   "outputs": [
    {
     "data": {
      "text/html": [
       "<div>\n",
       "<style scoped>\n",
       "    .dataframe tbody tr th:only-of-type {\n",
       "        vertical-align: middle;\n",
       "    }\n",
       "\n",
       "    .dataframe tbody tr th {\n",
       "        vertical-align: top;\n",
       "    }\n",
       "\n",
       "    .dataframe thead th {\n",
       "        text-align: right;\n",
       "    }\n",
       "</style>\n",
       "<table border=\"1\" class=\"dataframe\">\n",
       "  <thead>\n",
       "    <tr style=\"text-align: right;\">\n",
       "      <th></th>\n",
       "      <th>index</th>\n",
       "      <th>domain</th>\n",
       "      <th>issuer_O</th>\n",
       "      <th>conn_count</th>\n",
       "      <th>historical_ca</th>\n",
       "    </tr>\n",
       "  </thead>\n",
       "  <tbody>\n",
       "    <tr>\n",
       "      <th>312</th>\n",
       "      <td>8</td>\n",
       "      <td>spectrum-connect.federatedwireless.com</td>\n",
       "      <td>Insta</td>\n",
       "      <td>1</td>\n",
       "      <td>\"GoDaddy.com, Inc.\" (2022-08-25 - 2023-06-02)</td>\n",
       "    </tr>\n",
       "  </tbody>\n",
       "</table>\n",
       "</div>"
      ],
      "text/plain": [
       "    index                                  domain issuer_O  conn_count  \\\n",
       "312     8  spectrum-connect.federatedwireless.com    Insta           1   \n",
       "\n",
       "                                     historical_ca  \n",
       "312  \"GoDaddy.com, Inc.\" (2022-08-25 - 2023-06-02)  "
      ]
     },
     "execution_count": 9,
     "metadata": {},
     "output_type": "execute_result"
    }
   ],
   "source": [
    "df[df[\"issuer_O\"] == \"Insta\"]"
   ]
  },
  {
   "attachments": {},
   "cell_type": "markdown",
   "metadata": {},
   "source": [
    "**ControlScan**"
   ]
  },
  {
   "attachments": {},
   "cell_type": "markdown",
   "metadata": {},
   "source": [
    "* ControlScan is a MSSP - provides cybersecurity services to businesses\n",
    "* https://www.controlscan.com/about/"
   ]
  },
  {
   "cell_type": "code",
   "execution_count": 10,
   "metadata": {},
   "outputs": [
    {
     "data": {
      "text/html": [
       "<div>\n",
       "<style scoped>\n",
       "    .dataframe tbody tr th:only-of-type {\n",
       "        vertical-align: middle;\n",
       "    }\n",
       "\n",
       "    .dataframe tbody tr th {\n",
       "        vertical-align: top;\n",
       "    }\n",
       "\n",
       "    .dataframe thead th {\n",
       "        text-align: right;\n",
       "    }\n",
       "</style>\n",
       "<table border=\"1\" class=\"dataframe\">\n",
       "  <thead>\n",
       "    <tr style=\"text-align: right;\">\n",
       "      <th></th>\n",
       "      <th>index</th>\n",
       "      <th>domain</th>\n",
       "      <th>issuer_O</th>\n",
       "      <th>conn_count</th>\n",
       "      <th>historical_ca</th>\n",
       "    </tr>\n",
       "  </thead>\n",
       "  <tbody>\n",
       "    <tr>\n",
       "      <th>566</th>\n",
       "      <td>13</td>\n",
       "      <td>feedme.seymour.cyphon.io</td>\n",
       "      <td>ControlScan</td>\n",
       "      <td>1</td>\n",
       "      <td>Amazon (2022-01-03 - 2023-02-01)</td>\n",
       "    </tr>\n",
       "    <tr>\n",
       "      <th>671</th>\n",
       "      <td>20</td>\n",
       "      <td>feedme.seymour.cyphon.io</td>\n",
       "      <td>ControlScan</td>\n",
       "      <td>2</td>\n",
       "      <td>Amazon (2022-01-03 - 2023-02-01)</td>\n",
       "    </tr>\n",
       "    <tr>\n",
       "      <th>1708</th>\n",
       "      <td>12</td>\n",
       "      <td>feedme.seymour.cyphon.io</td>\n",
       "      <td>ControlScan</td>\n",
       "      <td>5</td>\n",
       "      <td>Amazon (2022-01-03 - 2023-02-01)</td>\n",
       "    </tr>\n",
       "  </tbody>\n",
       "</table>\n",
       "</div>"
      ],
      "text/plain": [
       "     index                    domain     issuer_O  conn_count  \\\n",
       "566     13  feedme.seymour.cyphon.io  ControlScan           1   \n",
       "671     20  feedme.seymour.cyphon.io  ControlScan           2   \n",
       "1708    12  feedme.seymour.cyphon.io  ControlScan           5   \n",
       "\n",
       "                         historical_ca  \n",
       "566   Amazon (2022-01-03 - 2023-02-01)  \n",
       "671   Amazon (2022-01-03 - 2023-02-01)  \n",
       "1708  Amazon (2022-01-03 - 2023-02-01)  "
      ]
     },
     "execution_count": 10,
     "metadata": {},
     "output_type": "execute_result"
    }
   ],
   "source": [
    "df[df[\"issuer_O\"] == \"ControlScan\"]"
   ]
  },
  {
   "attachments": {},
   "cell_type": "markdown",
   "metadata": {},
   "source": [
    "**Aprima Medical Software**"
   ]
  },
  {
   "attachments": {},
   "cell_type": "markdown",
   "metadata": {},
   "source": [
    "* https://emds.com/learn-more-about-aprima/ - Aprima provides software to handle patient data\n",
    "* Seems like a self-signed certificate"
   ]
  },
  {
   "cell_type": "code",
   "execution_count": 11,
   "metadata": {},
   "outputs": [
    {
     "data": {
      "text/html": [
       "<div>\n",
       "<style scoped>\n",
       "    .dataframe tbody tr th:only-of-type {\n",
       "        vertical-align: middle;\n",
       "    }\n",
       "\n",
       "    .dataframe tbody tr th {\n",
       "        vertical-align: top;\n",
       "    }\n",
       "\n",
       "    .dataframe thead th {\n",
       "        text-align: right;\n",
       "    }\n",
       "</style>\n",
       "<table border=\"1\" class=\"dataframe\">\n",
       "  <thead>\n",
       "    <tr style=\"text-align: right;\">\n",
       "      <th></th>\n",
       "      <th>index</th>\n",
       "      <th>domain</th>\n",
       "      <th>issuer_O</th>\n",
       "      <th>conn_count</th>\n",
       "      <th>historical_ca</th>\n",
       "    </tr>\n",
       "  </thead>\n",
       "  <tbody>\n",
       "    <tr>\n",
       "      <th>759</th>\n",
       "      <td>2</td>\n",
       "      <td>easternapp04.dashealth.com</td>\n",
       "      <td>Aprima Medical Software</td>\n",
       "      <td>2</td>\n",
       "      <td>\"GoDaddy.com, Inc.\" (2022-03-22 - 2023-04-22)</td>\n",
       "    </tr>\n",
       "  </tbody>\n",
       "</table>\n",
       "</div>"
      ],
      "text/plain": [
       "    index                      domain                 issuer_O  conn_count  \\\n",
       "759     2  easternapp04.dashealth.com  Aprima Medical Software           2   \n",
       "\n",
       "                                     historical_ca  \n",
       "759  \"GoDaddy.com, Inc.\" (2022-03-22 - 2023-04-22)  "
      ]
     },
     "execution_count": 11,
     "metadata": {},
     "output_type": "execute_result"
    }
   ],
   "source": [
    "df[df[\"issuer_O\"] == \"Aprima Medical Software\"]"
   ]
  },
  {
   "attachments": {},
   "cell_type": "markdown",
   "metadata": {},
   "source": [
    "**WanBa**"
   ]
  },
  {
   "attachments": {},
   "cell_type": "markdown",
   "metadata": {},
   "source": [
    "* https://www.crunchbase.com/organization/wanba - Mobile application business that provides entertainment and social platforms"
   ]
  },
  {
   "cell_type": "code",
   "execution_count": 12,
   "metadata": {},
   "outputs": [
    {
     "data": {
      "text/html": [
       "<div>\n",
       "<style scoped>\n",
       "    .dataframe tbody tr th:only-of-type {\n",
       "        vertical-align: middle;\n",
       "    }\n",
       "\n",
       "    .dataframe tbody tr th {\n",
       "        vertical-align: top;\n",
       "    }\n",
       "\n",
       "    .dataframe thead th {\n",
       "        text-align: right;\n",
       "    }\n",
       "</style>\n",
       "<table border=\"1\" class=\"dataframe\">\n",
       "  <thead>\n",
       "    <tr style=\"text-align: right;\">\n",
       "      <th></th>\n",
       "      <th>index</th>\n",
       "      <th>domain</th>\n",
       "      <th>issuer_O</th>\n",
       "      <th>conn_count</th>\n",
       "      <th>historical_ca</th>\n",
       "    </tr>\n",
       "  </thead>\n",
       "  <tbody>\n",
       "    <tr>\n",
       "      <th>971</th>\n",
       "      <td>93</td>\n",
       "      <td>open-gateway-v3.wodidashi.com</td>\n",
       "      <td>WanBa</td>\n",
       "      <td>1</td>\n",
       "      <td>['ZeroSSL (2022-10-08 - 2023-01-06)', 'DigiCert Inc (2020-04-30 - 2021-04-30)']</td>\n",
       "    </tr>\n",
       "    <tr>\n",
       "      <th>2079</th>\n",
       "      <td>1</td>\n",
       "      <td>open-gateway-v3.wodidashi.com</td>\n",
       "      <td>WanBa</td>\n",
       "      <td>1</td>\n",
       "      <td>['ZeroSSL (2022-10-08 - 2023-01-06)', 'DigiCert Inc (2020-04-30 - 2021-04-30)']</td>\n",
       "    </tr>\n",
       "  </tbody>\n",
       "</table>\n",
       "</div>"
      ],
      "text/plain": [
       "     index                         domain issuer_O  conn_count  \\\n",
       "971     93  open-gateway-v3.wodidashi.com    WanBa           1   \n",
       "2079     1  open-gateway-v3.wodidashi.com    WanBa           1   \n",
       "\n",
       "                                                                        historical_ca  \n",
       "971   ['ZeroSSL (2022-10-08 - 2023-01-06)', 'DigiCert Inc (2020-04-30 - 2021-04-30)']  \n",
       "2079  ['ZeroSSL (2022-10-08 - 2023-01-06)', 'DigiCert Inc (2020-04-30 - 2021-04-30)']  "
      ]
     },
     "execution_count": 12,
     "metadata": {},
     "output_type": "execute_result"
    }
   ],
   "source": [
    "df[df[\"issuer_O\"] == \"WanBa\"]"
   ]
  },
  {
   "attachments": {},
   "cell_type": "markdown",
   "metadata": {},
   "source": [
    "**Humana Inc.**"
   ]
  },
  {
   "attachments": {},
   "cell_type": "markdown",
   "metadata": {},
   "source": [
    "* Humana Inc. is a health-insurance company based in Kentucky"
   ]
  },
  {
   "cell_type": "code",
   "execution_count": 13,
   "metadata": {},
   "outputs": [
    {
     "data": {
      "text/html": [
       "<div>\n",
       "<style scoped>\n",
       "    .dataframe tbody tr th:only-of-type {\n",
       "        vertical-align: middle;\n",
       "    }\n",
       "\n",
       "    .dataframe tbody tr th {\n",
       "        vertical-align: top;\n",
       "    }\n",
       "\n",
       "    .dataframe thead th {\n",
       "        text-align: right;\n",
       "    }\n",
       "</style>\n",
       "<table border=\"1\" class=\"dataframe\">\n",
       "  <thead>\n",
       "    <tr style=\"text-align: right;\">\n",
       "      <th></th>\n",
       "      <th>index</th>\n",
       "      <th>domain</th>\n",
       "      <th>issuer_O</th>\n",
       "      <th>conn_count</th>\n",
       "      <th>historical_ca</th>\n",
       "    </tr>\n",
       "  </thead>\n",
       "  <tbody>\n",
       "    <tr>\n",
       "      <th>1056</th>\n",
       "      <td>30</td>\n",
       "      <td>login.windows.net</td>\n",
       "      <td>Humana Inc.</td>\n",
       "      <td>1</td>\n",
       "      <td>DigiCert Inc (2023-02-19 00:00:00 - 2024-02-19 23:59:59)</td>\n",
       "    </tr>\n",
       "  </tbody>\n",
       "</table>\n",
       "</div>"
      ],
      "text/plain": [
       "     index             domain     issuer_O  conn_count  \\\n",
       "1056    30  login.windows.net  Humana Inc.           1   \n",
       "\n",
       "                                                 historical_ca  \n",
       "1056  DigiCert Inc (2023-02-19 00:00:00 - 2024-02-19 23:59:59)  "
      ]
     },
     "execution_count": 13,
     "metadata": {},
     "output_type": "execute_result"
    }
   ],
   "source": [
    "df[df[\"issuer_O\"] == 'Humana Inc.']"
   ]
  },
  {
   "attachments": {},
   "cell_type": "markdown",
   "metadata": {},
   "source": [
    "**Japan Registry Services Co.**"
   ]
  },
  {
   "cell_type": "code",
   "execution_count": 14,
   "metadata": {},
   "outputs": [
    {
     "data": {
      "text/html": [
       "<div>\n",
       "<style scoped>\n",
       "    .dataframe tbody tr th:only-of-type {\n",
       "        vertical-align: middle;\n",
       "    }\n",
       "\n",
       "    .dataframe tbody tr th {\n",
       "        vertical-align: top;\n",
       "    }\n",
       "\n",
       "    .dataframe thead th {\n",
       "        text-align: right;\n",
       "    }\n",
       "</style>\n",
       "<table border=\"1\" class=\"dataframe\">\n",
       "  <thead>\n",
       "    <tr style=\"text-align: right;\">\n",
       "      <th></th>\n",
       "      <th>index</th>\n",
       "      <th>domain</th>\n",
       "      <th>issuer_O</th>\n",
       "      <th>conn_count</th>\n",
       "      <th>historical_ca</th>\n",
       "    </tr>\n",
       "  </thead>\n",
       "  <tbody>\n",
       "    <tr>\n",
       "      <th>1534</th>\n",
       "      <td>49</td>\n",
       "      <td>twitter-photo.com</td>\n",
       "      <td>Japan Registry Services Co.</td>\n",
       "      <td>8</td>\n",
       "      <td>\"Japan Registry Services Co., Ltd.\" (2019-01-11 - 2020-01-31)</td>\n",
       "    </tr>\n",
       "  </tbody>\n",
       "</table>\n",
       "</div>"
      ],
      "text/plain": [
       "     index             domain                     issuer_O  conn_count  \\\n",
       "1534    49  twitter-photo.com  Japan Registry Services Co.           8   \n",
       "\n",
       "                                                      historical_ca  \n",
       "1534  \"Japan Registry Services Co., Ltd.\" (2019-01-11 - 2020-01-31)  "
      ]
     },
     "execution_count": 14,
     "metadata": {},
     "output_type": "execute_result"
    }
   ],
   "source": [
    "df[df[\"issuer_O\"] == \"Japan Registry Services Co.\"]"
   ]
  },
  {
   "attachments": {},
   "cell_type": "markdown",
   "metadata": {},
   "source": [
    "**Convo Communications**"
   ]
  },
  {
   "attachments": {},
   "cell_type": "markdown",
   "metadata": {},
   "source": [
    "* Likely self-signed certificate"
   ]
  },
  {
   "cell_type": "code",
   "execution_count": 15,
   "metadata": {},
   "outputs": [
    {
     "data": {
      "text/html": [
       "<div>\n",
       "<style scoped>\n",
       "    .dataframe tbody tr th:only-of-type {\n",
       "        vertical-align: middle;\n",
       "    }\n",
       "\n",
       "    .dataframe tbody tr th {\n",
       "        vertical-align: top;\n",
       "    }\n",
       "\n",
       "    .dataframe thead th {\n",
       "        text-align: right;\n",
       "    }\n",
       "</style>\n",
       "<table border=\"1\" class=\"dataframe\">\n",
       "  <thead>\n",
       "    <tr style=\"text-align: right;\">\n",
       "      <th></th>\n",
       "      <th>index</th>\n",
       "      <th>domain</th>\n",
       "      <th>issuer_O</th>\n",
       "      <th>conn_count</th>\n",
       "      <th>historical_ca</th>\n",
       "    </tr>\n",
       "  </thead>\n",
       "  <tbody>\n",
       "    <tr>\n",
       "      <th>1723</th>\n",
       "      <td>101</td>\n",
       "      <td>client.app.convorelay.net</td>\n",
       "      <td>Convo Communications</td>\n",
       "      <td>4</td>\n",
       "      <td>['Amazon (2022-05-20 - 2023-06-18)', \"Let's Encrypt (2022-09-26 - 2022-12-25)\", 'DigiCert Inc (2014-09-15 - 2015-11-19)']</td>\n",
       "    </tr>\n",
       "  </tbody>\n",
       "</table>\n",
       "</div>"
      ],
      "text/plain": [
       "     index                     domain              issuer_O  conn_count  \\\n",
       "1723   101  client.app.convorelay.net  Convo Communications           4   \n",
       "\n",
       "                                                                                                                  historical_ca  \n",
       "1723  ['Amazon (2022-05-20 - 2023-06-18)', \"Let's Encrypt (2022-09-26 - 2022-12-25)\", 'DigiCert Inc (2014-09-15 - 2015-11-19)']  "
      ]
     },
     "execution_count": 15,
     "metadata": {},
     "output_type": "execute_result"
    }
   ],
   "source": [
    "df[df[\"issuer_O\"] == \"Convo Communications\"]"
   ]
  },
  {
   "attachments": {},
   "cell_type": "markdown",
   "metadata": {},
   "source": [
    "**MANDIANT**"
   ]
  },
  {
   "attachments": {},
   "cell_type": "markdown",
   "metadata": {},
   "source": [
    "* MANDIANT is a cybersecurity firm"
   ]
  },
  {
   "cell_type": "code",
   "execution_count": 16,
   "metadata": {},
   "outputs": [
    {
     "data": {
      "text/html": [
       "<div>\n",
       "<style scoped>\n",
       "    .dataframe tbody tr th:only-of-type {\n",
       "        vertical-align: middle;\n",
       "    }\n",
       "\n",
       "    .dataframe tbody tr th {\n",
       "        vertical-align: top;\n",
       "    }\n",
       "\n",
       "    .dataframe thead th {\n",
       "        text-align: right;\n",
       "    }\n",
       "</style>\n",
       "<table border=\"1\" class=\"dataframe\">\n",
       "  <thead>\n",
       "    <tr style=\"text-align: right;\">\n",
       "      <th></th>\n",
       "      <th>index</th>\n",
       "      <th>domain</th>\n",
       "      <th>issuer_O</th>\n",
       "      <th>conn_count</th>\n",
       "      <th>historical_ca</th>\n",
       "    </tr>\n",
       "  </thead>\n",
       "  <tbody>\n",
       "    <tr>\n",
       "      <th>1868</th>\n",
       "      <td>103</td>\n",
       "      <td>sfServer.mda1.capgroup.com</td>\n",
       "      <td>MANDIANT</td>\n",
       "      <td>2</td>\n",
       "      <td>DigiCert Inc (2022-03-05 - 2023-03-08)</td>\n",
       "    </tr>\n",
       "  </tbody>\n",
       "</table>\n",
       "</div>"
      ],
      "text/plain": [
       "     index                      domain  issuer_O  conn_count  \\\n",
       "1868   103  sfServer.mda1.capgroup.com  MANDIANT           2   \n",
       "\n",
       "                               historical_ca  \n",
       "1868  DigiCert Inc (2022-03-05 - 2023-03-08)  "
      ]
     },
     "execution_count": 16,
     "metadata": {},
     "output_type": "execute_result"
    }
   ],
   "source": [
    "df[df[\"issuer_O\"] == \"MANDIANT\"]"
   ]
  },
  {
   "attachments": {},
   "cell_type": "markdown",
   "metadata": {},
   "source": [
    "**Mimecast Services Ltd**"
   ]
  },
  {
   "attachments": {},
   "cell_type": "markdown",
   "metadata": {},
   "source": [
    "* Could be doing SSL Interception and using a self-signed certificate on mimecast domains\n",
    "* For example, static.ads-twitter.com is owned by Twitter and uses a Digicert certificate\n",
    "* Mimecast Services provides cybersecurity services for cloud software such as Google Workspace and Microsoft 365 - https://www.mimecast.com/"
   ]
  },
  {
   "cell_type": "code",
   "execution_count": 17,
   "metadata": {},
   "outputs": [
    {
     "data": {
      "text/html": [
       "<div>\n",
       "<style scoped>\n",
       "    .dataframe tbody tr th:only-of-type {\n",
       "        vertical-align: middle;\n",
       "    }\n",
       "\n",
       "    .dataframe tbody tr th {\n",
       "        vertical-align: top;\n",
       "    }\n",
       "\n",
       "    .dataframe thead th {\n",
       "        text-align: right;\n",
       "    }\n",
       "</style>\n",
       "<table border=\"1\" class=\"dataframe\">\n",
       "  <thead>\n",
       "    <tr style=\"text-align: right;\">\n",
       "      <th></th>\n",
       "      <th>index</th>\n",
       "      <th>domain</th>\n",
       "      <th>issuer_O</th>\n",
       "      <th>conn_count</th>\n",
       "      <th>historical_ca</th>\n",
       "    </tr>\n",
       "  </thead>\n",
       "  <tbody>\n",
       "    <tr>\n",
       "      <th>1980</th>\n",
       "      <td>3</td>\n",
       "      <td>static.ads-twitter.com</td>\n",
       "      <td>Mimecast Services Ltd</td>\n",
       "      <td>1</td>\n",
       "      <td>DigiCert Inc (2022-07-22 - 2023-08-22)</td>\n",
       "    </tr>\n",
       "    <tr>\n",
       "      <th>1981</th>\n",
       "      <td>5</td>\n",
       "      <td>mcid-2ed23697-b242-4a58-ad4e-a61215d98669.ep-mimecast.dstillery.com</td>\n",
       "      <td>Mimecast Services Ltd</td>\n",
       "      <td>1</td>\n",
       "      <td>['Sectigo Limited (2022-05-05 - 2023-04-28)', \"Let's Encrypt (2020-02-13 - 2020-05-13)\", 'COMODO CA Limited (2015-03-12 - 2018-03-11)', 'DigiCert Inc (2013-09-13 - 2016-11-16)']</td>\n",
       "    </tr>\n",
       "    <tr>\n",
       "      <th>1984</th>\n",
       "      <td>9</td>\n",
       "      <td>mcid-6dc7496e-d655-481c-8c52-ff8b54a7e970.ep-mimecast.adsymptotic.com</td>\n",
       "      <td>Mimecast Services Ltd</td>\n",
       "      <td>1</td>\n",
       "      <td>['Sectigo Limited (2023-05-12 - 2024-05-11)', 'Google Trust Services LLC (2023-05-12 - 2023-08-10)', '\"Cloudflare, Inc.\" (2022-06-11 - 2023-06-11)', 'DigiCert Inc (2022-09-14 - 2023-09-14)', '\"CloudFlare, Inc.\" (2020-04-07 - 2020-10-14)', 'COMODO CA Limited (2018-08-08 - 2019-06-23)']</td>\n",
       "    </tr>\n",
       "    <tr>\n",
       "      <th>1986</th>\n",
       "      <td>17</td>\n",
       "      <td>p.adsymptotic.com</td>\n",
       "      <td>Mimecast Services Ltd</td>\n",
       "      <td>1</td>\n",
       "      <td>['Google Trust Services LLC (2023-05-12 02:06:07 - 2023-08-10 02:06:06)', 'Cloudflare, Inc. (2022-06-11 00:00:00 - 2023-06-11 23:59:59)', 'DigiCert Inc (2019-10-29 00:00:00 - 2021-11-02 12:00:00)', 'CloudFlare, Inc. (2020-04-07 00:00:00 - 2020-10-09 12:00:00)', 'COMODO CA Limited (2019-06-17 00:00:00 - 2019-12-24 23:59:59)']</td>\n",
       "    </tr>\n",
       "    <tr>\n",
       "      <th>1987</th>\n",
       "      <td>18</td>\n",
       "      <td>dx.steelhousemedia.com</td>\n",
       "      <td>Mimecast Services Ltd</td>\n",
       "      <td>1</td>\n",
       "      <td>['\"GoDaddy.com, Inc.\" (2022-05-17 - 2023-06-18)', 'DigiCert Inc (2016-05-23 - 2019-05-28)']</td>\n",
       "    </tr>\n",
       "    <tr>\n",
       "      <th>1988</th>\n",
       "      <td>34</td>\n",
       "      <td>mcid-fd3d957c-19eb-4ea5-a413-a5ea021f389c.ep-mimecast.steelhousemedia.com</td>\n",
       "      <td>Mimecast Services Ltd</td>\n",
       "      <td>1</td>\n",
       "      <td>['\"GoDaddy.com, Inc.\" (2022-05-17 - 2023-06-18)', 'DigiCert Inc (2016-05-23 - 2019-05-28)']</td>\n",
       "    </tr>\n",
       "    <tr>\n",
       "      <th>1990</th>\n",
       "      <td>39</td>\n",
       "      <td>action.dstillery.com</td>\n",
       "      <td>Mimecast Services Ltd</td>\n",
       "      <td>1</td>\n",
       "      <td>['Sectigo Limited (2022-05-05 00:00:00 - 2023-04-28 23:59:59)', 'COMODO CA Limited (2018-01-18 00:00:00 - 2021-04-17 23:59:59)']</td>\n",
       "    </tr>\n",
       "    <tr>\n",
       "      <th>1993</th>\n",
       "      <td>47</td>\n",
       "      <td>stats.g.doubleclick.net</td>\n",
       "      <td>Mimecast Services Ltd</td>\n",
       "      <td>3</td>\n",
       "      <td>Google Trust Services LLC (2023-02-20 09:12:05 - 2023-05-15 09:12:04)</td>\n",
       "    </tr>\n",
       "    <tr>\n",
       "      <th>1994</th>\n",
       "      <td>48</td>\n",
       "      <td>mcid-3348e3bc-4c8a-4eac-9fec-4b84f403625c.ep-mimecast.doubleclick.net</td>\n",
       "      <td>Mimecast Services Ltd</td>\n",
       "      <td>1</td>\n",
       "      <td>['Google Trust Services LLC (2022-11-02 - 2023-01-25)', 'Google Trust Services (2017-07-28 - 2017-10-20)', 'Google Inc (2013-01-03 - 2013-06-07)', '\"VeriSign, Inc.\" (2006-08-24 - 2007-09-07)']</td>\n",
       "    </tr>\n",
       "  </tbody>\n",
       "</table>\n",
       "</div>"
      ],
      "text/plain": [
       "     index  \\\n",
       "1980     3   \n",
       "1981     5   \n",
       "1984     9   \n",
       "1986    17   \n",
       "1987    18   \n",
       "1988    34   \n",
       "1990    39   \n",
       "1993    47   \n",
       "1994    48   \n",
       "\n",
       "                                                                         domain  \\\n",
       "1980                                                     static.ads-twitter.com   \n",
       "1981        mcid-2ed23697-b242-4a58-ad4e-a61215d98669.ep-mimecast.dstillery.com   \n",
       "1984      mcid-6dc7496e-d655-481c-8c52-ff8b54a7e970.ep-mimecast.adsymptotic.com   \n",
       "1986                                                          p.adsymptotic.com   \n",
       "1987                                                     dx.steelhousemedia.com   \n",
       "1988  mcid-fd3d957c-19eb-4ea5-a413-a5ea021f389c.ep-mimecast.steelhousemedia.com   \n",
       "1990                                                       action.dstillery.com   \n",
       "1993                                                    stats.g.doubleclick.net   \n",
       "1994      mcid-3348e3bc-4c8a-4eac-9fec-4b84f403625c.ep-mimecast.doubleclick.net   \n",
       "\n",
       "                   issuer_O  conn_count  \\\n",
       "1980  Mimecast Services Ltd           1   \n",
       "1981  Mimecast Services Ltd           1   \n",
       "1984  Mimecast Services Ltd           1   \n",
       "1986  Mimecast Services Ltd           1   \n",
       "1987  Mimecast Services Ltd           1   \n",
       "1988  Mimecast Services Ltd           1   \n",
       "1990  Mimecast Services Ltd           1   \n",
       "1993  Mimecast Services Ltd           3   \n",
       "1994  Mimecast Services Ltd           1   \n",
       "\n",
       "                                                                                                                                                                                                                                                                                                                               historical_ca  \n",
       "1980                                                                                                                                                                                                                                                                                                  DigiCert Inc (2022-07-22 - 2023-08-22)  \n",
       "1981                                                                                                                                                       ['Sectigo Limited (2022-05-05 - 2023-04-28)', \"Let's Encrypt (2020-02-13 - 2020-05-13)\", 'COMODO CA Limited (2015-03-12 - 2018-03-11)', 'DigiCert Inc (2013-09-13 - 2016-11-16)']  \n",
       "1984                                           ['Sectigo Limited (2023-05-12 - 2024-05-11)', 'Google Trust Services LLC (2023-05-12 - 2023-08-10)', '\"Cloudflare, Inc.\" (2022-06-11 - 2023-06-11)', 'DigiCert Inc (2022-09-14 - 2023-09-14)', '\"CloudFlare, Inc.\" (2020-04-07 - 2020-10-14)', 'COMODO CA Limited (2018-08-08 - 2019-06-23)']  \n",
       "1986  ['Google Trust Services LLC (2023-05-12 02:06:07 - 2023-08-10 02:06:06)', 'Cloudflare, Inc. (2022-06-11 00:00:00 - 2023-06-11 23:59:59)', 'DigiCert Inc (2019-10-29 00:00:00 - 2021-11-02 12:00:00)', 'CloudFlare, Inc. (2020-04-07 00:00:00 - 2020-10-09 12:00:00)', 'COMODO CA Limited (2019-06-17 00:00:00 - 2019-12-24 23:59:59)']  \n",
       "1987                                                                                                                                                                                                                                             ['\"GoDaddy.com, Inc.\" (2022-05-17 - 2023-06-18)', 'DigiCert Inc (2016-05-23 - 2019-05-28)']  \n",
       "1988                                                                                                                                                                                                                                             ['\"GoDaddy.com, Inc.\" (2022-05-17 - 2023-06-18)', 'DigiCert Inc (2016-05-23 - 2019-05-28)']  \n",
       "1990                                                                                                                                                                                                        ['Sectigo Limited (2022-05-05 00:00:00 - 2023-04-28 23:59:59)', 'COMODO CA Limited (2018-01-18 00:00:00 - 2021-04-17 23:59:59)']  \n",
       "1993                                                                                                                                                                                                                                                                   Google Trust Services LLC (2023-02-20 09:12:05 - 2023-05-15 09:12:04)  \n",
       "1994                                                                                                                                        ['Google Trust Services LLC (2022-11-02 - 2023-01-25)', 'Google Trust Services (2017-07-28 - 2017-10-20)', 'Google Inc (2013-01-03 - 2013-06-07)', '\"VeriSign, Inc.\" (2006-08-24 - 2007-09-07)']  "
      ]
     },
     "execution_count": 17,
     "metadata": {},
     "output_type": "execute_result"
    }
   ],
   "source": [
    "df[df[\"issuer_O\"] == \"Mimecast Services Ltd\"]"
   ]
  },
  {
   "attachments": {},
   "cell_type": "markdown",
   "metadata": {},
   "source": [
    "**D. E. Shaw & Co.**"
   ]
  },
  {
   "attachments": {},
   "cell_type": "markdown",
   "metadata": {},
   "source": [
    "* Self-signed certificate"
   ]
  },
  {
   "cell_type": "code",
   "execution_count": 18,
   "metadata": {},
   "outputs": [
    {
     "data": {
      "text/html": [
       "<div>\n",
       "<style scoped>\n",
       "    .dataframe tbody tr th:only-of-type {\n",
       "        vertical-align: middle;\n",
       "    }\n",
       "\n",
       "    .dataframe tbody tr th {\n",
       "        vertical-align: top;\n",
       "    }\n",
       "\n",
       "    .dataframe thead th {\n",
       "        text-align: right;\n",
       "    }\n",
       "</style>\n",
       "<table border=\"1\" class=\"dataframe\">\n",
       "  <thead>\n",
       "    <tr style=\"text-align: right;\">\n",
       "      <th></th>\n",
       "      <th>index</th>\n",
       "      <th>domain</th>\n",
       "      <th>issuer_O</th>\n",
       "      <th>conn_count</th>\n",
       "      <th>historical_ca</th>\n",
       "    </tr>\n",
       "  </thead>\n",
       "  <tbody>\n",
       "    <tr>\n",
       "      <th>2163</th>\n",
       "      <td>226</td>\n",
       "      <td>adfs.deshaw.com</td>\n",
       "      <td>D. E. Shaw &amp; Co.</td>\n",
       "      <td>4</td>\n",
       "      <td>['DigiCert Inc (2022-02-03 - 2023-02-10)', 'COMODO CA Limited (2017-11-08 - 2020-11-07)']</td>\n",
       "    </tr>\n",
       "  </tbody>\n",
       "</table>\n",
       "</div>"
      ],
      "text/plain": [
       "     index           domain          issuer_O  conn_count  \\\n",
       "2163   226  adfs.deshaw.com  D. E. Shaw & Co.           4   \n",
       "\n",
       "                                                                                  historical_ca  \n",
       "2163  ['DigiCert Inc (2022-02-03 - 2023-02-10)', 'COMODO CA Limited (2017-11-08 - 2020-11-07)']  "
      ]
     },
     "execution_count": 18,
     "metadata": {},
     "output_type": "execute_result"
    }
   ],
   "source": [
    "df[df[\"issuer_O\"] == 'D. E. Shaw & Co.']"
   ]
  },
  {
   "attachments": {},
   "cell_type": "markdown",
   "metadata": {},
   "source": [
    "**Raya Abre Derak Pars PJSC**"
   ]
  },
  {
   "attachments": {},
   "cell_type": "markdown",
   "metadata": {},
   "source": [
    "* Unable to find information on Raya Abre Derak Pars PJSC\n",
    "* Could have switched from a private issuer to a public issuer"
   ]
  },
  {
   "cell_type": "code",
   "execution_count": 19,
   "metadata": {},
   "outputs": [
    {
     "data": {
      "text/html": [
       "<div>\n",
       "<style scoped>\n",
       "    .dataframe tbody tr th:only-of-type {\n",
       "        vertical-align: middle;\n",
       "    }\n",
       "\n",
       "    .dataframe tbody tr th {\n",
       "        vertical-align: top;\n",
       "    }\n",
       "\n",
       "    .dataframe thead th {\n",
       "        text-align: right;\n",
       "    }\n",
       "</style>\n",
       "<table border=\"1\" class=\"dataframe\">\n",
       "  <thead>\n",
       "    <tr style=\"text-align: right;\">\n",
       "      <th></th>\n",
       "      <th>index</th>\n",
       "      <th>domain</th>\n",
       "      <th>issuer_O</th>\n",
       "      <th>conn_count</th>\n",
       "      <th>historical_ca</th>\n",
       "    </tr>\n",
       "  </thead>\n",
       "  <tbody>\n",
       "    <tr>\n",
       "      <th>2195</th>\n",
       "      <td>1</td>\n",
       "      <td>api.fam.ir</td>\n",
       "      <td>Raya Abre Derak Pars PJSC</td>\n",
       "      <td>1</td>\n",
       "      <td>Let's Encrypt (2022-11-20 - 2023-02-18)</td>\n",
       "    </tr>\n",
       "    <tr>\n",
       "      <th>2196</th>\n",
       "      <td>2</td>\n",
       "      <td>img.fam.ir</td>\n",
       "      <td>Raya Abre Derak Pars PJSC</td>\n",
       "      <td>48</td>\n",
       "      <td>Let's Encrypt (2022-11-20 - 2023-02-18)</td>\n",
       "    </tr>\n",
       "  </tbody>\n",
       "</table>\n",
       "</div>"
      ],
      "text/plain": [
       "     index      domain                   issuer_O  conn_count  \\\n",
       "2195     1  api.fam.ir  Raya Abre Derak Pars PJSC           1   \n",
       "2196     2  img.fam.ir  Raya Abre Derak Pars PJSC          48   \n",
       "\n",
       "                                historical_ca  \n",
       "2195  Let's Encrypt (2022-11-20 - 2023-02-18)  \n",
       "2196  Let's Encrypt (2022-11-20 - 2023-02-18)  "
      ]
     },
     "execution_count": 19,
     "metadata": {},
     "output_type": "execute_result"
    }
   ],
   "source": [
    "df[df[\"issuer_O\"] == 'Raya Abre Derak Pars PJSC']"
   ]
  }
 ],
 "metadata": {
  "kernelspec": {
   "display_name": "Python 3 (ipykernel)",
   "language": "python",
   "name": "python3"
  },
  "language_info": {
   "codemirror_mode": {
    "name": "ipython",
    "version": 3
   },
   "file_extension": ".py",
   "mimetype": "text/x-python",
   "name": "python",
   "nbconvert_exporter": "python",
   "pygments_lexer": "ipython3",
   "version": "3.8.10"
  }
 },
 "nbformat": 4,
 "nbformat_minor": 4
}
