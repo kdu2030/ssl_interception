{
 "cells": [
  {
   "attachments": {},
   "cell_type": "markdown",
   "metadata": {},
   "source": [
    "# July 2022 Analysis"
   ]
  },
  {
   "cell_type": "code",
   "execution_count": 1,
   "metadata": {},
   "outputs": [],
   "source": [
    "from analysis_helpers.intercept_helpers import process_parquet_dir\n",
    "import pandas as pd"
   ]
  },
  {
   "cell_type": "code",
   "execution_count": 2,
   "metadata": {},
   "outputs": [
    {
     "name": "stderr",
     "output_type": "stream",
     "text": [
      "/home/ubuntu/GitLab/ssl_interception/notebooks/analysis_notebooks/analysis_helpers/intercept_helpers.py:43: SettingWithCopyWarning: \n",
      "A value is trying to be set on a copy of a slice from a DataFrame.\n",
      "Try using .loc[row_indexer,col_indexer] = value instead\n",
      "\n",
      "See the caveats in the documentation: https://pandas.pydata.org/pandas-docs/stable/user_guide/indexing.html#returning-a-view-versus-a-copy\n",
      "  df[\"does_ca_match\"] = df.apply(lambda row: does_ca_match(\n"
     ]
    }
   ],
   "source": [
    "data_path = \"/mnt/chaseproject/uva/kd5eyn/intercept_data/2022-07-01_2022-07-31/\"\n",
    "df = process_parquet_dir(data_path)"
   ]
  },
  {
   "cell_type": "code",
   "execution_count": 3,
   "metadata": {},
   "outputs": [
    {
     "data": {
      "text/html": [
       "<div>\n",
       "<style scoped>\n",
       "    .dataframe tbody tr th:only-of-type {\n",
       "        vertical-align: middle;\n",
       "    }\n",
       "\n",
       "    .dataframe tbody tr th {\n",
       "        vertical-align: top;\n",
       "    }\n",
       "\n",
       "    .dataframe thead th {\n",
       "        text-align: right;\n",
       "    }\n",
       "</style>\n",
       "<table border=\"1\" class=\"dataframe\">\n",
       "  <thead>\n",
       "    <tr style=\"text-align: right;\">\n",
       "      <th></th>\n",
       "      <th>index</th>\n",
       "      <th>domain</th>\n",
       "      <th>issuer_O</th>\n",
       "      <th>conn_count</th>\n",
       "      <th>historical_ca</th>\n",
       "    </tr>\n",
       "  </thead>\n",
       "  <tbody>\n",
       "    <tr>\n",
       "      <th>0</th>\n",
       "      <td>28</td>\n",
       "      <td>mail.alu.fudan.edu.cn</td>\n",
       "      <td>Mailtech</td>\n",
       "      <td>1</td>\n",
       "      <td>['GoGetSSL (2022-05-06 - 2023-06-06)', 'Sectig...</td>\n",
       "    </tr>\n",
       "    <tr>\n",
       "      <th>1</th>\n",
       "      <td>44</td>\n",
       "      <td>rts.contivio.net</td>\n",
       "      <td>Starfield Technologies</td>\n",
       "      <td>1</td>\n",
       "      <td>\"Starfield Technologies, Inc.\" (2014-08-25 - 2...</td>\n",
       "    </tr>\n",
       "    <tr>\n",
       "      <th>3</th>\n",
       "      <td>112</td>\n",
       "      <td>na.b.g-tun.com</td>\n",
       "      <td>Project Fi - Session Continuity Tea</td>\n",
       "      <td>2</td>\n",
       "      <td>['Google Trust Services LLC (2022-07-11 - 2022...</td>\n",
       "    </tr>\n",
       "    <tr>\n",
       "      <th>6</th>\n",
       "      <td>22</td>\n",
       "      <td>www-ekp.physik.uni-karlsruhe.de</td>\n",
       "      <td>Karlsruhe Institute of Technology</td>\n",
       "      <td>1</td>\n",
       "      <td>['Karlsruhe Institute of Technology (2012-08-0...</td>\n",
       "    </tr>\n",
       "    <tr>\n",
       "      <th>10</th>\n",
       "      <td>191</td>\n",
       "      <td>chat.accounts.sparx.io</td>\n",
       "      <td>Kabam Games Inc.</td>\n",
       "      <td>1</td>\n",
       "      <td>GoDaddy.com, Inc. (2019-01-24 19:06:42 - 2021-...</td>\n",
       "    </tr>\n",
       "    <tr>\n",
       "      <th>...</th>\n",
       "      <td>...</td>\n",
       "      <td>...</td>\n",
       "      <td>...</td>\n",
       "      <td>...</td>\n",
       "      <td>...</td>\n",
       "    </tr>\n",
       "    <tr>\n",
       "      <th>1438</th>\n",
       "      <td>171</td>\n",
       "      <td>meevo.com</td>\n",
       "      <td>GeoTrust Inc.</td>\n",
       "      <td>1</td>\n",
       "      <td>['Amazon (2022-06-23 - 2023-07-21)', 'Sectigo ...</td>\n",
       "    </tr>\n",
       "    <tr>\n",
       "      <th>1441</th>\n",
       "      <td>28</td>\n",
       "      <td>paypal.com</td>\n",
       "      <td>Symantec Corporation</td>\n",
       "      <td>1</td>\n",
       "      <td>DigiCert Inc (2022-05-26 00:00:00 - 2023-04-27...</td>\n",
       "    </tr>\n",
       "    <tr>\n",
       "      <th>1442</th>\n",
       "      <td>0</td>\n",
       "      <td>www.bplv.com</td>\n",
       "      <td>N=www.wpx6elvxw3e4jplc.co</td>\n",
       "      <td>1</td>\n",
       "      <td>DigiCert Inc (2021-08-05 - 2022-08-05)</td>\n",
       "    </tr>\n",
       "    <tr>\n",
       "      <th>1449</th>\n",
       "      <td>2</td>\n",
       "      <td>tdc.army.mil</td>\n",
       "      <td>U.S. Government</td>\n",
       "      <td>1</td>\n",
       "      <td>['\"Entrust, Inc.\" (2019-08-13 - 2020-08-13)', ...</td>\n",
       "    </tr>\n",
       "    <tr>\n",
       "      <th>1451</th>\n",
       "      <td>12</td>\n",
       "      <td>mvpn.disa.mil</td>\n",
       "      <td>U.S. Government</td>\n",
       "      <td>4</td>\n",
       "      <td>U.S. Government (2014-04-17 - 2017-04-17)</td>\n",
       "    </tr>\n",
       "  </tbody>\n",
       "</table>\n",
       "<p>532 rows × 5 columns</p>\n",
       "</div>"
      ],
      "text/plain": [
       "     index                           domain  \\\n",
       "0       28            mail.alu.fudan.edu.cn   \n",
       "1       44                 rts.contivio.net   \n",
       "3      112                   na.b.g-tun.com   \n",
       "6       22  www-ekp.physik.uni-karlsruhe.de   \n",
       "10     191           chat.accounts.sparx.io   \n",
       "...    ...                              ...   \n",
       "1438   171                        meevo.com   \n",
       "1441    28                       paypal.com   \n",
       "1442     0                     www.bplv.com   \n",
       "1449     2                     tdc.army.mil   \n",
       "1451    12                    mvpn.disa.mil   \n",
       "\n",
       "                                 issuer_O  conn_count  \\\n",
       "0                                Mailtech           1   \n",
       "1                  Starfield Technologies           1   \n",
       "3     Project Fi - Session Continuity Tea           2   \n",
       "6       Karlsruhe Institute of Technology           1   \n",
       "10                       Kabam Games Inc.           1   \n",
       "...                                   ...         ...   \n",
       "1438                        GeoTrust Inc.           1   \n",
       "1441                 Symantec Corporation           1   \n",
       "1442            N=www.wpx6elvxw3e4jplc.co           1   \n",
       "1449                      U.S. Government           1   \n",
       "1451                      U.S. Government           4   \n",
       "\n",
       "                                          historical_ca  \n",
       "0     ['GoGetSSL (2022-05-06 - 2023-06-06)', 'Sectig...  \n",
       "1     \"Starfield Technologies, Inc.\" (2014-08-25 - 2...  \n",
       "3     ['Google Trust Services LLC (2022-07-11 - 2022...  \n",
       "6     ['Karlsruhe Institute of Technology (2012-08-0...  \n",
       "10    GoDaddy.com, Inc. (2019-01-24 19:06:42 - 2021-...  \n",
       "...                                                 ...  \n",
       "1438  ['Amazon (2022-06-23 - 2023-07-21)', 'Sectigo ...  \n",
       "1441  DigiCert Inc (2022-05-26 00:00:00 - 2023-04-27...  \n",
       "1442             DigiCert Inc (2021-08-05 - 2022-08-05)  \n",
       "1449  ['\"Entrust, Inc.\" (2019-08-13 - 2020-08-13)', ...  \n",
       "1451          U.S. Government (2014-04-17 - 2017-04-17)  \n",
       "\n",
       "[532 rows x 5 columns]"
      ]
     },
     "execution_count": 3,
     "metadata": {},
     "output_type": "execute_result"
    }
   ],
   "source": [
    "df"
   ]
  },
  {
   "cell_type": "code",
   "execution_count": 4,
   "metadata": {},
   "outputs": [
    {
     "name": "stdout",
     "output_type": "stream",
     "text": [
      "Mailtech\n",
      "Starfield Technologies\n",
      "Project Fi - Session Continuity Tea\n",
      "Karlsruhe Institute of Technology\n",
      "Kabam Games Inc.\n",
      "McAfee Inc.\n",
      "N=16AWS-6odVBD\n",
      "GeoTrust Inc.\n",
      "Symantec Corporation\n",
      "Acme C\n",
      "N=67FxPju\n",
      "GoDaddy.com\n",
      "N=5jANS_HoC46Ta_5NwR_7e4ao\n",
      "U.S. Government\n",
      "VK\n",
      "N=7Fw6H 2cMYVTs\n",
      "Opera Software ASA\n",
      "N=DgeCL AodfQR 7Os 5jYylAHA 1\n",
      "N=6uB0O7c0Ujndfy,DC=advancestores,DC=co\n",
      "Linden Lab\n",
      "Unipay Root CA\n",
      "CloudFlare\n",
      "N=3x1M07 1V: 7dAoqV43.6TvBx0Nq6.6l\n",
      "Let's Encrypt\n",
      "N=3Q4Dsb9\n",
      "N=4K2VsoWa\n",
      "Temporary CA a0305fb9-1d21-4142-9f97-e1c6efdab8f\n",
      "N=389qiPHS\n",
      "The USERTRUST Network\n",
      "FIVE-STAR-SENIOR-LIVING\n",
      "GlobalSign nv-sa\n",
      "nQualifier=1xKEXgaI-4tSK-4PRz-52RJ-227bMeyOuNLI,CN=1msQj6pBELU 6Nwi 1\n",
      "Entrust\n",
      "Aramark\n",
      "Ivanti\n",
      "N=7Z8yTu\n",
      "Lockwood Publishing Ltd.\n",
      "N=6Mi7ZTi\n",
      "N=13MPnX0jgs,DC=despreinte,DC=loca\n",
      "N=2hsqsq-2XqsqkB\n",
      "CMI\n",
      "N=websync.cavaliers.DVSport.co\n",
      "SelfSigned\n",
      "Latham & Watkins LLP\n",
      "anymacro\n",
      "N=3sF 5B0NW 1V 2O,DC=AME,DC=GB\n",
      "Aruba Networks\n",
      "Medtronic\n",
      "N=5z 5m2fWj 5jYylAHA 72LWx 2hTX11qddI\n",
      "Peloton Interactive Inc\n",
      "mailAddress=7h9Ck2sA@daysofwonder.com,L=Las Vegas,ST=Nevada,C=US,CN=6Uv 1V 6Nw\n",
      "Sectigo Limited\n",
      "N=6Fk1JiB 1kKtVMy 11d\n",
      "N=QJldbo1\n",
      "N=ca.fobwifi.co\n",
      "N=1nQb8hckltR-AkjluJPzsJZ9-1V,DC=mksinternal,DC=co\n",
      "Dehuinet\n",
      "Hostalia Internet S.L.U.\n",
      "StartCom Ltd.\n",
      "N=5a8uEGx 73oFVybUf 5lja1WF 1V \n",
      "N=4wkchEE-7UOQsx\n",
      "Bad Server Certificate [invalid server certificate]\n",
      "GSM Associatio\n",
      "Kingnet Information Technology Co.\n",
      "N=www.gf6ksqukqasbrwrpougz.co\n",
      "PrivacySearch Ltd\n",
      "N=1sAL 3ul 5lja1WF 1V,OU=FPKI,OU=U.S. Government,C=U\n",
      "N=DgeCL AodfQR 5jYylAHA 1\n",
      "General Mills\n",
      "COMODO CA Limited\n",
      "N=2y31\n",
      "GeoTrust\n",
      "N=4yB-5L0rW2k-7azz,DC=corp,DC=uspsector,DC=ne\n",
      "N=uGPnM2n4wJj 5EbvZ8tQOb 1V,DC=healthsouth,DC=insidehrc,DC=co\n",
      "Fuzhou Quyun Information Technology Co.\n",
      "N=5u7cQc 6xHB 5lja1WF 1V-4r,DC=oneabbott,DC=co\n",
      "N=www.5qxcjjwv.co\n",
      "snap-cloud\n",
      "N=www.wpx6elvxw3e4jplc.co\n"
     ]
    }
   ],
   "source": [
    "unique_issuers = df[\"issuer_O\"].unique()\n",
    "for issuer in unique_issuers:\n",
    "    print(issuer)"
   ]
  },
  {
   "attachments": {},
   "cell_type": "markdown",
   "metadata": {},
   "source": [
    "**Unipay Root CA**"
   ]
  },
  {
   "attachments": {},
   "cell_type": "markdown",
   "metadata": {},
   "source": [
    "* Switch from Public Issuer to Private Issuer"
   ]
  },
  {
   "cell_type": "code",
   "execution_count": 5,
   "metadata": {},
   "outputs": [
    {
     "data": {
      "text/html": [
       "<div>\n",
       "<style scoped>\n",
       "    .dataframe tbody tr th:only-of-type {\n",
       "        vertical-align: middle;\n",
       "    }\n",
       "\n",
       "    .dataframe tbody tr th {\n",
       "        vertical-align: top;\n",
       "    }\n",
       "\n",
       "    .dataframe thead th {\n",
       "        text-align: right;\n",
       "    }\n",
       "</style>\n",
       "<table border=\"1\" class=\"dataframe\">\n",
       "  <thead>\n",
       "    <tr style=\"text-align: right;\">\n",
       "      <th></th>\n",
       "      <th>index</th>\n",
       "      <th>domain</th>\n",
       "      <th>issuer_O</th>\n",
       "      <th>conn_count</th>\n",
       "      <th>historical_ca</th>\n",
       "    </tr>\n",
       "  </thead>\n",
       "  <tbody>\n",
       "    <tr>\n",
       "      <th>80</th>\n",
       "      <td>109</td>\n",
       "      <td>api.onyuan.com</td>\n",
       "      <td>Unipay Root CA</td>\n",
       "      <td>2</td>\n",
       "      <td>\"TrustAsia Technologies, Inc.\" (2019-03-14 - 2020-03-13)</td>\n",
       "    </tr>\n",
       "  </tbody>\n",
       "</table>\n",
       "</div>"
      ],
      "text/plain": [
       "   index          domain        issuer_O  conn_count  \\\n",
       "80   109  api.onyuan.com  Unipay Root CA           2   \n",
       "\n",
       "                                               historical_ca  \n",
       "80  \"TrustAsia Technologies, Inc.\" (2019-03-14 - 2020-03-13)  "
      ]
     },
     "execution_count": 5,
     "metadata": {},
     "output_type": "execute_result"
    }
   ],
   "source": [
    "pd.set_option(\"colwidth\", None)\n",
    "df[df[\"issuer_O\"] == \"Unipay Root CA\"]"
   ]
  },
  {
   "attachments": {},
   "cell_type": "markdown",
   "metadata": {},
   "source": [
    "**The USERTRUST Network**"
   ]
  },
  {
   "attachments": {},
   "cell_type": "markdown",
   "metadata": {},
   "source": [
    "* Logged issuer organization matches historical issuer organization"
   ]
  },
  {
   "cell_type": "code",
   "execution_count": 6,
   "metadata": {},
   "outputs": [
    {
     "data": {
      "text/html": [
       "<div>\n",
       "<style scoped>\n",
       "    .dataframe tbody tr th:only-of-type {\n",
       "        vertical-align: middle;\n",
       "    }\n",
       "\n",
       "    .dataframe tbody tr th {\n",
       "        vertical-align: top;\n",
       "    }\n",
       "\n",
       "    .dataframe thead th {\n",
       "        text-align: right;\n",
       "    }\n",
       "</style>\n",
       "<table border=\"1\" class=\"dataframe\">\n",
       "  <thead>\n",
       "    <tr style=\"text-align: right;\">\n",
       "      <th></th>\n",
       "      <th>index</th>\n",
       "      <th>domain</th>\n",
       "      <th>issuer_O</th>\n",
       "      <th>conn_count</th>\n",
       "      <th>historical_ca</th>\n",
       "    </tr>\n",
       "  </thead>\n",
       "  <tbody>\n",
       "    <tr>\n",
       "      <th>175</th>\n",
       "      <td>173</td>\n",
       "      <td>www.ahcah.com</td>\n",
       "      <td>The USERTRUST Network</td>\n",
       "      <td>1</td>\n",
       "      <td>['ZeroSSL (2022-03-31 - 2022-06-29)', 'The USERTRUST Network (2020-01-23 - 2022-01-22)', 'Register.com (2012-02-01 - 2015-01-31)']</td>\n",
       "    </tr>\n",
       "  </tbody>\n",
       "</table>\n",
       "</div>"
      ],
      "text/plain": [
       "    index         domain               issuer_O  conn_count  \\\n",
       "175   173  www.ahcah.com  The USERTRUST Network           1   \n",
       "\n",
       "                                                                                                                          historical_ca  \n",
       "175  ['ZeroSSL (2022-03-31 - 2022-06-29)', 'The USERTRUST Network (2020-01-23 - 2022-01-22)', 'Register.com (2012-02-01 - 2015-01-31)']  "
      ]
     },
     "execution_count": 6,
     "metadata": {},
     "output_type": "execute_result"
    }
   ],
   "source": [
    "df[df[\"issuer_O\"] == \"The USERTRUST Network\"]"
   ]
  },
  {
   "attachments": {},
   "cell_type": "markdown",
   "metadata": {},
   "source": [
    "**FIVE-STAR-SENIOR-LIVING**"
   ]
  },
  {
   "attachments": {},
   "cell_type": "markdown",
   "metadata": {},
   "source": [
    "* FIVE-STAR-SENIOR-LIVING is the issuer organiztion for azsccm.5ssl.com as confirmed by Censys"
   ]
  },
  {
   "cell_type": "code",
   "execution_count": 7,
   "metadata": {},
   "outputs": [
    {
     "data": {
      "text/html": [
       "<div>\n",
       "<style scoped>\n",
       "    .dataframe tbody tr th:only-of-type {\n",
       "        vertical-align: middle;\n",
       "    }\n",
       "\n",
       "    .dataframe tbody tr th {\n",
       "        vertical-align: top;\n",
       "    }\n",
       "\n",
       "    .dataframe thead th {\n",
       "        text-align: right;\n",
       "    }\n",
       "</style>\n",
       "<table border=\"1\" class=\"dataframe\">\n",
       "  <thead>\n",
       "    <tr style=\"text-align: right;\">\n",
       "      <th></th>\n",
       "      <th>index</th>\n",
       "      <th>domain</th>\n",
       "      <th>issuer_O</th>\n",
       "      <th>conn_count</th>\n",
       "      <th>historical_ca</th>\n",
       "    </tr>\n",
       "  </thead>\n",
       "  <tbody>\n",
       "    <tr>\n",
       "      <th>185</th>\n",
       "      <td>323</td>\n",
       "      <td>azsccm.5ssl.com</td>\n",
       "      <td>FIVE-STAR-SENIOR-LIVING</td>\n",
       "      <td>10</td>\n",
       "      <td>Network Solutions L.L.C. (2020-07-31 - 2022-09-10)</td>\n",
       "    </tr>\n",
       "  </tbody>\n",
       "</table>\n",
       "</div>"
      ],
      "text/plain": [
       "    index           domain                 issuer_O  conn_count  \\\n",
       "185   323  azsccm.5ssl.com  FIVE-STAR-SENIOR-LIVING          10   \n",
       "\n",
       "                                          historical_ca  \n",
       "185  Network Solutions L.L.C. (2020-07-31 - 2022-09-10)  "
      ]
     },
     "execution_count": 7,
     "metadata": {},
     "output_type": "execute_result"
    }
   ],
   "source": [
    "df[df[\"issuer_O\"] == \"FIVE-STAR-SENIOR-LIVING\"]"
   ]
  },
  {
   "attachments": {},
   "cell_type": "markdown",
   "metadata": {},
   "source": [
    "**Ivanti**\n",
    "* Ivanti is the issuer for epmcsa.vdot.virginia.gov as confirmed by Censys"
   ]
  },
  {
   "cell_type": "code",
   "execution_count": 8,
   "metadata": {},
   "outputs": [
    {
     "data": {
      "text/html": [
       "<div>\n",
       "<style scoped>\n",
       "    .dataframe tbody tr th:only-of-type {\n",
       "        vertical-align: middle;\n",
       "    }\n",
       "\n",
       "    .dataframe tbody tr th {\n",
       "        vertical-align: top;\n",
       "    }\n",
       "\n",
       "    .dataframe thead th {\n",
       "        text-align: right;\n",
       "    }\n",
       "</style>\n",
       "<table border=\"1\" class=\"dataframe\">\n",
       "  <thead>\n",
       "    <tr style=\"text-align: right;\">\n",
       "      <th></th>\n",
       "      <th>index</th>\n",
       "      <th>domain</th>\n",
       "      <th>issuer_O</th>\n",
       "      <th>conn_count</th>\n",
       "      <th>historical_ca</th>\n",
       "    </tr>\n",
       "  </thead>\n",
       "  <tbody>\n",
       "    <tr>\n",
       "      <th>289</th>\n",
       "      <td>121</td>\n",
       "      <td>epmcsa.vdot.virginia.gov</td>\n",
       "      <td>Ivanti</td>\n",
       "      <td>1</td>\n",
       "      <td>['\"Entrust, Inc.\" (2013-12-10 - 2015-12-11)', 'DigiCert Inc (2018-01-17 - 2019-02-16)', 'GeoTrust Inc. (2016-01-07 - 2016-12-17)', '\"GeoTrust, Inc.\" (2012-11-08 - 2016-11-10)']</td>\n",
       "    </tr>\n",
       "  </tbody>\n",
       "</table>\n",
       "</div>"
      ],
      "text/plain": [
       "    index                    domain issuer_O  conn_count  \\\n",
       "289   121  epmcsa.vdot.virginia.gov   Ivanti           1   \n",
       "\n",
       "                                                                                                                                                                        historical_ca  \n",
       "289  ['\"Entrust, Inc.\" (2013-12-10 - 2015-12-11)', 'DigiCert Inc (2018-01-17 - 2019-02-16)', 'GeoTrust Inc. (2016-01-07 - 2016-12-17)', '\"GeoTrust, Inc.\" (2012-11-08 - 2016-11-10)']  "
      ]
     },
     "execution_count": 8,
     "metadata": {},
     "output_type": "execute_result"
    }
   ],
   "source": [
    "df[df[\"issuer_O\"] == \"Ivanti\"]"
   ]
  },
  {
   "attachments": {},
   "cell_type": "markdown",
   "metadata": {},
   "source": [
    "**CMI**"
   ]
  },
  {
   "attachments": {},
   "cell_type": "markdown",
   "metadata": {},
   "source": [
    "* Issuer organiztion for app3.jegotrip.com.cn's certificate confirmed to be CMI using https://www.geocerts.com/ssl-checker "
   ]
  },
  {
   "cell_type": "code",
   "execution_count": 9,
   "metadata": {},
   "outputs": [
    {
     "data": {
      "text/html": [
       "<div>\n",
       "<style scoped>\n",
       "    .dataframe tbody tr th:only-of-type {\n",
       "        vertical-align: middle;\n",
       "    }\n",
       "\n",
       "    .dataframe tbody tr th {\n",
       "        vertical-align: top;\n",
       "    }\n",
       "\n",
       "    .dataframe thead th {\n",
       "        text-align: right;\n",
       "    }\n",
       "</style>\n",
       "<table border=\"1\" class=\"dataframe\">\n",
       "  <thead>\n",
       "    <tr style=\"text-align: right;\">\n",
       "      <th></th>\n",
       "      <th>index</th>\n",
       "      <th>domain</th>\n",
       "      <th>issuer_O</th>\n",
       "      <th>conn_count</th>\n",
       "      <th>historical_ca</th>\n",
       "    </tr>\n",
       "  </thead>\n",
       "  <tbody>\n",
       "    <tr>\n",
       "      <th>433</th>\n",
       "      <td>26</td>\n",
       "      <td>app3.jegotrip.com.cn</td>\n",
       "      <td>CMI</td>\n",
       "      <td>1</td>\n",
       "      <td>DigiCert Inc (2022-01-18 - 2023-02-08)</td>\n",
       "    </tr>\n",
       "    <tr>\n",
       "      <th>1408</th>\n",
       "      <td>11</td>\n",
       "      <td>app3.jegotrip.com.cn</td>\n",
       "      <td>CMI</td>\n",
       "      <td>1</td>\n",
       "      <td>DigiCert Inc (2022-01-18 - 2023-02-08)</td>\n",
       "    </tr>\n",
       "  </tbody>\n",
       "</table>\n",
       "</div>"
      ],
      "text/plain": [
       "     index                domain issuer_O  conn_count  \\\n",
       "433     26  app3.jegotrip.com.cn      CMI           1   \n",
       "1408    11  app3.jegotrip.com.cn      CMI           1   \n",
       "\n",
       "                               historical_ca  \n",
       "433   DigiCert Inc (2022-01-18 - 2023-02-08)  \n",
       "1408  DigiCert Inc (2022-01-18 - 2023-02-08)  "
      ]
     },
     "execution_count": 9,
     "metadata": {},
     "output_type": "execute_result"
    }
   ],
   "source": [
    "df[df[\"issuer_O\"] == \"CMI\"]"
   ]
  },
  {
   "attachments": {},
   "cell_type": "markdown",
   "metadata": {},
   "source": [
    "**Latham & Watkins LLP**"
   ]
  },
  {
   "attachments": {},
   "cell_type": "markdown",
   "metadata": {},
   "source": [
    "* Law Firm - https://www.lw.com/\n",
    "* Possible SSL Interception -  could be a Latham and Watkins LLP employee accessing Outlook"
   ]
  },
  {
   "cell_type": "code",
   "execution_count": 10,
   "metadata": {},
   "outputs": [
    {
     "data": {
      "text/html": [
       "<div>\n",
       "<style scoped>\n",
       "    .dataframe tbody tr th:only-of-type {\n",
       "        vertical-align: middle;\n",
       "    }\n",
       "\n",
       "    .dataframe tbody tr th {\n",
       "        vertical-align: top;\n",
       "    }\n",
       "\n",
       "    .dataframe thead th {\n",
       "        text-align: right;\n",
       "    }\n",
       "</style>\n",
       "<table border=\"1\" class=\"dataframe\">\n",
       "  <thead>\n",
       "    <tr style=\"text-align: right;\">\n",
       "      <th></th>\n",
       "      <th>index</th>\n",
       "      <th>domain</th>\n",
       "      <th>issuer_O</th>\n",
       "      <th>conn_count</th>\n",
       "      <th>historical_ca</th>\n",
       "    </tr>\n",
       "  </thead>\n",
       "  <tbody>\n",
       "    <tr>\n",
       "      <th>520</th>\n",
       "      <td>188</td>\n",
       "      <td>outlook.office365.com</td>\n",
       "      <td>Latham &amp; Watkins LLP</td>\n",
       "      <td>1</td>\n",
       "      <td>['DigiCert Inc (2022-07-06 - 2023-07-05)', 'Microsoft Corporation (2014-11-10 - 2016-11-09)', 'GlobalSign nv-sa (2020-08-24 - 2022-08-25)']</td>\n",
       "    </tr>\n",
       "  </tbody>\n",
       "</table>\n",
       "</div>"
      ],
      "text/plain": [
       "    index                 domain              issuer_O  conn_count  \\\n",
       "520   188  outlook.office365.com  Latham & Watkins LLP           1   \n",
       "\n",
       "                                                                                                                                   historical_ca  \n",
       "520  ['DigiCert Inc (2022-07-06 - 2023-07-05)', 'Microsoft Corporation (2014-11-10 - 2016-11-09)', 'GlobalSign nv-sa (2020-08-24 - 2022-08-25)']  "
      ]
     },
     "execution_count": 10,
     "metadata": {},
     "output_type": "execute_result"
    }
   ],
   "source": [
    "df[df[\"issuer_O\"] == \"Latham & Watkins LLP\"]"
   ]
  },
  {
   "attachments": {},
   "cell_type": "markdown",
   "metadata": {},
   "source": [
    "**anymacro**\n",
    "* Issuer organization confirmed to be anymacro by https://www.geocerts.com/ssl-checker"
   ]
  },
  {
   "cell_type": "code",
   "execution_count": 11,
   "metadata": {},
   "outputs": [
    {
     "data": {
      "text/html": [
       "<div>\n",
       "<style scoped>\n",
       "    .dataframe tbody tr th:only-of-type {\n",
       "        vertical-align: middle;\n",
       "    }\n",
       "\n",
       "    .dataframe tbody tr th {\n",
       "        vertical-align: top;\n",
       "    }\n",
       "\n",
       "    .dataframe thead th {\n",
       "        text-align: right;\n",
       "    }\n",
       "</style>\n",
       "<table border=\"1\" class=\"dataframe\">\n",
       "  <thead>\n",
       "    <tr style=\"text-align: right;\">\n",
       "      <th></th>\n",
       "      <th>index</th>\n",
       "      <th>domain</th>\n",
       "      <th>issuer_O</th>\n",
       "      <th>conn_count</th>\n",
       "      <th>historical_ca</th>\n",
       "    </tr>\n",
       "  </thead>\n",
       "  <tbody>\n",
       "    <tr>\n",
       "      <th>527</th>\n",
       "      <td>35</td>\n",
       "      <td>mail.hazz.hrss.gov.cn</td>\n",
       "      <td>anymacro</td>\n",
       "      <td>4</td>\n",
       "      <td>GlobalSign nv-sa (2020-08-27 06:57:11 - 2022-08-21 08:13:08)</td>\n",
       "    </tr>\n",
       "  </tbody>\n",
       "</table>\n",
       "</div>"
      ],
      "text/plain": [
       "    index                 domain  issuer_O  conn_count  \\\n",
       "527    35  mail.hazz.hrss.gov.cn  anymacro           4   \n",
       "\n",
       "                                                    historical_ca  \n",
       "527  GlobalSign nv-sa (2020-08-27 06:57:11 - 2022-08-21 08:13:08)  "
      ]
     },
     "execution_count": 11,
     "metadata": {},
     "output_type": "execute_result"
    }
   ],
   "source": [
    "df[df[\"issuer_O\"] == \"anymacro\"]"
   ]
  },
  {
   "attachments": {},
   "cell_type": "markdown",
   "metadata": {},
   "source": [
    "**Medtronic**\n",
    "* Medtronic - Medical Device manufacturer - https://www.medtronic.com/us-en/index.html\n",
    "* Could be using a self-signed certificate"
   ]
  },
  {
   "cell_type": "code",
   "execution_count": 12,
   "metadata": {},
   "outputs": [
    {
     "data": {
      "text/html": [
       "<div>\n",
       "<style scoped>\n",
       "    .dataframe tbody tr th:only-of-type {\n",
       "        vertical-align: middle;\n",
       "    }\n",
       "\n",
       "    .dataframe tbody tr th {\n",
       "        vertical-align: top;\n",
       "    }\n",
       "\n",
       "    .dataframe thead th {\n",
       "        text-align: right;\n",
       "    }\n",
       "</style>\n",
       "<table border=\"1\" class=\"dataframe\">\n",
       "  <thead>\n",
       "    <tr style=\"text-align: right;\">\n",
       "      <th></th>\n",
       "      <th>index</th>\n",
       "      <th>domain</th>\n",
       "      <th>issuer_O</th>\n",
       "      <th>conn_count</th>\n",
       "      <th>historical_ca</th>\n",
       "    </tr>\n",
       "  </thead>\n",
       "  <tbody>\n",
       "    <tr>\n",
       "      <th>566</th>\n",
       "      <td>1</td>\n",
       "      <td>medtronic.service-now.com</td>\n",
       "      <td>Medtronic</td>\n",
       "      <td>1</td>\n",
       "      <td>Entrust, Inc. (2022-01-21 20:18:08 - 2022-10-22 20:18:08)</td>\n",
       "    </tr>\n",
       "    <tr>\n",
       "      <th>1031</th>\n",
       "      <td>3</td>\n",
       "      <td>api.msn.com</td>\n",
       "      <td>Medtronic</td>\n",
       "      <td>1</td>\n",
       "      <td>Microsoft Corporation (2018-05-04 - 2020-05-04)</td>\n",
       "    </tr>\n",
       "    <tr>\n",
       "      <th>1353</th>\n",
       "      <td>81</td>\n",
       "      <td>api.msn.com</td>\n",
       "      <td>Medtronic</td>\n",
       "      <td>1</td>\n",
       "      <td>Microsoft Corporation (2018-05-04 - 2020-05-04)</td>\n",
       "    </tr>\n",
       "  </tbody>\n",
       "</table>\n",
       "</div>"
      ],
      "text/plain": [
       "     index                     domain   issuer_O  conn_count  \\\n",
       "566      1  medtronic.service-now.com  Medtronic           1   \n",
       "1031     3                api.msn.com  Medtronic           1   \n",
       "1353    81                api.msn.com  Medtronic           1   \n",
       "\n",
       "                                                  historical_ca  \n",
       "566   Entrust, Inc. (2022-01-21 20:18:08 - 2022-10-22 20:18:08)  \n",
       "1031            Microsoft Corporation (2018-05-04 - 2020-05-04)  \n",
       "1353            Microsoft Corporation (2018-05-04 - 2020-05-04)  "
      ]
     },
     "execution_count": 12,
     "metadata": {},
     "output_type": "execute_result"
    }
   ],
   "source": [
    "df[df[\"issuer_O\"] == \"Medtronic\"]"
   ]
  },
  {
   "attachments": {},
   "cell_type": "markdown",
   "metadata": {},
   "source": [
    "**Hostalia Internet S.L.U.**\n",
    "* Hostalia Internet S.L.U. is a web hosting company\n",
    "* Private certificate"
   ]
  },
  {
   "cell_type": "code",
   "execution_count": 13,
   "metadata": {},
   "outputs": [
    {
     "data": {
      "text/html": [
       "<div>\n",
       "<style scoped>\n",
       "    .dataframe tbody tr th:only-of-type {\n",
       "        vertical-align: middle;\n",
       "    }\n",
       "\n",
       "    .dataframe tbody tr th {\n",
       "        vertical-align: top;\n",
       "    }\n",
       "\n",
       "    .dataframe thead th {\n",
       "        text-align: right;\n",
       "    }\n",
       "</style>\n",
       "<table border=\"1\" class=\"dataframe\">\n",
       "  <thead>\n",
       "    <tr style=\"text-align: right;\">\n",
       "      <th></th>\n",
       "      <th>index</th>\n",
       "      <th>domain</th>\n",
       "      <th>issuer_O</th>\n",
       "      <th>conn_count</th>\n",
       "      <th>historical_ca</th>\n",
       "    </tr>\n",
       "  </thead>\n",
       "  <tbody>\n",
       "    <tr>\n",
       "      <th>920</th>\n",
       "      <td>0</td>\n",
       "      <td>lafutbolteca.com</td>\n",
       "      <td>Hostalia Internet S.L.U.</td>\n",
       "      <td>2</td>\n",
       "      <td>DigiCert Inc (2022-06-06 00:00:00 - 2023-06-06 23:59:59)</td>\n",
       "    </tr>\n",
       "  </tbody>\n",
       "</table>\n",
       "</div>"
      ],
      "text/plain": [
       "    index            domain                  issuer_O  conn_count  \\\n",
       "920     0  lafutbolteca.com  Hostalia Internet S.L.U.           2   \n",
       "\n",
       "                                                historical_ca  \n",
       "920  DigiCert Inc (2022-06-06 00:00:00 - 2023-06-06 23:59:59)  "
      ]
     },
     "execution_count": 13,
     "metadata": {},
     "output_type": "execute_result"
    }
   ],
   "source": [
    "df[df[\"issuer_O\"] == \"Hostalia Internet S.L.U.\"]"
   ]
  },
  {
   "attachments": {},
   "cell_type": "markdown",
   "metadata": {},
   "source": [
    "**StartCom Ltd.**"
   ]
  },
  {
   "attachments": {},
   "cell_type": "markdown",
   "metadata": {},
   "source": [
    "* Logged Issuer is the same as Historical Issuer"
   ]
  },
  {
   "cell_type": "code",
   "execution_count": 14,
   "metadata": {},
   "outputs": [
    {
     "data": {
      "text/html": [
       "<div>\n",
       "<style scoped>\n",
       "    .dataframe tbody tr th:only-of-type {\n",
       "        vertical-align: middle;\n",
       "    }\n",
       "\n",
       "    .dataframe tbody tr th {\n",
       "        vertical-align: top;\n",
       "    }\n",
       "\n",
       "    .dataframe thead th {\n",
       "        text-align: right;\n",
       "    }\n",
       "</style>\n",
       "<table border=\"1\" class=\"dataframe\">\n",
       "  <thead>\n",
       "    <tr style=\"text-align: right;\">\n",
       "      <th></th>\n",
       "      <th>index</th>\n",
       "      <th>domain</th>\n",
       "      <th>issuer_O</th>\n",
       "      <th>conn_count</th>\n",
       "      <th>historical_ca</th>\n",
       "    </tr>\n",
       "  </thead>\n",
       "  <tbody>\n",
       "    <tr>\n",
       "      <th>928</th>\n",
       "      <td>0</td>\n",
       "      <td>xe.cocomobi.com</td>\n",
       "      <td>StartCom Ltd.</td>\n",
       "      <td>1</td>\n",
       "      <td>StartCom Ltd. (2016-10-29 - 2019-10-29)</td>\n",
       "    </tr>\n",
       "  </tbody>\n",
       "</table>\n",
       "</div>"
      ],
      "text/plain": [
       "    index           domain       issuer_O  conn_count  \\\n",
       "928     0  xe.cocomobi.com  StartCom Ltd.           1   \n",
       "\n",
       "                               historical_ca  \n",
       "928  StartCom Ltd. (2016-10-29 - 2019-10-29)  "
      ]
     },
     "execution_count": 14,
     "metadata": {},
     "output_type": "execute_result"
    }
   ],
   "source": [
    "df[df[\"issuer_O\"] == \"StartCom Ltd.\"]"
   ]
  },
  {
   "attachments": {},
   "cell_type": "markdown",
   "metadata": {},
   "source": [
    "**Kingnet Information Technology Co.**"
   ]
  },
  {
   "cell_type": "code",
   "execution_count": 15,
   "metadata": {},
   "outputs": [
    {
     "data": {
      "text/html": [
       "<div>\n",
       "<style scoped>\n",
       "    .dataframe tbody tr th:only-of-type {\n",
       "        vertical-align: middle;\n",
       "    }\n",
       "\n",
       "    .dataframe tbody tr th {\n",
       "        vertical-align: top;\n",
       "    }\n",
       "\n",
       "    .dataframe thead th {\n",
       "        text-align: right;\n",
       "    }\n",
       "</style>\n",
       "<table border=\"1\" class=\"dataframe\">\n",
       "  <thead>\n",
       "    <tr style=\"text-align: right;\">\n",
       "      <th></th>\n",
       "      <th>index</th>\n",
       "      <th>domain</th>\n",
       "      <th>issuer_O</th>\n",
       "      <th>conn_count</th>\n",
       "      <th>historical_ca</th>\n",
       "    </tr>\n",
       "  </thead>\n",
       "  <tbody>\n",
       "    <tr>\n",
       "      <th>989</th>\n",
       "      <td>25</td>\n",
       "      <td>gzrsj.hrssgz.gov.cn</td>\n",
       "      <td>Kingnet Information Technology Co.</td>\n",
       "      <td>1</td>\n",
       "      <td>\"Kingnet Information Technology Co., Ltd.\" (2021-11-12 - 2022-11-12)</td>\n",
       "    </tr>\n",
       "  </tbody>\n",
       "</table>\n",
       "</div>"
      ],
      "text/plain": [
       "    index               domain                            issuer_O  \\\n",
       "989    25  gzrsj.hrssgz.gov.cn  Kingnet Information Technology Co.   \n",
       "\n",
       "     conn_count  \\\n",
       "989           1   \n",
       "\n",
       "                                                            historical_ca  \n",
       "989  \"Kingnet Information Technology Co., Ltd.\" (2021-11-12 - 2022-11-12)  "
      ]
     },
     "execution_count": 15,
     "metadata": {},
     "output_type": "execute_result"
    }
   ],
   "source": [
    "df[df[\"issuer_O\"] == \"Kingnet Information Technology Co.\"]"
   ]
  },
  {
   "attachments": {},
   "cell_type": "markdown",
   "metadata": {},
   "source": [
    "**PrivacySearch Ltd**\n",
    "* Possible SSL Interception case\n",
    "* Unable to find information online"
   ]
  },
  {
   "cell_type": "code",
   "execution_count": 16,
   "metadata": {},
   "outputs": [
    {
     "data": {
      "text/html": [
       "<div>\n",
       "<style scoped>\n",
       "    .dataframe tbody tr th:only-of-type {\n",
       "        vertical-align: middle;\n",
       "    }\n",
       "\n",
       "    .dataframe tbody tr th {\n",
       "        vertical-align: top;\n",
       "    }\n",
       "\n",
       "    .dataframe thead th {\n",
       "        text-align: right;\n",
       "    }\n",
       "</style>\n",
       "<table border=\"1\" class=\"dataframe\">\n",
       "  <thead>\n",
       "    <tr style=\"text-align: right;\">\n",
       "      <th></th>\n",
       "      <th>index</th>\n",
       "      <th>domain</th>\n",
       "      <th>issuer_O</th>\n",
       "      <th>conn_count</th>\n",
       "      <th>historical_ca</th>\n",
       "    </tr>\n",
       "  </thead>\n",
       "  <tbody>\n",
       "    <tr>\n",
       "      <th>1013</th>\n",
       "      <td>3</td>\n",
       "      <td>api.smoot.apple.com</td>\n",
       "      <td>PrivacySearch Ltd</td>\n",
       "      <td>1</td>\n",
       "      <td>['Apple Inc. (2022-05-24 - 2023-06-23)', '\"VeriSign, Inc.\" (2014-05-16 - 2015-05-16)']</td>\n",
       "    </tr>\n",
       "    <tr>\n",
       "      <th>1014</th>\n",
       "      <td>5</td>\n",
       "      <td>www.google.com</td>\n",
       "      <td>PrivacySearch Ltd</td>\n",
       "      <td>2</td>\n",
       "      <td>['Google Trust Services LLC (2022-07-18 - 2022-10-10)', 'Google Trust Services (2017-07-28 - 2017-10-20)', \"Let's Encrypt (2020-01-29 - 2020-04-28)\", 'Google Inc (2013-01-03 - 2013-06-07)', 'Thawte Consulting (Pty) Ltd. (2009-12-18 - 2011-12-18)', '\"cPanel, Inc.\" (2017-11-01 - 2018-01-30)', 'COMODO CA Limited (2009-02-20 - 2009-05-21)', 'The USERTRUST Network (2011-03-15 - 2014-03-14)', '\"thawte, Inc.\" (2015-09-14 - 2015-09-15)']</td>\n",
       "    </tr>\n",
       "  </tbody>\n",
       "</table>\n",
       "</div>"
      ],
      "text/plain": [
       "     index               domain           issuer_O  conn_count  \\\n",
       "1013     3  api.smoot.apple.com  PrivacySearch Ltd           1   \n",
       "1014     5       www.google.com  PrivacySearch Ltd           2   \n",
       "\n",
       "                                                                                                                                                                                                                                                                                                                                                                                                                                          historical_ca  \n",
       "1013                                                                                                                                                                                                                                                                                                                                                             ['Apple Inc. (2022-05-24 - 2023-06-23)', '\"VeriSign, Inc.\" (2014-05-16 - 2015-05-16)']  \n",
       "1014  ['Google Trust Services LLC (2022-07-18 - 2022-10-10)', 'Google Trust Services (2017-07-28 - 2017-10-20)', \"Let's Encrypt (2020-01-29 - 2020-04-28)\", 'Google Inc (2013-01-03 - 2013-06-07)', 'Thawte Consulting (Pty) Ltd. (2009-12-18 - 2011-12-18)', '\"cPanel, Inc.\" (2017-11-01 - 2018-01-30)', 'COMODO CA Limited (2009-02-20 - 2009-05-21)', 'The USERTRUST Network (2011-03-15 - 2014-03-14)', '\"thawte, Inc.\" (2015-09-14 - 2015-09-15)']  "
      ]
     },
     "execution_count": 16,
     "metadata": {},
     "output_type": "execute_result"
    }
   ],
   "source": [
    "df[df[\"issuer_O\"] == \"PrivacySearch Ltd\"]"
   ]
  },
  {
   "attachments": {},
   "cell_type": "markdown",
   "metadata": {},
   "source": [
    "**General Mills**"
   ]
  },
  {
   "attachments": {},
   "cell_type": "markdown",
   "metadata": {},
   "source": [
    "* Issuer organization confirmed to be General Mills"
   ]
  },
  {
   "cell_type": "code",
   "execution_count": 17,
   "metadata": {},
   "outputs": [
    {
     "data": {
      "text/html": [
       "<div>\n",
       "<style scoped>\n",
       "    .dataframe tbody tr th:only-of-type {\n",
       "        vertical-align: middle;\n",
       "    }\n",
       "\n",
       "    .dataframe tbody tr th {\n",
       "        vertical-align: top;\n",
       "    }\n",
       "\n",
       "    .dataframe thead th {\n",
       "        text-align: right;\n",
       "    }\n",
       "</style>\n",
       "<table border=\"1\" class=\"dataframe\">\n",
       "  <thead>\n",
       "    <tr style=\"text-align: right;\">\n",
       "      <th></th>\n",
       "      <th>index</th>\n",
       "      <th>domain</th>\n",
       "      <th>issuer_O</th>\n",
       "      <th>conn_count</th>\n",
       "      <th>historical_ca</th>\n",
       "    </tr>\n",
       "  </thead>\n",
       "  <tbody>\n",
       "    <tr>\n",
       "      <th>1138</th>\n",
       "      <td>13</td>\n",
       "      <td>tablespoon.com</td>\n",
       "      <td>General Mills</td>\n",
       "      <td>3</td>\n",
       "      <td>['\"DigiCert, Inc.\" (2023-03-01 - 2023-09-01)', 'Sectigo Limited (2021-12-27 - 2022-12-27)', 'DigiCert Inc (2022-04-27 - 2023-05-25)', 'COMODO CA Limited (2013-06-24 - 2016-06-23)', 'Cybertrust Inc (2013-10-02 - 2014-10-02)', 'The USERTRUST Network (2012-09-13 - 2013-09-13)', 'Verizon Enterprise Solutions (2015-01-24 - 2016-01-24)', 'GeoTrust Inc. (2015-03-16 - 2016-06-17)', '\"GeoTrust, Inc.\" (2013-10-09 - 2014-09-14)', 'Comodo CA Limited (2009-05-20 - 2011-05-20)']</td>\n",
       "    </tr>\n",
       "  </tbody>\n",
       "</table>\n",
       "</div>"
      ],
      "text/plain": [
       "     index          domain       issuer_O  conn_count  \\\n",
       "1138    13  tablespoon.com  General Mills           3   \n",
       "\n",
       "                                                                                                                                                                                                                                                                                                                                                                                                                                                                              historical_ca  \n",
       "1138  ['\"DigiCert, Inc.\" (2023-03-01 - 2023-09-01)', 'Sectigo Limited (2021-12-27 - 2022-12-27)', 'DigiCert Inc (2022-04-27 - 2023-05-25)', 'COMODO CA Limited (2013-06-24 - 2016-06-23)', 'Cybertrust Inc (2013-10-02 - 2014-10-02)', 'The USERTRUST Network (2012-09-13 - 2013-09-13)', 'Verizon Enterprise Solutions (2015-01-24 - 2016-01-24)', 'GeoTrust Inc. (2015-03-16 - 2016-06-17)', '\"GeoTrust, Inc.\" (2013-10-09 - 2014-09-14)', 'Comodo CA Limited (2009-05-20 - 2011-05-20)']  "
      ]
     },
     "execution_count": 17,
     "metadata": {},
     "output_type": "execute_result"
    }
   ],
   "source": [
    "df[df[\"issuer_O\"] == \"General Mills\"]"
   ]
  },
  {
   "attachments": {},
   "cell_type": "markdown",
   "metadata": {},
   "source": [
    "**Fuzhou Quyun Information Technology Co.**"
   ]
  },
  {
   "cell_type": "code",
   "execution_count": 18,
   "metadata": {},
   "outputs": [
    {
     "data": {
      "text/html": [
       "<div>\n",
       "<style scoped>\n",
       "    .dataframe tbody tr th:only-of-type {\n",
       "        vertical-align: middle;\n",
       "    }\n",
       "\n",
       "    .dataframe tbody tr th {\n",
       "        vertical-align: top;\n",
       "    }\n",
       "\n",
       "    .dataframe thead th {\n",
       "        text-align: right;\n",
       "    }\n",
       "</style>\n",
       "<table border=\"1\" class=\"dataframe\">\n",
       "  <thead>\n",
       "    <tr style=\"text-align: right;\">\n",
       "      <th></th>\n",
       "      <th>index</th>\n",
       "      <th>domain</th>\n",
       "      <th>issuer_O</th>\n",
       "      <th>conn_count</th>\n",
       "      <th>historical_ca</th>\n",
       "    </tr>\n",
       "  </thead>\n",
       "  <tbody>\n",
       "    <tr>\n",
       "      <th>1284</th>\n",
       "      <td>4</td>\n",
       "      <td>www.cl9390.com</td>\n",
       "      <td>Fuzhou Quyun Information Technology Co.</td>\n",
       "      <td>2</td>\n",
       "      <td>Let's Encrypt (2022-04-04 - 2022-07-03)</td>\n",
       "    </tr>\n",
       "  </tbody>\n",
       "</table>\n",
       "</div>"
      ],
      "text/plain": [
       "     index          domain                                 issuer_O  \\\n",
       "1284     4  www.cl9390.com  Fuzhou Quyun Information Technology Co.   \n",
       "\n",
       "      conn_count                            historical_ca  \n",
       "1284           2  Let's Encrypt (2022-04-04 - 2022-07-03)  "
      ]
     },
     "execution_count": 18,
     "metadata": {},
     "output_type": "execute_result"
    }
   ],
   "source": [
    "df[df[\"issuer_O\"] == \"Fuzhou Quyun Information Technology Co.\"]"
   ]
  },
  {
   "attachments": {},
   "cell_type": "markdown",
   "metadata": {},
   "source": [
    "**snap-cloud**"
   ]
  },
  {
   "attachments": {},
   "cell_type": "markdown",
   "metadata": {},
   "source": [
    "* Likely self-signed"
   ]
  },
  {
   "cell_type": "code",
   "execution_count": 19,
   "metadata": {},
   "outputs": [
    {
     "data": {
      "text/html": [
       "<div>\n",
       "<style scoped>\n",
       "    .dataframe tbody tr th:only-of-type {\n",
       "        vertical-align: middle;\n",
       "    }\n",
       "\n",
       "    .dataframe tbody tr th {\n",
       "        vertical-align: top;\n",
       "    }\n",
       "\n",
       "    .dataframe thead th {\n",
       "        text-align: right;\n",
       "    }\n",
       "</style>\n",
       "<table border=\"1\" class=\"dataframe\">\n",
       "  <thead>\n",
       "    <tr style=\"text-align: right;\">\n",
       "      <th></th>\n",
       "      <th>index</th>\n",
       "      <th>domain</th>\n",
       "      <th>issuer_O</th>\n",
       "      <th>conn_count</th>\n",
       "      <th>historical_ca</th>\n",
       "    </tr>\n",
       "  </thead>\n",
       "  <tbody>\n",
       "    <tr>\n",
       "      <th>1395</th>\n",
       "      <td>13</td>\n",
       "      <td>agent.bpsnap.com</td>\n",
       "      <td>snap-cloud</td>\n",
       "      <td>1</td>\n",
       "      <td>Amazon (2022-05-12 - 2023-06-10)</td>\n",
       "    </tr>\n",
       "    <tr>\n",
       "      <th>1405</th>\n",
       "      <td>5</td>\n",
       "      <td>agent.bpsnap.com</td>\n",
       "      <td>snap-cloud</td>\n",
       "      <td>1</td>\n",
       "      <td>Amazon (2022-05-12 - 2023-06-10)</td>\n",
       "    </tr>\n",
       "  </tbody>\n",
       "</table>\n",
       "</div>"
      ],
      "text/plain": [
       "     index            domain    issuer_O  conn_count  \\\n",
       "1395    13  agent.bpsnap.com  snap-cloud           1   \n",
       "1405     5  agent.bpsnap.com  snap-cloud           1   \n",
       "\n",
       "                         historical_ca  \n",
       "1395  Amazon (2022-05-12 - 2023-06-10)  \n",
       "1405  Amazon (2022-05-12 - 2023-06-10)  "
      ]
     },
     "execution_count": 19,
     "metadata": {},
     "output_type": "execute_result"
    }
   ],
   "source": [
    "df[df[\"issuer_O\"] == \"snap-cloud\"]"
   ]
  }
 ],
 "metadata": {
  "kernelspec": {
   "display_name": "Python 3",
   "language": "python",
   "name": "python3"
  },
  "language_info": {
   "codemirror_mode": {
    "name": "ipython",
    "version": 3
   },
   "file_extension": ".py",
   "mimetype": "text/x-python",
   "name": "python",
   "nbconvert_exporter": "python",
   "pygments_lexer": "ipython3",
   "version": "3.8.10"
  },
  "orig_nbformat": 4
 },
 "nbformat": 4,
 "nbformat_minor": 2
}
