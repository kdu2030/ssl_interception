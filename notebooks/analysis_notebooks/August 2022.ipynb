{
 "cells": [
  {
   "cell_type": "code",
   "execution_count": 2,
   "metadata": {},
   "outputs": [],
   "source": [
    "from analysis_helpers.intercept_helpers import process_parquet_dir\n",
    "import pandas as pd"
   ]
  },
  {
   "cell_type": "code",
   "execution_count": 4,
   "metadata": {},
   "outputs": [
    {
     "name": "stderr",
     "output_type": "stream",
     "text": [
      "/home/ubuntu/GitLab/ssl_interception/notebooks/analysis_notebooks/analysis_helpers/intercept_helpers.py:43: SettingWithCopyWarning: \n",
      "A value is trying to be set on a copy of a slice from a DataFrame.\n",
      "Try using .loc[row_indexer,col_indexer] = value instead\n",
      "\n",
      "See the caveats in the documentation: https://pandas.pydata.org/pandas-docs/stable/user_guide/indexing.html#returning-a-view-versus-a-copy\n",
      "  df[\"does_ca_match\"] = df.apply(lambda row: does_ca_match(\n"
     ]
    }
   ],
   "source": [
    "data_path = \"/mnt/chaseproject/uva/kd5eyn/intercept_data/2022-08-01_2022-08-31/\"\n",
    "df = process_parquet_dir(data_path)"
   ]
  },
  {
   "cell_type": "code",
   "execution_count": 5,
   "metadata": {},
   "outputs": [
    {
     "name": "stdout",
     "output_type": "stream",
     "text": [
      "Sectigo Limited\n",
      "N=3x1M07 1V: 7dAoqV43.6TvBx0Nq6.6l\n",
      "N=uGPnM2n4wJj 5EbvZ8tQOb 1V,DC=healthsouth,DC=insidehrc,DC=co\n",
      "N=13MPnX0jgs,DC=despreinte,DC=loca\n",
      "General Mills\n",
      "Acme C\n",
      "N=7Fw6H 2cMYVTs\n",
      "Kabam Games Inc.\n",
      "N=6Fk1JiB 1kKtVMy 11d\n",
      "GlobalSign nv-sa\n",
      "CloudFlare\n",
      "GoDaddy.com\n",
      "VK\n",
      "N=6Mi7ZTi\n",
      "Leido\n",
      "N=67FxPju\n",
      "N=4K2VsoWa\n",
      "Temporary CA a0305fb9-1d21-4142-9f97-e1c6efdab8f\n",
      "Northrop Grumman Corporation\n",
      "N=7Z8yTu\n",
      "N=DgeCL AodfQR 5jYylAHA 1\n",
      "Bad Server Certificate [invalid server certificate]\n",
      "Opera Software ASA\n",
      "N=www.ri6pbifrdlwa.co\n",
      "GeoTrust Inc.\n",
      "N=3cN-6csb-4fkbjMa-1V,DC=na,DC=fti,DC=loca\n",
      "N=6vaMXDqR\n",
      "N=5a8uEGx 73oFVybUf 5lja1WF 1V \n",
      "The USERTRUST Network\n",
      "GSM Associatio\n",
      "DigiCert Global Root CA\n",
      "Peloton Interactive Inc\n",
      "thawte\n",
      "McAfee Inc.\n",
      "Medtronic\n",
      "N=1Hx32o2d\n",
      "Mimecast Services Ltd\n",
      "snap-cloud\n",
      "COMODO CA Limited\n",
      "N=41xd-6t5up-6\n",
      "Infoblox\n",
      "N=6YS6OZzf5ijAu04zZ,DC=CLG,DC=Loca\n",
      "N=5jANS_HoC46Ta_5NwR_7e4ao\n",
      "N=ca.fobwifi.co\n",
      "Verizon Enterprise Solutions\n",
      "Palo-Alto-Networks-Inc.\n",
      "Red Button Ltd\n",
      "N=DgeCL AodfQR 7Os 5jYylAHA 1\n",
      "Cubiware Sp. z o.o.\n",
      "Azur\n",
      "N=3Q4Dsb9\n",
      "N=3sF 5B0NW 1V 1y,DC=AME,DC=GB\n",
      "FNMT-RCM\n",
      "DigiCert\n",
      "N=16AWS-7Js-2U1uGKgZ4u\n",
      "N=6HFoogDDHKdQ0A\n",
      "Synology Inc.\n",
      "N=QJldbo1\n",
      "LBE\n",
      "N=2XJ-6eiPrzGDXxc,DC=India,DC=TCS,DC=co\n",
      "N=3x1M07 1V: 2HL4gm.unCmGq.6o\n",
      "N=e2etestsworker.localhos\n",
      "StartCom Ltd.\n",
      "LucidLink Corp.\n",
      "GeoTrust\n",
      "N=5GJv8ftAj\n",
      "RMC Events\n",
      "CMI\n",
      "Baidu\n",
      "N=5-5N44-3-3\n",
      "Lockheed Martin Corporation\n",
      "Volante\n",
      "N=2hsqsq-2XqsqkB\n",
      "I\n",
      "Linden Lab\n",
      "CSC\n",
      "N=255V\n",
      "Internet Widgits Pty Ltd\n",
      "nQualifier=4a6KdI67-2vip-7lAn-28rA-2a5GinhFnBMw,CN=1msQj6pBELU 6Nwi 1\n",
      "N=4bU3-1OvNi5pHLHpRCb-1V,DC=petc,DC=co\n",
      "Cloudflare\n",
      "N=websync.cavaliers.DVSport.co\n",
      "N=www.u2w53kjq.co\n",
      "nQualifier=1xKEXgaI-4tSK-4PRz-52RJ-227bMeyOuNLI,CN=1msQj6pBELU 6Nwi 1\n",
      "Boehringer Ingelheim\n",
      "N=www.chtsnm4zgajvchqjo.co\n"
     ]
    }
   ],
   "source": [
    "unique_issuers = df[\"issuer_O\"].unique()\n",
    "for issuer in unique_issuers:\n",
    "    print(issuer)"
   ]
  },
  {
   "attachments": {},
   "cell_type": "markdown",
   "metadata": {},
   "source": [
    "**Infoblox**"
   ]
  },
  {
   "attachments": {},
   "cell_type": "markdown",
   "metadata": {},
   "source": [
    "* https://www.infoblox.com/company/why-infoblox/\n",
    "* Infoblox provides cybersecurity software"
   ]
  },
  {
   "cell_type": "code",
   "execution_count": 7,
   "metadata": {},
   "outputs": [
    {
     "data": {
      "text/html": [
       "<div>\n",
       "<style scoped>\n",
       "    .dataframe tbody tr th:only-of-type {\n",
       "        vertical-align: middle;\n",
       "    }\n",
       "\n",
       "    .dataframe tbody tr th {\n",
       "        vertical-align: top;\n",
       "    }\n",
       "\n",
       "    .dataframe thead th {\n",
       "        text-align: right;\n",
       "    }\n",
       "</style>\n",
       "<table border=\"1\" class=\"dataframe\">\n",
       "  <thead>\n",
       "    <tr style=\"text-align: right;\">\n",
       "      <th></th>\n",
       "      <th>index</th>\n",
       "      <th>domain</th>\n",
       "      <th>issuer_O</th>\n",
       "      <th>conn_count</th>\n",
       "      <th>historical_ca</th>\n",
       "    </tr>\n",
       "  </thead>\n",
       "  <tbody>\n",
       "    <tr>\n",
       "      <th>363</th>\n",
       "      <td>168</td>\n",
       "      <td>www.monacannation.com</td>\n",
       "      <td>Infoblox</td>\n",
       "      <td>5</td>\n",
       "      <td>[\"Let's Encrypt (2022-06-19 - 2022-09-17)\", 'GeoTrust Inc. (2016-11-15 - 2017-11-15)']</td>\n",
       "    </tr>\n",
       "    <tr>\n",
       "      <th>659</th>\n",
       "      <td>77</td>\n",
       "      <td>www.monacannation.com</td>\n",
       "      <td>Infoblox</td>\n",
       "      <td>3</td>\n",
       "      <td>[\"Let's Encrypt (2022-06-19 - 2022-09-17)\", 'GeoTrust Inc. (2016-11-15 - 2017-11-15)']</td>\n",
       "    </tr>\n",
       "    <tr>\n",
       "      <th>955</th>\n",
       "      <td>69</td>\n",
       "      <td>www.monacannation.com</td>\n",
       "      <td>Infoblox</td>\n",
       "      <td>9</td>\n",
       "      <td>[\"Let's Encrypt (2022-06-19 - 2022-09-17)\", 'GeoTrust Inc. (2016-11-15 - 2017-11-15)']</td>\n",
       "    </tr>\n",
       "    <tr>\n",
       "      <th>1014</th>\n",
       "      <td>148</td>\n",
       "      <td>www.monacannation.com</td>\n",
       "      <td>Infoblox</td>\n",
       "      <td>7</td>\n",
       "      <td>[\"Let's Encrypt (2022-06-19 - 2022-09-17)\", 'GeoTrust Inc. (2016-11-15 - 2017-11-15)']</td>\n",
       "    </tr>\n",
       "    <tr>\n",
       "      <th>1042</th>\n",
       "      <td>69</td>\n",
       "      <td>www.monacannation.com</td>\n",
       "      <td>Infoblox</td>\n",
       "      <td>6</td>\n",
       "      <td>[\"Let's Encrypt (2022-06-19 - 2022-09-17)\", 'GeoTrust Inc. (2016-11-15 - 2017-11-15)']</td>\n",
       "    </tr>\n",
       "    <tr>\n",
       "      <th>1086</th>\n",
       "      <td>116</td>\n",
       "      <td>www.monacannation.com</td>\n",
       "      <td>Infoblox</td>\n",
       "      <td>1</td>\n",
       "      <td>[\"Let's Encrypt (2022-06-19 - 2022-09-17)\", 'GeoTrust Inc. (2016-11-15 - 2017-11-15)']</td>\n",
       "    </tr>\n",
       "    <tr>\n",
       "      <th>1160</th>\n",
       "      <td>68</td>\n",
       "      <td>www.monacannation.com</td>\n",
       "      <td>Infoblox</td>\n",
       "      <td>1</td>\n",
       "      <td>[\"Let's Encrypt (2022-06-19 - 2022-09-17)\", 'GeoTrust Inc. (2016-11-15 - 2017-11-15)']</td>\n",
       "    </tr>\n",
       "  </tbody>\n",
       "</table>\n",
       "</div>"
      ],
      "text/plain": [
       "     index                 domain  issuer_O  conn_count  \\\n",
       "363    168  www.monacannation.com  Infoblox           5   \n",
       "659     77  www.monacannation.com  Infoblox           3   \n",
       "955     69  www.monacannation.com  Infoblox           9   \n",
       "1014   148  www.monacannation.com  Infoblox           7   \n",
       "1042    69  www.monacannation.com  Infoblox           6   \n",
       "1086   116  www.monacannation.com  Infoblox           1   \n",
       "1160    68  www.monacannation.com  Infoblox           1   \n",
       "\n",
       "                                                                               historical_ca  \n",
       "363   [\"Let's Encrypt (2022-06-19 - 2022-09-17)\", 'GeoTrust Inc. (2016-11-15 - 2017-11-15)']  \n",
       "659   [\"Let's Encrypt (2022-06-19 - 2022-09-17)\", 'GeoTrust Inc. (2016-11-15 - 2017-11-15)']  \n",
       "955   [\"Let's Encrypt (2022-06-19 - 2022-09-17)\", 'GeoTrust Inc. (2016-11-15 - 2017-11-15)']  \n",
       "1014  [\"Let's Encrypt (2022-06-19 - 2022-09-17)\", 'GeoTrust Inc. (2016-11-15 - 2017-11-15)']  \n",
       "1042  [\"Let's Encrypt (2022-06-19 - 2022-09-17)\", 'GeoTrust Inc. (2016-11-15 - 2017-11-15)']  \n",
       "1086  [\"Let's Encrypt (2022-06-19 - 2022-09-17)\", 'GeoTrust Inc. (2016-11-15 - 2017-11-15)']  \n",
       "1160  [\"Let's Encrypt (2022-06-19 - 2022-09-17)\", 'GeoTrust Inc. (2016-11-15 - 2017-11-15)']  "
      ]
     },
     "execution_count": 7,
     "metadata": {},
     "output_type": "execute_result"
    }
   ],
   "source": [
    "pd.set_option(\"colwidth\", None)\n",
    "df[df[\"issuer_O\"] == \"Infoblox\"]"
   ]
  },
  {
   "attachments": {},
   "cell_type": "markdown",
   "metadata": {},
   "source": [
    "**Red Button Ltd**"
   ]
  },
  {
   "attachments": {},
   "cell_type": "markdown",
   "metadata": {},
   "source": [
    "* Red Button Ltd provides DDOS training and vulnerability analysis - https://www.red-button.net/"
   ]
  },
  {
   "cell_type": "code",
   "execution_count": 8,
   "metadata": {},
   "outputs": [
    {
     "data": {
      "text/html": [
       "<div>\n",
       "<style scoped>\n",
       "    .dataframe tbody tr th:only-of-type {\n",
       "        vertical-align: middle;\n",
       "    }\n",
       "\n",
       "    .dataframe tbody tr th {\n",
       "        vertical-align: top;\n",
       "    }\n",
       "\n",
       "    .dataframe thead th {\n",
       "        text-align: right;\n",
       "    }\n",
       "</style>\n",
       "<table border=\"1\" class=\"dataframe\">\n",
       "  <thead>\n",
       "    <tr style=\"text-align: right;\">\n",
       "      <th></th>\n",
       "      <th>index</th>\n",
       "      <th>domain</th>\n",
       "      <th>issuer_O</th>\n",
       "      <th>conn_count</th>\n",
       "      <th>historical_ca</th>\n",
       "    </tr>\n",
       "  </thead>\n",
       "  <tbody>\n",
       "    <tr>\n",
       "      <th>504</th>\n",
       "      <td>9</td>\n",
       "      <td>mm.prod.battletitans.net</td>\n",
       "      <td>Red Button Ltd</td>\n",
       "      <td>1</td>\n",
       "      <td>COMODO CA Limited (2017-02-21 - 2017-08-06)</td>\n",
       "    </tr>\n",
       "    <tr>\n",
       "      <th>505</th>\n",
       "      <td>17</td>\n",
       "      <td>profile.prod.battletitans.net</td>\n",
       "      <td>Red Button Ltd</td>\n",
       "      <td>1</td>\n",
       "      <td>COMODO CA Limited (2017-02-21 - 2017-08-06)</td>\n",
       "    </tr>\n",
       "  </tbody>\n",
       "</table>\n",
       "</div>"
      ],
      "text/plain": [
       "    index                         domain        issuer_O  conn_count  \\\n",
       "504     9       mm.prod.battletitans.net  Red Button Ltd           1   \n",
       "505    17  profile.prod.battletitans.net  Red Button Ltd           1   \n",
       "\n",
       "                                   historical_ca  \n",
       "504  COMODO CA Limited (2017-02-21 - 2017-08-06)  \n",
       "505  COMODO CA Limited (2017-02-21 - 2017-08-06)  "
      ]
     },
     "execution_count": 8,
     "metadata": {},
     "output_type": "execute_result"
    }
   ],
   "source": [
    "df[df[\"issuer_O\"] == \"Red Button Ltd\"]"
   ]
  },
  {
   "attachments": {},
   "cell_type": "markdown",
   "metadata": {},
   "source": [
    "**Cubiware Sp. z o.o.**"
   ]
  },
  {
   "attachments": {},
   "cell_type": "markdown",
   "metadata": {},
   "source": [
    "* Private certificate - Censys.io confirms that portal-public.vod.zoominternet.net's certificate was issued by Cubiware"
   ]
  },
  {
   "cell_type": "code",
   "execution_count": 9,
   "metadata": {},
   "outputs": [
    {
     "data": {
      "text/html": [
       "<div>\n",
       "<style scoped>\n",
       "    .dataframe tbody tr th:only-of-type {\n",
       "        vertical-align: middle;\n",
       "    }\n",
       "\n",
       "    .dataframe tbody tr th {\n",
       "        vertical-align: top;\n",
       "    }\n",
       "\n",
       "    .dataframe thead th {\n",
       "        text-align: right;\n",
       "    }\n",
       "</style>\n",
       "<table border=\"1\" class=\"dataframe\">\n",
       "  <thead>\n",
       "    <tr style=\"text-align: right;\">\n",
       "      <th></th>\n",
       "      <th>index</th>\n",
       "      <th>domain</th>\n",
       "      <th>issuer_O</th>\n",
       "      <th>conn_count</th>\n",
       "      <th>historical_ca</th>\n",
       "    </tr>\n",
       "  </thead>\n",
       "  <tbody>\n",
       "    <tr>\n",
       "      <th>557</th>\n",
       "      <td>24</td>\n",
       "      <td>portal-public.vod.zoominternet.net</td>\n",
       "      <td>Cubiware Sp. z o.o.</td>\n",
       "      <td>2</td>\n",
       "      <td>DigiCert Inc (2021-09-16 - 2022-10-08)</td>\n",
       "    </tr>\n",
       "  </tbody>\n",
       "</table>\n",
       "</div>"
      ],
      "text/plain": [
       "    index                              domain             issuer_O  \\\n",
       "557    24  portal-public.vod.zoominternet.net  Cubiware Sp. z o.o.   \n",
       "\n",
       "     conn_count                           historical_ca  \n",
       "557           2  DigiCert Inc (2021-09-16 - 2022-10-08)  "
      ]
     },
     "execution_count": 9,
     "metadata": {},
     "output_type": "execute_result"
    }
   ],
   "source": [
    "df[df[\"issuer_O\"] == \"Cubiware Sp. z o.o.\"]"
   ]
  },
  {
   "attachments": {},
   "cell_type": "markdown",
   "metadata": {},
   "source": [
    "**Azur**"
   ]
  },
  {
   "attachments": {},
   "cell_type": "markdown",
   "metadata": {},
   "source": [
    "* Likely self-signed certificate"
   ]
  },
  {
   "cell_type": "code",
   "execution_count": 10,
   "metadata": {},
   "outputs": [
    {
     "data": {
      "text/html": [
       "<div>\n",
       "<style scoped>\n",
       "    .dataframe tbody tr th:only-of-type {\n",
       "        vertical-align: middle;\n",
       "    }\n",
       "\n",
       "    .dataframe tbody tr th {\n",
       "        vertical-align: top;\n",
       "    }\n",
       "\n",
       "    .dataframe thead th {\n",
       "        text-align: right;\n",
       "    }\n",
       "</style>\n",
       "<table border=\"1\" class=\"dataframe\">\n",
       "  <thead>\n",
       "    <tr style=\"text-align: right;\">\n",
       "      <th></th>\n",
       "      <th>index</th>\n",
       "      <th>domain</th>\n",
       "      <th>issuer_O</th>\n",
       "      <th>conn_count</th>\n",
       "      <th>historical_ca</th>\n",
       "    </tr>\n",
       "  </thead>\n",
       "  <tbody>\n",
       "    <tr>\n",
       "      <th>620</th>\n",
       "      <td>0</td>\n",
       "      <td>profile-failover.prod.fmm.azurgames.com</td>\n",
       "      <td>Azur</td>\n",
       "      <td>2</td>\n",
       "      <td>Let's Encrypt (2020-05-24 08:54:55 - 2020-08-22 08:54:55)</td>\n",
       "    </tr>\n",
       "    <tr>\n",
       "      <th>625</th>\n",
       "      <td>16</td>\n",
       "      <td>mm-us.prod.fmm.azurgames.com</td>\n",
       "      <td>Azur</td>\n",
       "      <td>5</td>\n",
       "      <td>['\"Cloudflare, Inc.\" (2022-05-11 - 2023-05-10)', 'Sectigo Limited (2021-10-22 - 2022-11-22)', '\"CloudFlare, Inc.\" (2019-02-11 - 2020-02-11)', 'COMODO CA Limited (2018-11-09 - 2020-11-08)']</td>\n",
       "    </tr>\n",
       "    <tr>\n",
       "      <th>627</th>\n",
       "      <td>57</td>\n",
       "      <td>profile.prod.fmm.azurgames.com</td>\n",
       "      <td>Azur</td>\n",
       "      <td>4</td>\n",
       "      <td>['\"Cloudflare, Inc.\" (2022-05-11 - 2023-05-10)', 'Sectigo Limited (2021-10-22 - 2022-11-22)', '\"CloudFlare, Inc.\" (2019-02-11 - 2020-02-11)', 'COMODO CA Limited (2018-11-09 - 2020-11-08)']</td>\n",
       "    </tr>\n",
       "  </tbody>\n",
       "</table>\n",
       "</div>"
      ],
      "text/plain": [
       "    index                                   domain issuer_O  conn_count  \\\n",
       "620     0  profile-failover.prod.fmm.azurgames.com     Azur           2   \n",
       "625    16             mm-us.prod.fmm.azurgames.com     Azur           5   \n",
       "627    57           profile.prod.fmm.azurgames.com     Azur           4   \n",
       "\n",
       "                                                                                                                                                                                    historical_ca  \n",
       "620                                                                                                                                     Let's Encrypt (2020-05-24 08:54:55 - 2020-08-22 08:54:55)  \n",
       "625  ['\"Cloudflare, Inc.\" (2022-05-11 - 2023-05-10)', 'Sectigo Limited (2021-10-22 - 2022-11-22)', '\"CloudFlare, Inc.\" (2019-02-11 - 2020-02-11)', 'COMODO CA Limited (2018-11-09 - 2020-11-08)']  \n",
       "627  ['\"Cloudflare, Inc.\" (2022-05-11 - 2023-05-10)', 'Sectigo Limited (2021-10-22 - 2022-11-22)', '\"CloudFlare, Inc.\" (2019-02-11 - 2020-02-11)', 'COMODO CA Limited (2018-11-09 - 2020-11-08)']  "
      ]
     },
     "execution_count": 10,
     "metadata": {},
     "output_type": "execute_result"
    }
   ],
   "source": [
    "df[df[\"issuer_O\"] == \"Azur\"]"
   ]
  },
  {
   "attachments": {},
   "cell_type": "markdown",
   "metadata": {},
   "source": [
    "**LucidLink Corp.**"
   ]
  },
  {
   "attachments": {},
   "cell_type": "markdown",
   "metadata": {},
   "source": [
    "* Private certificate - LucidLink is the issuer organiztion for test-scripts.transparentbpo.com's certificate"
   ]
  },
  {
   "cell_type": "code",
   "execution_count": 11,
   "metadata": {},
   "outputs": [
    {
     "data": {
      "text/html": [
       "<div>\n",
       "<style scoped>\n",
       "    .dataframe tbody tr th:only-of-type {\n",
       "        vertical-align: middle;\n",
       "    }\n",
       "\n",
       "    .dataframe tbody tr th {\n",
       "        vertical-align: top;\n",
       "    }\n",
       "\n",
       "    .dataframe thead th {\n",
       "        text-align: right;\n",
       "    }\n",
       "</style>\n",
       "<table border=\"1\" class=\"dataframe\">\n",
       "  <thead>\n",
       "    <tr style=\"text-align: right;\">\n",
       "      <th></th>\n",
       "      <th>index</th>\n",
       "      <th>domain</th>\n",
       "      <th>issuer_O</th>\n",
       "      <th>conn_count</th>\n",
       "      <th>historical_ca</th>\n",
       "    </tr>\n",
       "  </thead>\n",
       "  <tbody>\n",
       "    <tr>\n",
       "      <th>893</th>\n",
       "      <td>4</td>\n",
       "      <td>test-scripts.transparentbpo.com</td>\n",
       "      <td>LucidLink Corp.</td>\n",
       "      <td>4</td>\n",
       "      <td>[\"Let's Encrypt (2018-02-27 - 2018-05-28)\", '\"GoDaddy.com, Inc.\" (2014-06-25 - 2015-06-25)']</td>\n",
       "    </tr>\n",
       "  </tbody>\n",
       "</table>\n",
       "</div>"
      ],
      "text/plain": [
       "    index                           domain         issuer_O  conn_count  \\\n",
       "893     4  test-scripts.transparentbpo.com  LucidLink Corp.           4   \n",
       "\n",
       "                                                                                    historical_ca  \n",
       "893  [\"Let's Encrypt (2018-02-27 - 2018-05-28)\", '\"GoDaddy.com, Inc.\" (2014-06-25 - 2015-06-25)']  "
      ]
     },
     "execution_count": 11,
     "metadata": {},
     "output_type": "execute_result"
    }
   ],
   "source": [
    "df[df[\"issuer_O\"] == \"LucidLink Corp.\"]"
   ]
  },
  {
   "attachments": {},
   "cell_type": "markdown",
   "metadata": {},
   "source": [
    "**RMC Events**"
   ]
  },
  {
   "attachments": {},
   "cell_type": "markdown",
   "metadata": {},
   "source": [
    "* Likely self-signed certificate"
   ]
  },
  {
   "cell_type": "code",
   "execution_count": 12,
   "metadata": {},
   "outputs": [
    {
     "data": {
      "text/html": [
       "<div>\n",
       "<style scoped>\n",
       "    .dataframe tbody tr th:only-of-type {\n",
       "        vertical-align: middle;\n",
       "    }\n",
       "\n",
       "    .dataframe tbody tr th {\n",
       "        vertical-align: top;\n",
       "    }\n",
       "\n",
       "    .dataframe thead th {\n",
       "        text-align: right;\n",
       "    }\n",
       "</style>\n",
       "<table border=\"1\" class=\"dataframe\">\n",
       "  <thead>\n",
       "    <tr style=\"text-align: right;\">\n",
       "      <th></th>\n",
       "      <th>index</th>\n",
       "      <th>domain</th>\n",
       "      <th>issuer_O</th>\n",
       "      <th>conn_count</th>\n",
       "      <th>historical_ca</th>\n",
       "    </tr>\n",
       "  </thead>\n",
       "  <tbody>\n",
       "    <tr>\n",
       "      <th>995</th>\n",
       "      <td>6</td>\n",
       "      <td>rmcevents.mxvirtual.com</td>\n",
       "      <td>RMC Events</td>\n",
       "      <td>8</td>\n",
       "      <td>['Sectigo Limited (2021-11-23 - 2022-12-07)', 'COMODO CA Limited (2017-11-01 - 2020-12-05)', 'DigiCert Inc (2018-01-29 - 2019-02-06)']</td>\n",
       "    </tr>\n",
       "  </tbody>\n",
       "</table>\n",
       "</div>"
      ],
      "text/plain": [
       "    index                   domain    issuer_O  conn_count  \\\n",
       "995     6  rmcevents.mxvirtual.com  RMC Events           8   \n",
       "\n",
       "                                                                                                                              historical_ca  \n",
       "995  ['Sectigo Limited (2021-11-23 - 2022-12-07)', 'COMODO CA Limited (2017-11-01 - 2020-12-05)', 'DigiCert Inc (2018-01-29 - 2019-02-06)']  "
      ]
     },
     "execution_count": 12,
     "metadata": {},
     "output_type": "execute_result"
    }
   ],
   "source": [
    "df[df[\"issuer_O\"] == \"RMC Events\"]"
   ]
  },
  {
   "attachments": {},
   "cell_type": "markdown",
   "metadata": {},
   "source": [
    "**Internet Widgits Pty Ltd**"
   ]
  },
  {
   "attachments": {},
   "cell_type": "markdown",
   "metadata": {},
   "source": [
    "* Internet Widgits Pty Ltd is the default name of the issuer organization for certificates generated by OpenSSL"
   ]
  },
  {
   "cell_type": "code",
   "execution_count": 13,
   "metadata": {},
   "outputs": [
    {
     "data": {
      "text/html": [
       "<div>\n",
       "<style scoped>\n",
       "    .dataframe tbody tr th:only-of-type {\n",
       "        vertical-align: middle;\n",
       "    }\n",
       "\n",
       "    .dataframe tbody tr th {\n",
       "        vertical-align: top;\n",
       "    }\n",
       "\n",
       "    .dataframe thead th {\n",
       "        text-align: right;\n",
       "    }\n",
       "</style>\n",
       "<table border=\"1\" class=\"dataframe\">\n",
       "  <thead>\n",
       "    <tr style=\"text-align: right;\">\n",
       "      <th></th>\n",
       "      <th>index</th>\n",
       "      <th>domain</th>\n",
       "      <th>issuer_O</th>\n",
       "      <th>conn_count</th>\n",
       "      <th>historical_ca</th>\n",
       "    </tr>\n",
       "  </thead>\n",
       "  <tbody>\n",
       "    <tr>\n",
       "      <th>1226</th>\n",
       "      <td>9</td>\n",
       "      <td>voice.bankofbeijing.com.cn</td>\n",
       "      <td>Internet Widgits Pty Ltd</td>\n",
       "      <td>1</td>\n",
       "      <td>GlobalSign nv-sa (2022-08-09 - 2023-09-10)</td>\n",
       "    </tr>\n",
       "  </tbody>\n",
       "</table>\n",
       "</div>"
      ],
      "text/plain": [
       "     index                      domain                  issuer_O  conn_count  \\\n",
       "1226     9  voice.bankofbeijing.com.cn  Internet Widgits Pty Ltd           1   \n",
       "\n",
       "                                   historical_ca  \n",
       "1226  GlobalSign nv-sa (2022-08-09 - 2023-09-10)  "
      ]
     },
     "execution_count": 13,
     "metadata": {},
     "output_type": "execute_result"
    }
   ],
   "source": [
    "df[df[\"issuer_O\"] == \"Internet Widgits Pty Ltd\"]"
   ]
  },
  {
   "attachments": {},
   "cell_type": "markdown",
   "metadata": {},
   "source": [
    "**Boehringer Ingelheim**"
   ]
  },
  {
   "attachments": {},
   "cell_type": "markdown",
   "metadata": {},
   "source": [
    "* Boehringer Ingelheim is a pharmaceutical company - https://www.boehringer-ingelheim.com/\n",
    "* Doesn't appear to be any connection between builds.cdn.getgo.com - Verified certificate issuer on Censys, no connection in Whois data"
   ]
  },
  {
   "cell_type": "code",
   "execution_count": 14,
   "metadata": {},
   "outputs": [
    {
     "data": {
      "text/html": [
       "<div>\n",
       "<style scoped>\n",
       "    .dataframe tbody tr th:only-of-type {\n",
       "        vertical-align: middle;\n",
       "    }\n",
       "\n",
       "    .dataframe tbody tr th {\n",
       "        vertical-align: top;\n",
       "    }\n",
       "\n",
       "    .dataframe thead th {\n",
       "        text-align: right;\n",
       "    }\n",
       "</style>\n",
       "<table border=\"1\" class=\"dataframe\">\n",
       "  <thead>\n",
       "    <tr style=\"text-align: right;\">\n",
       "      <th></th>\n",
       "      <th>index</th>\n",
       "      <th>domain</th>\n",
       "      <th>issuer_O</th>\n",
       "      <th>conn_count</th>\n",
       "      <th>historical_ca</th>\n",
       "    </tr>\n",
       "  </thead>\n",
       "  <tbody>\n",
       "    <tr>\n",
       "      <th>1443</th>\n",
       "      <td>17</td>\n",
       "      <td>builds.cdn.getgo.com</td>\n",
       "      <td>Boehringer Ingelheim</td>\n",
       "      <td>2</td>\n",
       "      <td>['DigiCert Inc (2019-01-04 - 2020-01-08)', 'Amazon (2021-10-12 - 2022-11-09)']</td>\n",
       "    </tr>\n",
       "  </tbody>\n",
       "</table>\n",
       "</div>"
      ],
      "text/plain": [
       "     index                domain              issuer_O  conn_count  \\\n",
       "1443    17  builds.cdn.getgo.com  Boehringer Ingelheim           2   \n",
       "\n",
       "                                                                       historical_ca  \n",
       "1443  ['DigiCert Inc (2019-01-04 - 2020-01-08)', 'Amazon (2021-10-12 - 2022-11-09)']  "
      ]
     },
     "execution_count": 14,
     "metadata": {},
     "output_type": "execute_result"
    }
   ],
   "source": [
    "df[df[\"issuer_O\"] == \"Boehringer Ingelheim\"]"
   ]
  },
  {
   "attachments": {},
   "cell_type": "markdown",
   "metadata": {},
   "source": [
    "**Baidu**"
   ]
  },
  {
   "attachments": {},
   "cell_type": "markdown",
   "metadata": {},
   "source": [
    "* Issuer in historical CA list"
   ]
  },
  {
   "cell_type": "code",
   "execution_count": 15,
   "metadata": {},
   "outputs": [
    {
     "data": {
      "text/html": [
       "<div>\n",
       "<style scoped>\n",
       "    .dataframe tbody tr th:only-of-type {\n",
       "        vertical-align: middle;\n",
       "    }\n",
       "\n",
       "    .dataframe tbody tr th {\n",
       "        vertical-align: top;\n",
       "    }\n",
       "\n",
       "    .dataframe thead th {\n",
       "        text-align: right;\n",
       "    }\n",
       "</style>\n",
       "<table border=\"1\" class=\"dataframe\">\n",
       "  <thead>\n",
       "    <tr style=\"text-align: right;\">\n",
       "      <th></th>\n",
       "      <th>index</th>\n",
       "      <th>domain</th>\n",
       "      <th>issuer_O</th>\n",
       "      <th>conn_count</th>\n",
       "      <th>historical_ca</th>\n",
       "    </tr>\n",
       "  </thead>\n",
       "  <tbody>\n",
       "    <tr>\n",
       "      <th>1065</th>\n",
       "      <td>6</td>\n",
       "      <td>www.youqo.com</td>\n",
       "      <td>Baidu</td>\n",
       "      <td>9</td>\n",
       "      <td>['DigiCert Inc (2021-12-16 - 2022-12-16)', '\"Baidu, Inc.\" (2021-12-15 - 2022-12-26)', 'Symantec Corporation (2017-03-30 - 2018-03-30)']</td>\n",
       "    </tr>\n",
       "  </tbody>\n",
       "</table>\n",
       "</div>"
      ],
      "text/plain": [
       "     index         domain issuer_O  conn_count  \\\n",
       "1065     6  www.youqo.com    Baidu           9   \n",
       "\n",
       "                                                                                                                                historical_ca  \n",
       "1065  ['DigiCert Inc (2021-12-16 - 2022-12-16)', '\"Baidu, Inc.\" (2021-12-15 - 2022-12-26)', 'Symantec Corporation (2017-03-30 - 2018-03-30)']  "
      ]
     },
     "execution_count": 15,
     "metadata": {},
     "output_type": "execute_result"
    }
   ],
   "source": [
    "df[df[\"issuer_O\"] == \"Baidu\"]"
   ]
  },
  {
   "attachments": {},
   "cell_type": "markdown",
   "metadata": {},
   "source": [
    "**Volante**"
   ]
  },
  {
   "attachments": {},
   "cell_type": "markdown",
   "metadata": {},
   "source": [
    "* Likely self-signed issuer"
   ]
  },
  {
   "cell_type": "code",
   "execution_count": 16,
   "metadata": {},
   "outputs": [
    {
     "data": {
      "text/html": [
       "<div>\n",
       "<style scoped>\n",
       "    .dataframe tbody tr th:only-of-type {\n",
       "        vertical-align: middle;\n",
       "    }\n",
       "\n",
       "    .dataframe tbody tr th {\n",
       "        vertical-align: top;\n",
       "    }\n",
       "\n",
       "    .dataframe thead th {\n",
       "        text-align: right;\n",
       "    }\n",
       "</style>\n",
       "<table border=\"1\" class=\"dataframe\">\n",
       "  <thead>\n",
       "    <tr style=\"text-align: right;\">\n",
       "      <th></th>\n",
       "      <th>index</th>\n",
       "      <th>domain</th>\n",
       "      <th>issuer_O</th>\n",
       "      <th>conn_count</th>\n",
       "      <th>historical_ca</th>\n",
       "    </tr>\n",
       "  </thead>\n",
       "  <tbody>\n",
       "    <tr>\n",
       "      <th>1158</th>\n",
       "      <td>52</td>\n",
       "      <td>volantecloud.com</td>\n",
       "      <td>Volante</td>\n",
       "      <td>8</td>\n",
       "      <td>['DigiCert Inc (2021-11-18 - 2022-12-19)', \"Let's Encrypt (2022-07-17 - 2022-10-15)\", '\"thawte, Inc.\" (2017-01-09 - 2020-01-09)']</td>\n",
       "    </tr>\n",
       "    <tr>\n",
       "      <th>1410</th>\n",
       "      <td>93</td>\n",
       "      <td>volantecloud.com</td>\n",
       "      <td>Volante</td>\n",
       "      <td>2</td>\n",
       "      <td>['DigiCert Inc (2021-11-18 - 2022-12-19)', \"Let's Encrypt (2022-07-17 - 2022-10-15)\", '\"thawte, Inc.\" (2017-01-09 - 2020-01-09)']</td>\n",
       "    </tr>\n",
       "  </tbody>\n",
       "</table>\n",
       "</div>"
      ],
      "text/plain": [
       "     index            domain issuer_O  conn_count  \\\n",
       "1158    52  volantecloud.com  Volante           8   \n",
       "1410    93  volantecloud.com  Volante           2   \n",
       "\n",
       "                                                                                                                          historical_ca  \n",
       "1158  ['DigiCert Inc (2021-11-18 - 2022-12-19)', \"Let's Encrypt (2022-07-17 - 2022-10-15)\", '\"thawte, Inc.\" (2017-01-09 - 2020-01-09)']  \n",
       "1410  ['DigiCert Inc (2021-11-18 - 2022-12-19)', \"Let's Encrypt (2022-07-17 - 2022-10-15)\", '\"thawte, Inc.\" (2017-01-09 - 2020-01-09)']  "
      ]
     },
     "execution_count": 16,
     "metadata": {},
     "output_type": "execute_result"
    }
   ],
   "source": [
    "df[df[\"issuer_O\"] == \"Volante\"]"
   ]
  }
 ],
 "metadata": {
  "kernelspec": {
   "display_name": "Python 3",
   "language": "python",
   "name": "python3"
  },
  "language_info": {
   "codemirror_mode": {
    "name": "ipython",
    "version": 3
   },
   "file_extension": ".py",
   "mimetype": "text/x-python",
   "name": "python",
   "nbconvert_exporter": "python",
   "pygments_lexer": "ipython3",
   "version": "3.8.10"
  },
  "orig_nbformat": 4
 },
 "nbformat": 4,
 "nbformat_minor": 2
}
