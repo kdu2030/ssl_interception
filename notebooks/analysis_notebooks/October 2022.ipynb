{
 "cells": [
  {
   "cell_type": "code",
   "execution_count": 2,
   "metadata": {},
   "outputs": [],
   "source": [
    "from analysis_helpers.intercept_helpers import process_parquet_dir\n",
    "import pandas as pd"
   ]
  },
  {
   "cell_type": "code",
   "execution_count": 3,
   "metadata": {},
   "outputs": [
    {
     "name": "stderr",
     "output_type": "stream",
     "text": [
      "/home/ubuntu/GitLab/ssl_interception/notebooks/analysis_notebooks/analysis_helpers/intercept_helpers.py:47: SettingWithCopyWarning: \n",
      "A value is trying to be set on a copy of a slice from a DataFrame.\n",
      "Try using .loc[row_indexer,col_indexer] = value instead\n",
      "\n",
      "See the caveats in the documentation: https://pandas.pydata.org/pandas-docs/stable/user_guide/indexing.html#returning-a-view-versus-a-copy\n",
      "  df[\"does_ca_match\"] = df.apply(lambda row: does_ca_match(\n"
     ]
    }
   ],
   "source": [
    "data_path = \"/mnt/chaseproject/uva/kd5eyn/intercept_data/2022-10-01_2022-10-31/\"\n",
    "df = process_parquet_dir(data_path)"
   ]
  },
  {
   "cell_type": "code",
   "execution_count": 4,
   "metadata": {},
   "outputs": [
    {
     "name": "stdout",
     "output_type": "stream",
     "text": [
      "N=7Fw6H 2cMYVTs\n",
      "Acme C\n",
      "Opera Software ASA\n",
      "VK\n",
      "N=16AWS-7Js-2bMZvLhP76\n",
      "GeoTrust Inc.\n",
      "CoSoSys Ltd.\n",
      "Temporary CA a0305fb9-1d21-4142-9f97-e1c6efdab8f\n",
      "Peloton Interactive Inc\n",
      "N=4K2VsoWa\n",
      "CloudFlare\n",
      "GSM Associatio\n",
      "Northrop Grumman Corporation\n",
      "GoDaddy.com\n",
      "GlobalSign nv-sa\n",
      "N=2fq-6Nr2XkT,DC=ad,DC=loca\n",
      "N=67FxPju\n",
      "N=www.wvju72qilznhwx3i7nh.co\n",
      "N=5jANS_HoC46Ta_5NwR_7e4ao\n",
      "N=1sAL 3ul 5lja1WF 1V,OU=FPKI,OU=U.S. Government,C=U\n",
      "Verizon Enterprise Solutions\n",
      "nQualifier=6crrflRY-1f5g-2aYz-1eg6-7kpF0Kd05Cwg,CN=1msQj6pBELU 6Nwi 1\n",
      "N=2SF-6\n",
      "N=6vaMXDqR\n",
      "Gajshield Infotech Pvt. Ltd\n",
      "N=5Gkzg038J36 2LJjWLD5 57JOJKKD\n",
      "TrustAsia Technologies\n",
      "N=6Fk1JiB 1kKtVMy 11d\n",
      "Lockheed Martin Corporation\n",
      "N=5a8uEGx 73oFVybUf 5lja1WF 1V \n",
      "N=1tKvH\n",
      "Bad Server Certificate [invalid server certificate]\n",
      "Cloudflare\n",
      "N=cvrdwa.a\n",
      "Schneider Electric\n",
      "Genious Communications\n",
      "nQualifier=1xKEXgaI-4tSK-4PRz-52RJ-227bMeyOuNLI,CN=1msQj6pBELU 6Nwi 1\n",
      "N=DO5OrizgLPU\n",
      "PrivacySearch Ltd\n",
      "Kabam Games Inc.\n",
      "Infoblox\n",
      "N=13MPnX0jgs,DC=despreinte,DC=loca\n",
      "LBE\n",
      "N=6YS6OZzf5ijAu04zZ,DC=CLG,DC=Loca\n",
      "N=2hsqsq-2XqsqkB\n",
      "N=www.jvnbqrgd3lsj34.co\n",
      "RWE AG\n",
      "ABB Information Systems Ltd\n",
      "N=1nQb8hckltR-AkjluJPzsJZ9-1V,DC=mksinternal,DC=co\n",
      "N=4wkchEE-1HdBkW\n",
      "N=cert-manager.loca\n",
      "N=6Mi7ZTi\n",
      "Aruba Networks\n",
      "N=RSunlandAssoc02.AHTHosting.loca\n",
      "StartCom Ltd.\n",
      "snap-cloud\n",
      "FNMT-RCM\n",
      "N=uGPnM2n4wJj 5EbvZ8tQOb 1V,DC=healthsouth,DC=insidehrc,DC=co\n",
      "Forcepoint\n",
      "Entrust\n",
      "McAfee Inc.\n",
      "N=5GJv8ftAj1-7eCYF0s-1\n",
      "Firmaprofesional S.A.\n",
      "XM\n",
      "N=1Hx32o2d\n",
      "Palo-Alto-Networks-Inc.\n",
      "Dehuinet\n",
      "N=Mail.Ru Development Intermediate Certificate N6 -PA\n",
      "DisRoot\n",
      "MI_Uni_Koel\n",
      "N=2h0oNw\n",
      "N=3QC07n 22JpcB 5lja1WF 1\n",
      "N=1FkQX-72e9-1\n",
      "mailAddress=7h9Ck2sA@daysofwonder.com,L=Las Vegas,ST=Nevada,C=US,CN=6Uv 1V 6Nw\n",
      "Soluciones Corporativas IP\n"
     ]
    }
   ],
   "source": [
    "unique_issuers = df[\"issuer_O\"].unique()\n",
    "for issuer in unique_issuers:\n",
    "    print(issuer)"
   ]
  },
  {
   "attachments": {},
   "cell_type": "markdown",
   "metadata": {},
   "source": [
    "**CoSoSys Ltd.**\n",
    "* Endpoint Protector, which is a subsidiary of CoCoSys Ltd. issued the certificate for usazuea00010.deloitte.com.\n",
    "* https://www.endpointprotector.com/\n",
    "* Self-signed"
   ]
  },
  {
   "cell_type": "code",
   "execution_count": 5,
   "metadata": {},
   "outputs": [
    {
     "data": {
      "text/html": [
       "<div>\n",
       "<style scoped>\n",
       "    .dataframe tbody tr th:only-of-type {\n",
       "        vertical-align: middle;\n",
       "    }\n",
       "\n",
       "    .dataframe tbody tr th {\n",
       "        vertical-align: top;\n",
       "    }\n",
       "\n",
       "    .dataframe thead th {\n",
       "        text-align: right;\n",
       "    }\n",
       "</style>\n",
       "<table border=\"1\" class=\"dataframe\">\n",
       "  <thead>\n",
       "    <tr style=\"text-align: right;\">\n",
       "      <th></th>\n",
       "      <th>index</th>\n",
       "      <th>domain</th>\n",
       "      <th>issuer_O</th>\n",
       "      <th>conn_count</th>\n",
       "      <th>historical_ca</th>\n",
       "    </tr>\n",
       "  </thead>\n",
       "  <tbody>\n",
       "    <tr>\n",
       "      <th>34</th>\n",
       "      <td>126</td>\n",
       "      <td>usazuea00010.deloitte.com</td>\n",
       "      <td>CoSoSys Ltd.</td>\n",
       "      <td>5</td>\n",
       "      <td>DigiCert Inc (2021-08-17 - 2022-08-17)</td>\n",
       "    </tr>\n",
       "  </tbody>\n",
       "</table>\n",
       "</div>"
      ],
      "text/plain": [
       "   index                     domain      issuer_O  conn_count  \\\n",
       "34   126  usazuea00010.deloitte.com  CoSoSys Ltd.           5   \n",
       "\n",
       "                             historical_ca  \n",
       "34  DigiCert Inc (2021-08-17 - 2022-08-17)  "
      ]
     },
     "execution_count": 5,
     "metadata": {},
     "output_type": "execute_result"
    }
   ],
   "source": [
    "df[df[\"issuer_O\"] == \"CoSoSys Ltd.\"]"
   ]
  },
  {
   "attachments": {},
   "cell_type": "markdown",
   "metadata": {},
   "source": [
    "**Gajshield Infotech Pvt. Ltd**"
   ]
  },
  {
   "attachments": {},
   "cell_type": "markdown",
   "metadata": {},
   "source": [
    "* Gajshield Infotech PVt. Ltd. issued the certificate according to SSL Checker\n",
    "* Self-signed"
   ]
  },
  {
   "cell_type": "code",
   "execution_count": 8,
   "metadata": {},
   "outputs": [
    {
     "data": {
      "text/html": [
       "<div>\n",
       "<style scoped>\n",
       "    .dataframe tbody tr th:only-of-type {\n",
       "        vertical-align: middle;\n",
       "    }\n",
       "\n",
       "    .dataframe tbody tr th {\n",
       "        vertical-align: top;\n",
       "    }\n",
       "\n",
       "    .dataframe thead th {\n",
       "        text-align: right;\n",
       "    }\n",
       "</style>\n",
       "<table border=\"1\" class=\"dataframe\">\n",
       "  <thead>\n",
       "    <tr style=\"text-align: right;\">\n",
       "      <th></th>\n",
       "      <th>index</th>\n",
       "      <th>domain</th>\n",
       "      <th>issuer_O</th>\n",
       "      <th>conn_count</th>\n",
       "      <th>historical_ca</th>\n",
       "    </tr>\n",
       "  </thead>\n",
       "  <tbody>\n",
       "    <tr>\n",
       "      <th>238</th>\n",
       "      <td>355</td>\n",
       "      <td>ndri.res.in</td>\n",
       "      <td>Gajshield Infotech Pvt. Ltd</td>\n",
       "      <td>7</td>\n",
       "      <td>[\"Let's Encrypt (2022-09-20 - 2022-12-19)\", '\"DigiCert, Inc.\" (2022-11-22 - 2023-11-23)']</td>\n",
       "    </tr>\n",
       "  </tbody>\n",
       "</table>\n",
       "</div>"
      ],
      "text/plain": [
       "    index       domain                     issuer_O  conn_count  \\\n",
       "238   355  ndri.res.in  Gajshield Infotech Pvt. Ltd           7   \n",
       "\n",
       "                                                                                 historical_ca  \n",
       "238  [\"Let's Encrypt (2022-09-20 - 2022-12-19)\", '\"DigiCert, Inc.\" (2022-11-22 - 2023-11-23)']  "
      ]
     },
     "execution_count": 8,
     "metadata": {},
     "output_type": "execute_result"
    }
   ],
   "source": [
    "pd.set_option(\"colwidth\", None)\n",
    "df[df[\"issuer_O\"] == \"Gajshield Infotech Pvt. Ltd\"]"
   ]
  },
  {
   "attachments": {},
   "cell_type": "markdown",
   "metadata": {},
   "source": [
    "**Schneider Electric**\n",
    "* French energy management and automation company\n",
    "* app.yinxiang.com used a Let's Encrypt certificate at time of access"
   ]
  },
  {
   "cell_type": "code",
   "execution_count": 9,
   "metadata": {},
   "outputs": [
    {
     "data": {
      "text/html": [
       "<div>\n",
       "<style scoped>\n",
       "    .dataframe tbody tr th:only-of-type {\n",
       "        vertical-align: middle;\n",
       "    }\n",
       "\n",
       "    .dataframe tbody tr th {\n",
       "        vertical-align: top;\n",
       "    }\n",
       "\n",
       "    .dataframe thead th {\n",
       "        text-align: right;\n",
       "    }\n",
       "</style>\n",
       "<table border=\"1\" class=\"dataframe\">\n",
       "  <thead>\n",
       "    <tr style=\"text-align: right;\">\n",
       "      <th></th>\n",
       "      <th>index</th>\n",
       "      <th>domain</th>\n",
       "      <th>issuer_O</th>\n",
       "      <th>conn_count</th>\n",
       "      <th>historical_ca</th>\n",
       "    </tr>\n",
       "  </thead>\n",
       "  <tbody>\n",
       "    <tr>\n",
       "      <th>392</th>\n",
       "      <td>207</td>\n",
       "      <td>app.yinxiang.com</td>\n",
       "      <td>Schneider Electric</td>\n",
       "      <td>1</td>\n",
       "      <td>[\"Let's Encrypt (2022-08-19 - 2022-11-17)\", '\"TrustAsia Technologies, Inc.\" (2021-11-11 - 2022-11-10)', '\"DNSPod, Inc.\" (2022-11-01 - 2023-11-01)', 'DigiCert Inc (2018-08-09 - 2019-10-16)', 'COMODO CA Limited (2012-05-02 - 2014-05-02)', 'Symantec Corporation (2014-11-07 - 2017-04-24)', '\"VeriSign, Inc.\" (2012-06-14 - 2017-06-13)']</td>\n",
       "    </tr>\n",
       "  </tbody>\n",
       "</table>\n",
       "</div>"
      ],
      "text/plain": [
       "    index            domain            issuer_O  conn_count  \\\n",
       "392   207  app.yinxiang.com  Schneider Electric           1   \n",
       "\n",
       "                                                                                                                                                                                                                                                                                                                                    historical_ca  \n",
       "392  [\"Let's Encrypt (2022-08-19 - 2022-11-17)\", '\"TrustAsia Technologies, Inc.\" (2021-11-11 - 2022-11-10)', '\"DNSPod, Inc.\" (2022-11-01 - 2023-11-01)', 'DigiCert Inc (2018-08-09 - 2019-10-16)', 'COMODO CA Limited (2012-05-02 - 2014-05-02)', 'Symantec Corporation (2014-11-07 - 2017-04-24)', '\"VeriSign, Inc.\" (2012-06-14 - 2017-06-13)']  "
      ]
     },
     "execution_count": 9,
     "metadata": {},
     "output_type": "execute_result"
    }
   ],
   "source": [
    "df[df[\"issuer_O\"] == \"Schneider Electric\"]"
   ]
  },
  {
   "attachments": {},
   "cell_type": "markdown",
   "metadata": {},
   "source": [
    "**Genious Communications**"
   ]
  },
  {
   "attachments": {},
   "cell_type": "markdown",
   "metadata": {},
   "source": [
    "* live.medi1.com's certificate issuer is Genious Communications as confirmed by SSL Checker"
   ]
  },
  {
   "cell_type": "code",
   "execution_count": 10,
   "metadata": {},
   "outputs": [
    {
     "data": {
      "text/html": [
       "<div>\n",
       "<style scoped>\n",
       "    .dataframe tbody tr th:only-of-type {\n",
       "        vertical-align: middle;\n",
       "    }\n",
       "\n",
       "    .dataframe tbody tr th {\n",
       "        vertical-align: top;\n",
       "    }\n",
       "\n",
       "    .dataframe thead th {\n",
       "        text-align: right;\n",
       "    }\n",
       "</style>\n",
       "<table border=\"1\" class=\"dataframe\">\n",
       "  <thead>\n",
       "    <tr style=\"text-align: right;\">\n",
       "      <th></th>\n",
       "      <th>index</th>\n",
       "      <th>domain</th>\n",
       "      <th>issuer_O</th>\n",
       "      <th>conn_count</th>\n",
       "      <th>historical_ca</th>\n",
       "    </tr>\n",
       "  </thead>\n",
       "  <tbody>\n",
       "    <tr>\n",
       "      <th>411</th>\n",
       "      <td>1</td>\n",
       "      <td>live.medi1.com</td>\n",
       "      <td>Genious Communications</td>\n",
       "      <td>1</td>\n",
       "      <td>[\"Let's Encrypt (2021-03-29 - 2021-06-27)\", 'Sectigo Limited (2021-12-02 - 2023-01-02)', 'DigiCert Inc (2018-11-27 - 2020-11-26)']</td>\n",
       "    </tr>\n",
       "  </tbody>\n",
       "</table>\n",
       "</div>"
      ],
      "text/plain": [
       "    index          domain                issuer_O  conn_count  \\\n",
       "411     1  live.medi1.com  Genious Communications           1   \n",
       "\n",
       "                                                                                                                          historical_ca  \n",
       "411  [\"Let's Encrypt (2021-03-29 - 2021-06-27)\", 'Sectigo Limited (2021-12-02 - 2023-01-02)', 'DigiCert Inc (2018-11-27 - 2020-11-26)']  "
      ]
     },
     "execution_count": 10,
     "metadata": {},
     "output_type": "execute_result"
    }
   ],
   "source": [
    "df[df[\"issuer_O\"] == \"Genious Communications\"]"
   ]
  },
  {
   "attachments": {},
   "cell_type": "markdown",
   "metadata": {},
   "source": [
    "**PrivacySearch Ltd**"
   ]
  },
  {
   "attachments": {},
   "cell_type": "markdown",
   "metadata": {},
   "source": [
    "* Possible TLS Interception case - Both google.com and apple.com websites are recorded as using PrivacySearch Ltd's certificates"
   ]
  },
  {
   "cell_type": "code",
   "execution_count": 11,
   "metadata": {},
   "outputs": [
    {
     "data": {
      "text/html": [
       "<div>\n",
       "<style scoped>\n",
       "    .dataframe tbody tr th:only-of-type {\n",
       "        vertical-align: middle;\n",
       "    }\n",
       "\n",
       "    .dataframe tbody tr th {\n",
       "        vertical-align: top;\n",
       "    }\n",
       "\n",
       "    .dataframe thead th {\n",
       "        text-align: right;\n",
       "    }\n",
       "</style>\n",
       "<table border=\"1\" class=\"dataframe\">\n",
       "  <thead>\n",
       "    <tr style=\"text-align: right;\">\n",
       "      <th></th>\n",
       "      <th>index</th>\n",
       "      <th>domain</th>\n",
       "      <th>issuer_O</th>\n",
       "      <th>conn_count</th>\n",
       "      <th>historical_ca</th>\n",
       "    </tr>\n",
       "  </thead>\n",
       "  <tbody>\n",
       "    <tr>\n",
       "      <th>431</th>\n",
       "      <td>38</td>\n",
       "      <td>api.smoot.apple.com</td>\n",
       "      <td>PrivacySearch Ltd</td>\n",
       "      <td>1</td>\n",
       "      <td>['Apple Inc. (2022-10-05 - 2023-11-04)', '\"VeriSign, Inc.\" (2014-05-16 - 2015-05-16)']</td>\n",
       "    </tr>\n",
       "    <tr>\n",
       "      <th>434</th>\n",
       "      <td>82</td>\n",
       "      <td>www.google.com</td>\n",
       "      <td>PrivacySearch Ltd</td>\n",
       "      <td>18</td>\n",
       "      <td>['Google Trust Services LLC (2022-09-12 - 2022-12-05)', 'Google Trust Services (2017-07-28 - 2017-10-20)', \"Let's Encrypt (2020-01-29 - 2020-04-28)\", 'Google Inc (2013-01-03 - 2013-06-07)', 'Thawte Consulting (Pty) Ltd. (2009-12-18 - 2011-12-18)', '\"cPanel, Inc.\" (2017-11-01 - 2018-01-30)', 'COMODO CA Limited (2009-02-20 - 2009-05-21)', 'The USERTRUST Network (2011-03-15 - 2014-03-14)', '\"thawte, Inc.\" (2015-09-14 - 2015-09-15)']</td>\n",
       "    </tr>\n",
       "  </tbody>\n",
       "</table>\n",
       "</div>"
      ],
      "text/plain": [
       "    index               domain           issuer_O  conn_count  \\\n",
       "431    38  api.smoot.apple.com  PrivacySearch Ltd           1   \n",
       "434    82       www.google.com  PrivacySearch Ltd          18   \n",
       "\n",
       "                                                                                                                                                                                                                                                                                                                                                                                                                                         historical_ca  \n",
       "431                                                                                                                                                                                                                                                                                                                                                             ['Apple Inc. (2022-10-05 - 2023-11-04)', '\"VeriSign, Inc.\" (2014-05-16 - 2015-05-16)']  \n",
       "434  ['Google Trust Services LLC (2022-09-12 - 2022-12-05)', 'Google Trust Services (2017-07-28 - 2017-10-20)', \"Let's Encrypt (2020-01-29 - 2020-04-28)\", 'Google Inc (2013-01-03 - 2013-06-07)', 'Thawte Consulting (Pty) Ltd. (2009-12-18 - 2011-12-18)', '\"cPanel, Inc.\" (2017-11-01 - 2018-01-30)', 'COMODO CA Limited (2009-02-20 - 2009-05-21)', 'The USERTRUST Network (2011-03-15 - 2014-03-14)', '\"thawte, Inc.\" (2015-09-14 - 2015-09-15)']  "
      ]
     },
     "execution_count": 11,
     "metadata": {},
     "output_type": "execute_result"
    }
   ],
   "source": [
    "df[df[\"issuer_O\"] == \"PrivacySearch Ltd\"]"
   ]
  },
  {
   "attachments": {},
   "cell_type": "markdown",
   "metadata": {},
   "source": [
    "**RWE AG**"
   ]
  },
  {
   "attachments": {},
   "cell_type": "markdown",
   "metadata": {},
   "source": [
    "* Possible SSL Interception\n",
    "* RWE AG is a German multinational energy company - https://www.rwe.com/en/"
   ]
  },
  {
   "cell_type": "code",
   "execution_count": 12,
   "metadata": {},
   "outputs": [
    {
     "data": {
      "text/html": [
       "<div>\n",
       "<style scoped>\n",
       "    .dataframe tbody tr th:only-of-type {\n",
       "        vertical-align: middle;\n",
       "    }\n",
       "\n",
       "    .dataframe tbody tr th {\n",
       "        vertical-align: top;\n",
       "    }\n",
       "\n",
       "    .dataframe thead th {\n",
       "        text-align: right;\n",
       "    }\n",
       "</style>\n",
       "<table border=\"1\" class=\"dataframe\">\n",
       "  <thead>\n",
       "    <tr style=\"text-align: right;\">\n",
       "      <th></th>\n",
       "      <th>index</th>\n",
       "      <th>domain</th>\n",
       "      <th>issuer_O</th>\n",
       "      <th>conn_count</th>\n",
       "      <th>historical_ca</th>\n",
       "    </tr>\n",
       "  </thead>\n",
       "  <tbody>\n",
       "    <tr>\n",
       "      <th>500</th>\n",
       "      <td>27</td>\n",
       "      <td>femetrics.grammarly.io</td>\n",
       "      <td>RWE AG</td>\n",
       "      <td>1</td>\n",
       "      <td>Amazon (2022-09-28 - 2023-10-27)</td>\n",
       "    </tr>\n",
       "    <tr>\n",
       "      <th>1159</th>\n",
       "      <td>14</td>\n",
       "      <td>europe.smartscreen.microsoft.com</td>\n",
       "      <td>RWE AG</td>\n",
       "      <td>2</td>\n",
       "      <td>Microsoft Corporation (2023-03-02 00:24:39 - 2024-02-25 00:24:39)</td>\n",
       "    </tr>\n",
       "  </tbody>\n",
       "</table>\n",
       "</div>"
      ],
      "text/plain": [
       "     index                            domain issuer_O  conn_count  \\\n",
       "500     27            femetrics.grammarly.io   RWE AG           1   \n",
       "1159    14  europe.smartscreen.microsoft.com   RWE AG           2   \n",
       "\n",
       "                                                          historical_ca  \n",
       "500                                    Amazon (2022-09-28 - 2023-10-27)  \n",
       "1159  Microsoft Corporation (2023-03-02 00:24:39 - 2024-02-25 00:24:39)  "
      ]
     },
     "execution_count": 12,
     "metadata": {},
     "output_type": "execute_result"
    }
   ],
   "source": [
    "df[df[\"issuer_O\"] == \"RWE AG\"]"
   ]
  },
  {
   "attachments": {},
   "cell_type": "markdown",
   "metadata": {},
   "source": [
    "**ABB Information Systems Ltd**"
   ]
  },
  {
   "attachments": {},
   "cell_type": "markdown",
   "metadata": {},
   "source": [
    "* ABB is a Swedish firm specializing in electrification, robotics, industrial automation, and energy management\n",
    "* ABB Information Systems provides cybersecurity, control systems, and enterprise resource planning.\n",
    "* https://global.abb/group/en\n",
    "* Possible SSL Interception case"
   ]
  },
  {
   "cell_type": "code",
   "execution_count": 13,
   "metadata": {},
   "outputs": [
    {
     "data": {
      "text/html": [
       "<div>\n",
       "<style scoped>\n",
       "    .dataframe tbody tr th:only-of-type {\n",
       "        vertical-align: middle;\n",
       "    }\n",
       "\n",
       "    .dataframe tbody tr th {\n",
       "        vertical-align: top;\n",
       "    }\n",
       "\n",
       "    .dataframe thead th {\n",
       "        text-align: right;\n",
       "    }\n",
       "</style>\n",
       "<table border=\"1\" class=\"dataframe\">\n",
       "  <thead>\n",
       "    <tr style=\"text-align: right;\">\n",
       "      <th></th>\n",
       "      <th>index</th>\n",
       "      <th>domain</th>\n",
       "      <th>issuer_O</th>\n",
       "      <th>conn_count</th>\n",
       "      <th>historical_ca</th>\n",
       "    </tr>\n",
       "  </thead>\n",
       "  <tbody>\n",
       "    <tr>\n",
       "      <th>518</th>\n",
       "      <td>33</td>\n",
       "      <td>incoming.telemetry.mozilla.org</td>\n",
       "      <td>ABB Information Systems Ltd</td>\n",
       "      <td>1</td>\n",
       "      <td>[\"Let's Encrypt (2022-10-26 - 2023-01-24)\", 'Google Trust Services LLC (2022-10-12 - 2023-01-10)', 'DigiCert Inc (2013-09-12 - 2015-09-17)']</td>\n",
       "    </tr>\n",
       "    <tr>\n",
       "      <th>520</th>\n",
       "      <td>42</td>\n",
       "      <td>www.bing.com</td>\n",
       "      <td>ABB Information Systems Ltd</td>\n",
       "      <td>1</td>\n",
       "      <td>Microsoft Corporation (2022-09-03 01:06:28 - 2023-03-03 01:06:28)</td>\n",
       "    </tr>\n",
       "    <tr>\n",
       "      <th>523</th>\n",
       "      <td>63</td>\n",
       "      <td>abb.templafy.com</td>\n",
       "      <td>ABB Information Systems Ltd</td>\n",
       "      <td>4</td>\n",
       "      <td>[\"Let's Encrypt (2022-10-10 - 2023-01-08)\", '\"Cloudflare, Inc.\" (2022-09-07 - 2023-09-06)', '\"GoDaddy.com, Inc.\" (2022-09-01 - 2023-10-03)', 'GlobalSign nv-sa (2014-07-28 - 2017-10-25)']</td>\n",
       "    </tr>\n",
       "    <tr>\n",
       "      <th>524</th>\n",
       "      <td>64</td>\n",
       "      <td>firefox.settings.services.mozilla.com</td>\n",
       "      <td>ABB Information Systems Ltd</td>\n",
       "      <td>1</td>\n",
       "      <td>[\"Let's Encrypt (2022-12-07 - 2023-03-07)\", 'DigiCert Inc (2021-12-07 - 2022-12-16)']</td>\n",
       "    </tr>\n",
       "  </tbody>\n",
       "</table>\n",
       "</div>"
      ],
      "text/plain": [
       "    index                                 domain                     issuer_O  \\\n",
       "518    33         incoming.telemetry.mozilla.org  ABB Information Systems Ltd   \n",
       "520    42                           www.bing.com  ABB Information Systems Ltd   \n",
       "523    63                       abb.templafy.com  ABB Information Systems Ltd   \n",
       "524    64  firefox.settings.services.mozilla.com  ABB Information Systems Ltd   \n",
       "\n",
       "     conn_count  \\\n",
       "518           1   \n",
       "520           1   \n",
       "523           4   \n",
       "524           1   \n",
       "\n",
       "                                                                                                                                                                                  historical_ca  \n",
       "518                                                [\"Let's Encrypt (2022-10-26 - 2023-01-24)\", 'Google Trust Services LLC (2022-10-12 - 2023-01-10)', 'DigiCert Inc (2013-09-12 - 2015-09-17)']  \n",
       "520                                                                                                                           Microsoft Corporation (2022-09-03 01:06:28 - 2023-03-03 01:06:28)  \n",
       "523  [\"Let's Encrypt (2022-10-10 - 2023-01-08)\", '\"Cloudflare, Inc.\" (2022-09-07 - 2023-09-06)', '\"GoDaddy.com, Inc.\" (2022-09-01 - 2023-10-03)', 'GlobalSign nv-sa (2014-07-28 - 2017-10-25)']  \n",
       "524                                                                                                       [\"Let's Encrypt (2022-12-07 - 2023-03-07)\", 'DigiCert Inc (2021-12-07 - 2022-12-16)']  "
      ]
     },
     "execution_count": 13,
     "metadata": {},
     "output_type": "execute_result"
    }
   ],
   "source": [
    "df[df[\"issuer_O\"] == \"ABB Information Systems Ltd\"]"
   ]
  },
  {
   "attachments": {},
   "cell_type": "markdown",
   "metadata": {},
   "source": [
    "**Forcepoint**"
   ]
  },
  {
   "attachments": {},
   "cell_type": "markdown",
   "metadata": {},
   "source": [
    "* Likely self-signed certificate"
   ]
  },
  {
   "cell_type": "code",
   "execution_count": 14,
   "metadata": {},
   "outputs": [
    {
     "data": {
      "text/html": [
       "<div>\n",
       "<style scoped>\n",
       "    .dataframe tbody tr th:only-of-type {\n",
       "        vertical-align: middle;\n",
       "    }\n",
       "\n",
       "    .dataframe tbody tr th {\n",
       "        vertical-align: top;\n",
       "    }\n",
       "\n",
       "    .dataframe thead th {\n",
       "        text-align: right;\n",
       "    }\n",
       "</style>\n",
       "<table border=\"1\" class=\"dataframe\">\n",
       "  <thead>\n",
       "    <tr style=\"text-align: right;\">\n",
       "      <th></th>\n",
       "      <th>index</th>\n",
       "      <th>domain</th>\n",
       "      <th>issuer_O</th>\n",
       "      <th>conn_count</th>\n",
       "      <th>historical_ca</th>\n",
       "    </tr>\n",
       "  </thead>\n",
       "  <tbody>\n",
       "    <tr>\n",
       "      <th>699</th>\n",
       "      <td>0</td>\n",
       "      <td>agq7222p002_forcepointdlp.rtx.com</td>\n",
       "      <td>Forcepoint</td>\n",
       "      <td>4</td>\n",
       "      <td>['\"Cloudflare, Inc.\" (2022-05-29 - 2023-05-29)', 'Sectigo Limited (2022-05-29 - 2023-05-29)', '\"CloudFlare, Inc.\" (2020-04-07 - 2020-10-14)', 'COMODO CA Limited (2019-12-04 - 2020-06-11)']</td>\n",
       "    </tr>\n",
       "  </tbody>\n",
       "</table>\n",
       "</div>"
      ],
      "text/plain": [
       "    index                             domain    issuer_O  conn_count  \\\n",
       "699     0  agq7222p002_forcepointdlp.rtx.com  Forcepoint           4   \n",
       "\n",
       "                                                                                                                                                                                    historical_ca  \n",
       "699  ['\"Cloudflare, Inc.\" (2022-05-29 - 2023-05-29)', 'Sectigo Limited (2022-05-29 - 2023-05-29)', '\"CloudFlare, Inc.\" (2020-04-07 - 2020-10-14)', 'COMODO CA Limited (2019-12-04 - 2020-06-11)']  "
      ]
     },
     "execution_count": 14,
     "metadata": {},
     "output_type": "execute_result"
    }
   ],
   "source": [
    "df[df[\"issuer_O\"] == \"Forcepoint\"]"
   ]
  },
  {
   "attachments": {},
   "cell_type": "markdown",
   "metadata": {},
   "source": [
    "**Firmaprofesional S.A.**"
   ]
  },
  {
   "attachments": {},
   "cell_type": "markdown",
   "metadata": {},
   "source": [
    "* Unable to tell - Domain returned no results when using Censys or SSL Checker to check certificate"
   ]
  },
  {
   "cell_type": "code",
   "execution_count": 15,
   "metadata": {},
   "outputs": [
    {
     "data": {
      "text/html": [
       "<div>\n",
       "<style scoped>\n",
       "    .dataframe tbody tr th:only-of-type {\n",
       "        vertical-align: middle;\n",
       "    }\n",
       "\n",
       "    .dataframe tbody tr th {\n",
       "        vertical-align: top;\n",
       "    }\n",
       "\n",
       "    .dataframe thead th {\n",
       "        text-align: right;\n",
       "    }\n",
       "</style>\n",
       "<table border=\"1\" class=\"dataframe\">\n",
       "  <thead>\n",
       "    <tr style=\"text-align: right;\">\n",
       "      <th></th>\n",
       "      <th>index</th>\n",
       "      <th>domain</th>\n",
       "      <th>issuer_O</th>\n",
       "      <th>conn_count</th>\n",
       "      <th>historical_ca</th>\n",
       "    </tr>\n",
       "  </thead>\n",
       "  <tbody>\n",
       "    <tr>\n",
       "      <th>890</th>\n",
       "      <td>133</td>\n",
       "      <td>icp.administracionelectronica.gob.es</td>\n",
       "      <td>Firmaprofesional S.A.</td>\n",
       "      <td>1</td>\n",
       "      <td>DigiCert Inc (2022-11-10 00:00:00 - 2023-11-13 23:59:59)</td>\n",
       "    </tr>\n",
       "  </tbody>\n",
       "</table>\n",
       "</div>"
      ],
      "text/plain": [
       "    index                                domain               issuer_O  \\\n",
       "890   133  icp.administracionelectronica.gob.es  Firmaprofesional S.A.   \n",
       "\n",
       "     conn_count                                             historical_ca  \n",
       "890           1  DigiCert Inc (2022-11-10 00:00:00 - 2023-11-13 23:59:59)  "
      ]
     },
     "execution_count": 15,
     "metadata": {},
     "output_type": "execute_result"
    }
   ],
   "source": [
    "df[df[\"issuer_O\"] == \"Firmaprofesional S.A.\"]"
   ]
  },
  {
   "attachments": {},
   "cell_type": "markdown",
   "metadata": {},
   "source": [
    "**DisRoot**"
   ]
  },
  {
   "attachments": {},
   "cell_type": "markdown",
   "metadata": {},
   "source": [
    "* Possible switch from a private issuer to a public issuer"
   ]
  },
  {
   "cell_type": "code",
   "execution_count": 16,
   "metadata": {},
   "outputs": [
    {
     "data": {
      "text/html": [
       "<div>\n",
       "<style scoped>\n",
       "    .dataframe tbody tr th:only-of-type {\n",
       "        vertical-align: middle;\n",
       "    }\n",
       "\n",
       "    .dataframe tbody tr th {\n",
       "        vertical-align: top;\n",
       "    }\n",
       "\n",
       "    .dataframe thead th {\n",
       "        text-align: right;\n",
       "    }\n",
       "</style>\n",
       "<table border=\"1\" class=\"dataframe\">\n",
       "  <thead>\n",
       "    <tr style=\"text-align: right;\">\n",
       "      <th></th>\n",
       "      <th>index</th>\n",
       "      <th>domain</th>\n",
       "      <th>issuer_O</th>\n",
       "      <th>conn_count</th>\n",
       "      <th>historical_ca</th>\n",
       "    </tr>\n",
       "  </thead>\n",
       "  <tbody>\n",
       "    <tr>\n",
       "      <th>1029</th>\n",
       "      <td>37</td>\n",
       "      <td>erreport.indigo-net.com</td>\n",
       "      <td>DisRoot</td>\n",
       "      <td>1</td>\n",
       "      <td>Let's Encrypt (2023-02-22 - 2023-05-23)</td>\n",
       "    </tr>\n",
       "  </tbody>\n",
       "</table>\n",
       "</div>"
      ],
      "text/plain": [
       "     index                   domain issuer_O  conn_count  \\\n",
       "1029    37  erreport.indigo-net.com  DisRoot           1   \n",
       "\n",
       "                                historical_ca  \n",
       "1029  Let's Encrypt (2023-02-22 - 2023-05-23)  "
      ]
     },
     "execution_count": 16,
     "metadata": {},
     "output_type": "execute_result"
    }
   ],
   "source": [
    "df[df[\"issuer_O\"] == \"DisRoot\"]"
   ]
  },
  {
   "attachments": {},
   "cell_type": "markdown",
   "metadata": {},
   "source": [
    "**Soluciones Corporativas IP**"
   ]
  },
  {
   "attachments": {},
   "cell_type": "markdown",
   "metadata": {},
   "source": [
    "* Possible switch from a public issuer to a private issuer"
   ]
  },
  {
   "cell_type": "code",
   "execution_count": 17,
   "metadata": {},
   "outputs": [
    {
     "data": {
      "text/html": [
       "<div>\n",
       "<style scoped>\n",
       "    .dataframe tbody tr th:only-of-type {\n",
       "        vertical-align: middle;\n",
       "    }\n",
       "\n",
       "    .dataframe tbody tr th {\n",
       "        vertical-align: top;\n",
       "    }\n",
       "\n",
       "    .dataframe thead th {\n",
       "        text-align: right;\n",
       "    }\n",
       "</style>\n",
       "<table border=\"1\" class=\"dataframe\">\n",
       "  <thead>\n",
       "    <tr style=\"text-align: right;\">\n",
       "      <th></th>\n",
       "      <th>index</th>\n",
       "      <th>domain</th>\n",
       "      <th>issuer_O</th>\n",
       "      <th>conn_count</th>\n",
       "      <th>historical_ca</th>\n",
       "    </tr>\n",
       "  </thead>\n",
       "  <tbody>\n",
       "    <tr>\n",
       "      <th>1162</th>\n",
       "      <td>76</td>\n",
       "      <td>www.mmrbikes.com</td>\n",
       "      <td>Soluciones Corporativas IP</td>\n",
       "      <td>17</td>\n",
       "      <td>Let's Encrypt (2018-09-19 - 2018-12-18)</td>\n",
       "    </tr>\n",
       "  </tbody>\n",
       "</table>\n",
       "</div>"
      ],
      "text/plain": [
       "     index            domain                    issuer_O  conn_count  \\\n",
       "1162    76  www.mmrbikes.com  Soluciones Corporativas IP          17   \n",
       "\n",
       "                                historical_ca  \n",
       "1162  Let's Encrypt (2018-09-19 - 2018-12-18)  "
      ]
     },
     "execution_count": 17,
     "metadata": {},
     "output_type": "execute_result"
    }
   ],
   "source": [
    "df[df[\"issuer_O\"] == \"Soluciones Corporativas IP\"]"
   ]
  }
 ],
 "metadata": {
  "kernelspec": {
   "display_name": "Python 3",
   "language": "python",
   "name": "python3"
  },
  "language_info": {
   "codemirror_mode": {
    "name": "ipython",
    "version": 3
   },
   "file_extension": ".py",
   "mimetype": "text/x-python",
   "name": "python",
   "nbconvert_exporter": "python",
   "pygments_lexer": "ipython3",
   "version": "3.8.10"
  },
  "orig_nbformat": 4
 },
 "nbformat": 4,
 "nbformat_minor": 2
}
