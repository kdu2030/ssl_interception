{
 "cells": [
  {
   "attachments": {},
   "cell_type": "markdown",
   "metadata": {},
   "source": [
    "# January 2023"
   ]
  },
  {
   "cell_type": "code",
   "execution_count": 1,
   "metadata": {},
   "outputs": [],
   "source": [
    "from analysis_helpers.intercept_helpers import process_parquet_dir\n",
    "import pandas as pd"
   ]
  },
  {
   "cell_type": "code",
   "execution_count": 2,
   "metadata": {},
   "outputs": [
    {
     "name": "stderr",
     "output_type": "stream",
     "text": [
      "/home/ubuntu/GitLab/ssl_interception/notebooks/analysis_notebooks/analysis_helpers/intercept_helpers.py:47: SettingWithCopyWarning: \n",
      "A value is trying to be set on a copy of a slice from a DataFrame.\n",
      "Try using .loc[row_indexer,col_indexer] = value instead\n",
      "\n",
      "See the caveats in the documentation: https://pandas.pydata.org/pandas-docs/stable/user_guide/indexing.html#returning-a-view-versus-a-copy\n",
      "  df[\"does_ca_match\"] = df.apply(lambda row: does_ca_match(\n"
     ]
    }
   ],
   "source": [
    "data_path = \"/mnt/chaseproject/uva/kd5eyn/intercept_data/2023-01-01_2023-01-31/\"\n",
    "df = process_parquet_dir(data_path)"
   ]
  },
  {
   "cell_type": "code",
   "execution_count": 3,
   "metadata": {},
   "outputs": [
    {
     "name": "stdout",
     "output_type": "stream",
     "text": [
      "Acme C\n",
      "N=Qy3bASvC0SiInpU7F5nC9d,DC=RADEXT,DC=NE\n",
      "N=5a8uEGx 73oFVybUf 5lja1WF 1V \n",
      "N=7Fw6H 2cMYVTs\n",
      "Indus\n",
      "Cloudflare\n",
      "nQualifier=1xKEXgaI-4tSK-4PRz-52RJ-227bMeyOuNLI,CN=1msQj6pBELU 6Nwi 1\n",
      "snap-cloud\n",
      "PerkinElmer Inc.\n",
      "GlobalSign nv-sa\n",
      "Dehuinet\n",
      "N=5jANS_HoC46Ta_5NwR_7e4ao\n",
      "Rockerbox INC\n",
      "Planetmedia Games\n",
      "Caliber Home Loans\n",
      "mitmproxy\n",
      "Temporary CA a0305fb9-1d21-4142-9f97-e1c6efdab8f\n",
      "VK\n",
      "Opera Software ASA\n",
      "GoDaddy.com\n",
      "Kabam Games Inc.\n",
      "Secure Business Services\n",
      "CloudFlare\n",
      "N=2XJ-6eiPrzGDXxc,DC=India,DC=TCS,DC=co\n",
      "N=1IlTtQ 2hTX11qddI1 57JOJKKD\n",
      "Fantisu\n",
      "PKI Center NextGen\n",
      "Bad Server Certificate [invalid server certificate]\n",
      "XM\n",
      "L3 Harris Technologies\n",
      "GeoTrust Inc.\n",
      "N=6Fk1JiB 1kKtVMy 11d\n",
      "N=3QC07n 22JpcB 5lja1WF 1\n",
      "GSM Associatio\n",
      "Micron Technologies\n",
      "N=13MPnX0jgs,DC=despreinte,DC=loca\n",
      "N=4K2VsoWa\n",
      "Camaster\n",
      "N=300MS6xVZ 5lja1WF 1YBvkwaw1Kuvz 57JOJKKDi 2,DC=Greystone,DC=in\n",
      "N=6Mi7ZTi\n",
      "N=67FxPju\n",
      "N=www.cj6zpbcmystdzbz.co\n",
      "Lockheed Martin Corporation\n",
      "GeoTrust\n",
      "N=1tKvH\n",
      "StartCom Ltd.\n",
      "N=3x1M07 1V: 2HL4gm.1ZM7jTGZ88A.1zR\n",
      "PrivacyProtector Ltd\n",
      "N=2rIfroipSp3w2whAZy7ku,DC=iziko,DC=loca\n",
      "Palo-Alto-Networks-Inc.\n",
      "N=2hsqsq-2XqsqkB\n",
      "N=yPah\n",
      "E-TuC49Fra EBG BiliC59Fim Teknolojileri ve Hizmetleri A.C59E.\n",
      "N=2SF-6\n",
      "Verizon Enterprise Solutions\n",
      "N=vLvktXzK 6Nwi 1\n",
      "Peloton Interactive Inc\n",
      "VMware\n",
      "N=6-5Lqc3v_1V,ST=CA,C=U\n",
      "Unipay Root CA\n",
      "(STAGING) Let's Encrypt\n",
      "Reckitt\n",
      "N=uGPnM2n4wJj 5EbvZ8tQOb 1V,DC=healthsouth,DC=insidehrc,DC=co\n",
      "N=u3dwBzM 4KPuUO 5qFJM5 57JOJKKDi 7,DC=tiger,DC=loca\n",
      "nQualifier=6crrflRY-1f5g-2aYz-1eg6-7kpF0Kd05Cwg,CN=1msQj6pBELU 6Nwi 1\n",
      "Linden Lab\n",
      "N=4gjC 4UH 24\n",
      "BlackBerry Limited\n",
      "N=342Vn 4iFYtIFh 5lja1WF Ck58,DC=corp,DC=root,DC=nasd,DC=co\n",
      "N=www.ftl5tup6qzlfc.co\n",
      "N=2YcA4qaR0B 1lU5AeMNe 69b 1V 7,DC=uhhs,DC=co\n",
      "Entrust\n",
      "N=4QZP1v 6gRqZwAx8ch 5EbvZ8tQOb 5lja1WF 1V,DC=PathologyPartners,DC=intrane\n",
      "Zabbix SIA\n",
      "N=3sF 5B0NW 1V 2O,DC=AME,DC=GB\n",
      "N=I09iOk\n",
      "OpenSSL Group\n",
      "Convo Communications\n",
      "N=4PMKUWYaQo\n",
      "N=22al 3Dms8 4TDsC\n",
      "DigiCert Global Root CA\n",
      "eVenture Limited\n",
      "I\n",
      "N=20t\n",
      "N=3U-1oTMC9FvA-3X22qmVVu8yGR,DC=thadmin,DC=co\n"
     ]
    }
   ],
   "source": [
    "unique_issuers = df[\"issuer_O\"].unique()\n",
    "for issuer in unique_issuers:\n",
    "    print(issuer)"
   ]
  },
  {
   "attachments": {},
   "cell_type": "markdown",
   "metadata": {},
   "source": [
    "**PerkinElmer Inc.**"
   ]
  },
  {
   "attachments": {},
   "cell_type": "markdown",
   "metadata": {},
   "source": [
    "* Food safety testing, environmental testing, and chemical testing business\n",
    "* https://www.perkinelmer.com/analytical-and-enterprise-solutions.html\n",
    "* Likely case of SSL Interception"
   ]
  },
  {
   "cell_type": "code",
   "execution_count": 5,
   "metadata": {},
   "outputs": [
    {
     "data": {
      "text/html": [
       "<div>\n",
       "<style scoped>\n",
       "    .dataframe tbody tr th:only-of-type {\n",
       "        vertical-align: middle;\n",
       "    }\n",
       "\n",
       "    .dataframe tbody tr th {\n",
       "        vertical-align: top;\n",
       "    }\n",
       "\n",
       "    .dataframe thead th {\n",
       "        text-align: right;\n",
       "    }\n",
       "</style>\n",
       "<table border=\"1\" class=\"dataframe\">\n",
       "  <thead>\n",
       "    <tr style=\"text-align: right;\">\n",
       "      <th></th>\n",
       "      <th>index</th>\n",
       "      <th>domain</th>\n",
       "      <th>issuer_O</th>\n",
       "      <th>conn_count</th>\n",
       "      <th>historical_ca</th>\n",
       "    </tr>\n",
       "  </thead>\n",
       "  <tbody>\n",
       "    <tr>\n",
       "      <th>42</th>\n",
       "      <td>34</td>\n",
       "      <td>ioc-gw-prod-us-1b.sentinelone.net</td>\n",
       "      <td>PerkinElmer Inc.</td>\n",
       "      <td>1</td>\n",
       "      <td>DigiCert Inc (2022-09-05 00:00:00 - 2023-10-06 23:59:59)</td>\n",
       "    </tr>\n",
       "    <tr>\n",
       "      <th>49</th>\n",
       "      <td>71</td>\n",
       "      <td>inference.location.live.net</td>\n",
       "      <td>PerkinElmer Inc.</td>\n",
       "      <td>1</td>\n",
       "      <td>Microsoft Corporation (2023-04-18 06:52:19 - 2023-10-15 06:52:19)</td>\n",
       "    </tr>\n",
       "    <tr>\n",
       "      <th>52</th>\n",
       "      <td>96</td>\n",
       "      <td>arc.msn.com</td>\n",
       "      <td>PerkinElmer Inc.</td>\n",
       "      <td>1</td>\n",
       "      <td>Microsoft Corporation (2022-12-11 - 2023-12-06)</td>\n",
       "    </tr>\n",
       "    <tr>\n",
       "      <th>272</th>\n",
       "      <td>64</td>\n",
       "      <td>ioc-gw-prod-us-1a.sentinelone.net</td>\n",
       "      <td>PerkinElmer Inc.</td>\n",
       "      <td>1</td>\n",
       "      <td>['DigiCert Inc (2022-10-13 - 2023-10-06)', 'Amazon (2019-05-14 - 2020-06-14)', 'Sectigo Limited (2019-07-03 - 2020-07-02)']</td>\n",
       "    </tr>\n",
       "    <tr>\n",
       "      <th>386</th>\n",
       "      <td>119</td>\n",
       "      <td>arc.msn.com</td>\n",
       "      <td>PerkinElmer Inc.</td>\n",
       "      <td>2</td>\n",
       "      <td>Microsoft Corporation (2022-12-11 - 2023-12-06)</td>\n",
       "    </tr>\n",
       "    <tr>\n",
       "      <th>387</th>\n",
       "      <td>122</td>\n",
       "      <td>api.onedrive.com</td>\n",
       "      <td>PerkinElmer Inc.</td>\n",
       "      <td>1</td>\n",
       "      <td>['Microsoft Corporation (2022-11-09 - 2023-11-04)', 'DigiCert Inc (2021-04-01 - 2022-03-31)']</td>\n",
       "    </tr>\n",
       "  </tbody>\n",
       "</table>\n",
       "</div>"
      ],
      "text/plain": [
       "    index                             domain          issuer_O  conn_count  \\\n",
       "42     34  ioc-gw-prod-us-1b.sentinelone.net  PerkinElmer Inc.           1   \n",
       "49     71        inference.location.live.net  PerkinElmer Inc.           1   \n",
       "52     96                        arc.msn.com  PerkinElmer Inc.           1   \n",
       "272    64  ioc-gw-prod-us-1a.sentinelone.net  PerkinElmer Inc.           1   \n",
       "386   119                        arc.msn.com  PerkinElmer Inc.           2   \n",
       "387   122                   api.onedrive.com  PerkinElmer Inc.           1   \n",
       "\n",
       "                                                                                                                   historical_ca  \n",
       "42                                                                      DigiCert Inc (2022-09-05 00:00:00 - 2023-10-06 23:59:59)  \n",
       "49                                                             Microsoft Corporation (2023-04-18 06:52:19 - 2023-10-15 06:52:19)  \n",
       "52                                                                               Microsoft Corporation (2022-12-11 - 2023-12-06)  \n",
       "272  ['DigiCert Inc (2022-10-13 - 2023-10-06)', 'Amazon (2019-05-14 - 2020-06-14)', 'Sectigo Limited (2019-07-03 - 2020-07-02)']  \n",
       "386                                                                              Microsoft Corporation (2022-12-11 - 2023-12-06)  \n",
       "387                                ['Microsoft Corporation (2022-11-09 - 2023-11-04)', 'DigiCert Inc (2021-04-01 - 2022-03-31)']  "
      ]
     },
     "execution_count": 5,
     "metadata": {},
     "output_type": "execute_result"
    }
   ],
   "source": [
    "pd.set_option(\"colwidth\", None)\n",
    "df[df[\"issuer_O\"] == \"PerkinElmer Inc.\"]"
   ]
  },
  {
   "attachments": {},
   "cell_type": "markdown",
   "metadata": {},
   "source": [
    "**Rockerbox INC**"
   ]
  },
  {
   "attachments": {},
   "cell_type": "markdown",
   "metadata": {},
   "source": [
    "* Likely self-signed"
   ]
  },
  {
   "cell_type": "code",
   "execution_count": 6,
   "metadata": {},
   "outputs": [
    {
     "data": {
      "text/html": [
       "<div>\n",
       "<style scoped>\n",
       "    .dataframe tbody tr th:only-of-type {\n",
       "        vertical-align: middle;\n",
       "    }\n",
       "\n",
       "    .dataframe tbody tr th {\n",
       "        vertical-align: top;\n",
       "    }\n",
       "\n",
       "    .dataframe thead th {\n",
       "        text-align: right;\n",
       "    }\n",
       "</style>\n",
       "<table border=\"1\" class=\"dataframe\">\n",
       "  <thead>\n",
       "    <tr style=\"text-align: right;\">\n",
       "      <th></th>\n",
       "      <th>index</th>\n",
       "      <th>domain</th>\n",
       "      <th>issuer_O</th>\n",
       "      <th>conn_count</th>\n",
       "      <th>historical_ca</th>\n",
       "    </tr>\n",
       "  </thead>\n",
       "  <tbody>\n",
       "    <tr>\n",
       "      <th>51</th>\n",
       "      <td>91</td>\n",
       "      <td>scrapbook.cname.getrockerbox.com</td>\n",
       "      <td>Rockerbox INC</td>\n",
       "      <td>1</td>\n",
       "      <td>['Google Trust Services LLC (2023-05-07 - 2023-08-05)', \"Let's Encrypt (2023-05-06 - 2023-08-04)\", '\"Cloudflare, Inc.\" (2022-06-06 - 2023-06-05)', '\"CloudFlare, Inc.\" (2020-02-05 - 2020-10-09)', 'COMODO CA Limited (2018-07-19 - 2019-01-25)', 'DigiCert Inc (2018-07-19 - 2018-11-03)', 'GeoTrust Inc. (2014-11-04 - 2015-11-04)']</td>\n",
       "    </tr>\n",
       "  </tbody>\n",
       "</table>\n",
       "</div>"
      ],
      "text/plain": [
       "   index                            domain       issuer_O  conn_count  \\\n",
       "51    91  scrapbook.cname.getrockerbox.com  Rockerbox INC           1   \n",
       "\n",
       "                                                                                                                                                                                                                                                                                                                             historical_ca  \n",
       "51  ['Google Trust Services LLC (2023-05-07 - 2023-08-05)', \"Let's Encrypt (2023-05-06 - 2023-08-04)\", '\"Cloudflare, Inc.\" (2022-06-06 - 2023-06-05)', '\"CloudFlare, Inc.\" (2020-02-05 - 2020-10-09)', 'COMODO CA Limited (2018-07-19 - 2019-01-25)', 'DigiCert Inc (2018-07-19 - 2018-11-03)', 'GeoTrust Inc. (2014-11-04 - 2015-11-04)']  "
      ]
     },
     "execution_count": 6,
     "metadata": {},
     "output_type": "execute_result"
    }
   ],
   "source": [
    "df[df[\"issuer_O\"] == \"Rockerbox INC\"]"
   ]
  },
  {
   "attachments": {},
   "cell_type": "markdown",
   "metadata": {},
   "source": [
    "**Planetmedia Games**"
   ]
  },
  {
   "attachments": {},
   "cell_type": "markdown",
   "metadata": {},
   "source": [
    "* Planetmedia Games confirmed as the issuer by Censys"
   ]
  },
  {
   "cell_type": "code",
   "execution_count": 7,
   "metadata": {},
   "outputs": [
    {
     "data": {
      "text/html": [
       "<div>\n",
       "<style scoped>\n",
       "    .dataframe tbody tr th:only-of-type {\n",
       "        vertical-align: middle;\n",
       "    }\n",
       "\n",
       "    .dataframe tbody tr th {\n",
       "        vertical-align: top;\n",
       "    }\n",
       "\n",
       "    .dataframe thead th {\n",
       "        text-align: right;\n",
       "    }\n",
       "</style>\n",
       "<table border=\"1\" class=\"dataframe\">\n",
       "  <thead>\n",
       "    <tr style=\"text-align: right;\">\n",
       "      <th></th>\n",
       "      <th>index</th>\n",
       "      <th>domain</th>\n",
       "      <th>issuer_O</th>\n",
       "      <th>conn_count</th>\n",
       "      <th>historical_ca</th>\n",
       "    </tr>\n",
       "  </thead>\n",
       "  <tbody>\n",
       "    <tr>\n",
       "      <th>53</th>\n",
       "      <td>7</td>\n",
       "      <td>server.hotelhideawaythegame.com</td>\n",
       "      <td>Planetmedia Games</td>\n",
       "      <td>1</td>\n",
       "      <td>DigiCert Inc (2022-02-03 00:00:00 - 2023-02-22 23:59:59)</td>\n",
       "    </tr>\n",
       "    <tr>\n",
       "      <th>245</th>\n",
       "      <td>13</td>\n",
       "      <td>server.hotelhideawaythegame.com</td>\n",
       "      <td>Planetmedia Games</td>\n",
       "      <td>1</td>\n",
       "      <td>['DigiCert Inc (2022-02-03 - 2023-02-22)', '\"GoDaddy.com, Inc.\" (2017-02-01 - 2018-02-01)']</td>\n",
       "    </tr>\n",
       "    <tr>\n",
       "      <th>322</th>\n",
       "      <td>11</td>\n",
       "      <td>server.hotelhideawaythegame.com</td>\n",
       "      <td>Planetmedia Games</td>\n",
       "      <td>2</td>\n",
       "      <td>DigiCert Inc (2022-02-03 00:00:00 - 2023-02-22 23:59:59)</td>\n",
       "    </tr>\n",
       "    <tr>\n",
       "      <th>615</th>\n",
       "      <td>3</td>\n",
       "      <td>server.hotelhideawaythegame.com</td>\n",
       "      <td>Planetmedia Games</td>\n",
       "      <td>1</td>\n",
       "      <td>['DigiCert Inc (2022-02-03 - 2023-02-22)', '\"GoDaddy.com, Inc.\" (2017-02-01 - 2018-02-01)']</td>\n",
       "    </tr>\n",
       "    <tr>\n",
       "      <th>657</th>\n",
       "      <td>1</td>\n",
       "      <td>server.hotelhideawaythegame.com</td>\n",
       "      <td>Planetmedia Games</td>\n",
       "      <td>1</td>\n",
       "      <td>DigiCert Inc (2022-02-03 00:00:00 - 2023-02-22 23:59:59)</td>\n",
       "    </tr>\n",
       "    <tr>\n",
       "      <th>1146</th>\n",
       "      <td>17</td>\n",
       "      <td>server.hotelhideawaythegame.com</td>\n",
       "      <td>Planetmedia Games</td>\n",
       "      <td>1</td>\n",
       "      <td>['DigiCert Inc (2022-02-03 - 2023-02-22)', '\"GoDaddy.com, Inc.\" (2017-02-01 - 2018-02-01)']</td>\n",
       "    </tr>\n",
       "  </tbody>\n",
       "</table>\n",
       "</div>"
      ],
      "text/plain": [
       "     index                           domain           issuer_O  conn_count  \\\n",
       "53       7  server.hotelhideawaythegame.com  Planetmedia Games           1   \n",
       "245     13  server.hotelhideawaythegame.com  Planetmedia Games           1   \n",
       "322     11  server.hotelhideawaythegame.com  Planetmedia Games           2   \n",
       "615      3  server.hotelhideawaythegame.com  Planetmedia Games           1   \n",
       "657      1  server.hotelhideawaythegame.com  Planetmedia Games           1   \n",
       "1146    17  server.hotelhideawaythegame.com  Planetmedia Games           1   \n",
       "\n",
       "                                                                                    historical_ca  \n",
       "53                                       DigiCert Inc (2022-02-03 00:00:00 - 2023-02-22 23:59:59)  \n",
       "245   ['DigiCert Inc (2022-02-03 - 2023-02-22)', '\"GoDaddy.com, Inc.\" (2017-02-01 - 2018-02-01)']  \n",
       "322                                      DigiCert Inc (2022-02-03 00:00:00 - 2023-02-22 23:59:59)  \n",
       "615   ['DigiCert Inc (2022-02-03 - 2023-02-22)', '\"GoDaddy.com, Inc.\" (2017-02-01 - 2018-02-01)']  \n",
       "657                                      DigiCert Inc (2022-02-03 00:00:00 - 2023-02-22 23:59:59)  \n",
       "1146  ['DigiCert Inc (2022-02-03 - 2023-02-22)', '\"GoDaddy.com, Inc.\" (2017-02-01 - 2018-02-01)']  "
      ]
     },
     "execution_count": 7,
     "metadata": {},
     "output_type": "execute_result"
    }
   ],
   "source": [
    "df[df[\"issuer_O\"] == \"Planetmedia Games\"]"
   ]
  },
  {
   "attachments": {},
   "cell_type": "markdown",
   "metadata": {},
   "source": [
    "**Caliber Home Loans**"
   ]
  },
  {
   "attachments": {},
   "cell_type": "markdown",
   "metadata": {},
   "source": [
    "* Likely case of SSL Interception - visits to Microsoft domains"
   ]
  },
  {
   "cell_type": "code",
   "execution_count": 8,
   "metadata": {},
   "outputs": [
    {
     "data": {
      "text/html": [
       "<div>\n",
       "<style scoped>\n",
       "    .dataframe tbody tr th:only-of-type {\n",
       "        vertical-align: middle;\n",
       "    }\n",
       "\n",
       "    .dataframe tbody tr th {\n",
       "        vertical-align: top;\n",
       "    }\n",
       "\n",
       "    .dataframe thead th {\n",
       "        text-align: right;\n",
       "    }\n",
       "</style>\n",
       "<table border=\"1\" class=\"dataframe\">\n",
       "  <thead>\n",
       "    <tr style=\"text-align: right;\">\n",
       "      <th></th>\n",
       "      <th>index</th>\n",
       "      <th>domain</th>\n",
       "      <th>issuer_O</th>\n",
       "      <th>conn_count</th>\n",
       "      <th>historical_ca</th>\n",
       "    </tr>\n",
       "  </thead>\n",
       "  <tbody>\n",
       "    <tr>\n",
       "      <th>56</th>\n",
       "      <td>1</td>\n",
       "      <td>www.bing.com</td>\n",
       "      <td>Caliber Home Loans</td>\n",
       "      <td>1</td>\n",
       "      <td>Microsoft Corporation (2022-11-25 - 2023-05-25)</td>\n",
       "    </tr>\n",
       "    <tr>\n",
       "      <th>57</th>\n",
       "      <td>8</td>\n",
       "      <td>mobile.launchdarkly.com</td>\n",
       "      <td>Caliber Home Loans</td>\n",
       "      <td>1</td>\n",
       "      <td>Amazon (2022-08-19 - 2023-09-16)</td>\n",
       "    </tr>\n",
       "    <tr>\n",
       "      <th>58</th>\n",
       "      <td>14</td>\n",
       "      <td>app.launchdarkly.com</td>\n",
       "      <td>Caliber Home Loans</td>\n",
       "      <td>1</td>\n",
       "      <td>GlobalSign nv-sa (2022-09-28 00:42:14 - 2023-10-30 00:42:13)</td>\n",
       "    </tr>\n",
       "    <tr>\n",
       "      <th>138</th>\n",
       "      <td>65</td>\n",
       "      <td>my-epmlb.aternity.com</td>\n",
       "      <td>Caliber Home Loans</td>\n",
       "      <td>2</td>\n",
       "      <td>['Amazon (2022-12-19 - 2024-01-15)', 'DigiCert Inc (2022-07-17 - 2023-08-17)', '\"GoDaddy.com, Inc.\" (2013-08-12 - 2016-07-17)']</td>\n",
       "    </tr>\n",
       "    <tr>\n",
       "      <th>139</th>\n",
       "      <td>69</td>\n",
       "      <td>g.live.com</td>\n",
       "      <td>Caliber Home Loans</td>\n",
       "      <td>1</td>\n",
       "      <td>Microsoft Corporation (2022-05-25 20:47:12 - 2023-05-20 20:47:12)</td>\n",
       "    </tr>\n",
       "    <tr>\n",
       "      <th>911</th>\n",
       "      <td>0</td>\n",
       "      <td>www.bing.com</td>\n",
       "      <td>Caliber Home Loans</td>\n",
       "      <td>1</td>\n",
       "      <td>Microsoft Corporation (2022-11-25 00:56:56 - 2023-05-25 00:56:56)</td>\n",
       "    </tr>\n",
       "    <tr>\n",
       "      <th>964</th>\n",
       "      <td>2</td>\n",
       "      <td>builds.cdn.getgo.com</td>\n",
       "      <td>Caliber Home Loans</td>\n",
       "      <td>1</td>\n",
       "      <td>['DigiCert Inc (2019-01-04 - 2020-01-08)', 'Amazon (2022-09-11 - 2023-10-09)']</td>\n",
       "    </tr>\n",
       "    <tr>\n",
       "      <th>965</th>\n",
       "      <td>3</td>\n",
       "      <td>inference.location.live.net</td>\n",
       "      <td>Caliber Home Loans</td>\n",
       "      <td>1</td>\n",
       "      <td>Microsoft Corporation (2023-04-18 06:52:19 - 2023-10-15 06:52:19)</td>\n",
       "    </tr>\n",
       "    <tr>\n",
       "      <th>966</th>\n",
       "      <td>4</td>\n",
       "      <td>img-prod-cms-rt-microsoft-com.akamaized.net</td>\n",
       "      <td>Caliber Home Loans</td>\n",
       "      <td>1</td>\n",
       "      <td>DigiCert Inc (2022-06-28 00:00:00 - 2023-06-30 23:59:59)</td>\n",
       "    </tr>\n",
       "    <tr>\n",
       "      <th>967</th>\n",
       "      <td>5</td>\n",
       "      <td>www.bing.com</td>\n",
       "      <td>Caliber Home Loans</td>\n",
       "      <td>1</td>\n",
       "      <td>Microsoft Corporation (2022-11-25 - 2023-05-25)</td>\n",
       "    </tr>\n",
       "    <tr>\n",
       "      <th>968</th>\n",
       "      <td>12</td>\n",
       "      <td>fp.msedge.net</td>\n",
       "      <td>Caliber Home Loans</td>\n",
       "      <td>1</td>\n",
       "      <td>Microsoft Corporation (2022-06-06 14:26:42 - 2023-06-01 14:26:42)</td>\n",
       "    </tr>\n",
       "    <tr>\n",
       "      <th>969</th>\n",
       "      <td>14</td>\n",
       "      <td>incoming.telemetry.mozilla.org</td>\n",
       "      <td>Caliber Home Loans</td>\n",
       "      <td>2</td>\n",
       "      <td>[\"Let's Encrypt (2022-10-26 - 2023-01-24)\", 'Google Trust Services LLC (2022-10-12 - 2023-01-10)', 'DigiCert Inc (2013-09-12 - 2015-09-17)']</td>\n",
       "    </tr>\n",
       "  </tbody>\n",
       "</table>\n",
       "</div>"
      ],
      "text/plain": [
       "    index                                       domain            issuer_O  \\\n",
       "56      1                                 www.bing.com  Caliber Home Loans   \n",
       "57      8                      mobile.launchdarkly.com  Caliber Home Loans   \n",
       "58     14                         app.launchdarkly.com  Caliber Home Loans   \n",
       "138    65                        my-epmlb.aternity.com  Caliber Home Loans   \n",
       "139    69                                   g.live.com  Caliber Home Loans   \n",
       "911     0                                 www.bing.com  Caliber Home Loans   \n",
       "964     2                         builds.cdn.getgo.com  Caliber Home Loans   \n",
       "965     3                  inference.location.live.net  Caliber Home Loans   \n",
       "966     4  img-prod-cms-rt-microsoft-com.akamaized.net  Caliber Home Loans   \n",
       "967     5                                 www.bing.com  Caliber Home Loans   \n",
       "968    12                                fp.msedge.net  Caliber Home Loans   \n",
       "969    14               incoming.telemetry.mozilla.org  Caliber Home Loans   \n",
       "\n",
       "     conn_count  \\\n",
       "56            1   \n",
       "57            1   \n",
       "58            1   \n",
       "138           2   \n",
       "139           1   \n",
       "911           1   \n",
       "964           1   \n",
       "965           1   \n",
       "966           1   \n",
       "967           1   \n",
       "968           1   \n",
       "969           2   \n",
       "\n",
       "                                                                                                                                    historical_ca  \n",
       "56                                                                                                Microsoft Corporation (2022-11-25 - 2023-05-25)  \n",
       "57                                                                                                               Amazon (2022-08-19 - 2023-09-16)  \n",
       "58                                                                                   GlobalSign nv-sa (2022-09-28 00:42:14 - 2023-10-30 00:42:13)  \n",
       "138               ['Amazon (2022-12-19 - 2024-01-15)', 'DigiCert Inc (2022-07-17 - 2023-08-17)', '\"GoDaddy.com, Inc.\" (2013-08-12 - 2016-07-17)']  \n",
       "139                                                                             Microsoft Corporation (2022-05-25 20:47:12 - 2023-05-20 20:47:12)  \n",
       "911                                                                             Microsoft Corporation (2022-11-25 00:56:56 - 2023-05-25 00:56:56)  \n",
       "964                                                                ['DigiCert Inc (2019-01-04 - 2020-01-08)', 'Amazon (2022-09-11 - 2023-10-09)']  \n",
       "965                                                                             Microsoft Corporation (2023-04-18 06:52:19 - 2023-10-15 06:52:19)  \n",
       "966                                                                                      DigiCert Inc (2022-06-28 00:00:00 - 2023-06-30 23:59:59)  \n",
       "967                                                                                               Microsoft Corporation (2022-11-25 - 2023-05-25)  \n",
       "968                                                                             Microsoft Corporation (2022-06-06 14:26:42 - 2023-06-01 14:26:42)  \n",
       "969  [\"Let's Encrypt (2022-10-26 - 2023-01-24)\", 'Google Trust Services LLC (2022-10-12 - 2023-01-10)', 'DigiCert Inc (2013-09-12 - 2015-09-17)']  "
      ]
     },
     "execution_count": 8,
     "metadata": {},
     "output_type": "execute_result"
    }
   ],
   "source": [
    "df[df[\"issuer_O\"] == \"Caliber Home Loans\"]"
   ]
  },
  {
   "attachments": {},
   "cell_type": "markdown",
   "metadata": {},
   "source": [
    "**mitmproxy**"
   ]
  },
  {
   "attachments": {},
   "cell_type": "markdown",
   "metadata": {},
   "source": [
    "* https://mitmproxy.org/ - Proxy software used to intercept, inspect, and modify web traffic - including traffic encrypted using SSL and TLS."
   ]
  },
  {
   "cell_type": "code",
   "execution_count": 9,
   "metadata": {},
   "outputs": [
    {
     "data": {
      "text/html": [
       "<div>\n",
       "<style scoped>\n",
       "    .dataframe tbody tr th:only-of-type {\n",
       "        vertical-align: middle;\n",
       "    }\n",
       "\n",
       "    .dataframe tbody tr th {\n",
       "        vertical-align: top;\n",
       "    }\n",
       "\n",
       "    .dataframe thead th {\n",
       "        text-align: right;\n",
       "    }\n",
       "</style>\n",
       "<table border=\"1\" class=\"dataframe\">\n",
       "  <thead>\n",
       "    <tr style=\"text-align: right;\">\n",
       "      <th></th>\n",
       "      <th>index</th>\n",
       "      <th>domain</th>\n",
       "      <th>issuer_O</th>\n",
       "      <th>conn_count</th>\n",
       "      <th>historical_ca</th>\n",
       "    </tr>\n",
       "  </thead>\n",
       "  <tbody>\n",
       "    <tr>\n",
       "      <th>65</th>\n",
       "      <td>58</td>\n",
       "      <td>www.dmv.ca.gov</td>\n",
       "      <td>mitmproxy</td>\n",
       "      <td>4</td>\n",
       "      <td>['Amazon (2023-01-07 00:00:00 - 2024-02-05 23:59:59)', 'Sectigo Limited (2020-04-21 00:00:00 - 2022-04-21 23:59:59)', 'COMODO CA Limited (2018-04-27 00:00:00 - 2020-04-26 23:59:59)']</td>\n",
       "    </tr>\n",
       "    <tr>\n",
       "      <th>308</th>\n",
       "      <td>42</td>\n",
       "      <td>www.dmv.ca.gov</td>\n",
       "      <td>mitmproxy</td>\n",
       "      <td>19</td>\n",
       "      <td>['Sectigo Limited (2022-09-01 - 2023-09-01)', '\"VeriSign, Inc.\" (2012-06-11 - 2014-06-24)', 'COMODO CA Limited (2014-11-19 - 2016-11-18)']</td>\n",
       "    </tr>\n",
       "  </tbody>\n",
       "</table>\n",
       "</div>"
      ],
      "text/plain": [
       "    index          domain   issuer_O  conn_count  \\\n",
       "65     58  www.dmv.ca.gov  mitmproxy           4   \n",
       "308    42  www.dmv.ca.gov  mitmproxy          19   \n",
       "\n",
       "                                                                                                                                                                              historical_ca  \n",
       "65   ['Amazon (2023-01-07 00:00:00 - 2024-02-05 23:59:59)', 'Sectigo Limited (2020-04-21 00:00:00 - 2022-04-21 23:59:59)', 'COMODO CA Limited (2018-04-27 00:00:00 - 2020-04-26 23:59:59)']  \n",
       "308                                              ['Sectigo Limited (2022-09-01 - 2023-09-01)', '\"VeriSign, Inc.\" (2012-06-11 - 2014-06-24)', 'COMODO CA Limited (2014-11-19 - 2016-11-18)']  "
      ]
     },
     "execution_count": 9,
     "metadata": {},
     "output_type": "execute_result"
    }
   ],
   "source": [
    "df[df[\"issuer_O\"] == \"mitmproxy\"]"
   ]
  },
  {
   "attachments": {},
   "cell_type": "markdown",
   "metadata": {},
   "source": [
    "**Secure Business Services**"
   ]
  },
  {
   "attachments": {},
   "cell_type": "markdown",
   "metadata": {},
   "source": [
    "* Secure Business Services is the issuer for euruchess.org as confirmed by SSL Checker"
   ]
  },
  {
   "cell_type": "code",
   "execution_count": 10,
   "metadata": {},
   "outputs": [
    {
     "data": {
      "text/html": [
       "<div>\n",
       "<style scoped>\n",
       "    .dataframe tbody tr th:only-of-type {\n",
       "        vertical-align: middle;\n",
       "    }\n",
       "\n",
       "    .dataframe tbody tr th {\n",
       "        vertical-align: top;\n",
       "    }\n",
       "\n",
       "    .dataframe thead th {\n",
       "        text-align: right;\n",
       "    }\n",
       "</style>\n",
       "<table border=\"1\" class=\"dataframe\">\n",
       "  <thead>\n",
       "    <tr style=\"text-align: right;\">\n",
       "      <th></th>\n",
       "      <th>index</th>\n",
       "      <th>domain</th>\n",
       "      <th>issuer_O</th>\n",
       "      <th>conn_count</th>\n",
       "      <th>historical_ca</th>\n",
       "    </tr>\n",
       "  </thead>\n",
       "  <tbody>\n",
       "    <tr>\n",
       "      <th>110</th>\n",
       "      <td>39</td>\n",
       "      <td>www.euruchess.org</td>\n",
       "      <td>Secure Business Services</td>\n",
       "      <td>6</td>\n",
       "      <td>Let's Encrypt (2022-11-03 - 2023-02-01)</td>\n",
       "    </tr>\n",
       "  </tbody>\n",
       "</table>\n",
       "</div>"
      ],
      "text/plain": [
       "    index             domain                  issuer_O  conn_count  \\\n",
       "110    39  www.euruchess.org  Secure Business Services           6   \n",
       "\n",
       "                               historical_ca  \n",
       "110  Let's Encrypt (2022-11-03 - 2023-02-01)  "
      ]
     },
     "execution_count": 10,
     "metadata": {},
     "output_type": "execute_result"
    }
   ],
   "source": [
    "df[df[\"issuer_O\"] == \"Secure Business Services\"]"
   ]
  },
  {
   "attachments": {},
   "cell_type": "markdown",
   "metadata": {},
   "source": [
    "**Fantisu**"
   ]
  },
  {
   "attachments": {},
   "cell_type": "markdown",
   "metadata": {},
   "source": [
    "* Likely self-signed"
   ]
  },
  {
   "cell_type": "code",
   "execution_count": 11,
   "metadata": {},
   "outputs": [
    {
     "data": {
      "text/html": [
       "<div>\n",
       "<style scoped>\n",
       "    .dataframe tbody tr th:only-of-type {\n",
       "        vertical-align: middle;\n",
       "    }\n",
       "\n",
       "    .dataframe tbody tr th {\n",
       "        vertical-align: top;\n",
       "    }\n",
       "\n",
       "    .dataframe thead th {\n",
       "        text-align: right;\n",
       "    }\n",
       "</style>\n",
       "<table border=\"1\" class=\"dataframe\">\n",
       "  <thead>\n",
       "    <tr style=\"text-align: right;\">\n",
       "      <th></th>\n",
       "      <th>index</th>\n",
       "      <th>domain</th>\n",
       "      <th>issuer_O</th>\n",
       "      <th>conn_count</th>\n",
       "      <th>historical_ca</th>\n",
       "    </tr>\n",
       "  </thead>\n",
       "  <tbody>\n",
       "    <tr>\n",
       "      <th>142</th>\n",
       "      <td>5</td>\n",
       "      <td>l.fantisum.com</td>\n",
       "      <td>Fantisu</td>\n",
       "      <td>1</td>\n",
       "      <td>Fantisum (2021-12-27 11:07:34 - 2033-05-26 11:07:34)</td>\n",
       "    </tr>\n",
       "  </tbody>\n",
       "</table>\n",
       "</div>"
      ],
      "text/plain": [
       "    index          domain issuer_O  conn_count  \\\n",
       "142     5  l.fantisum.com  Fantisu           1   \n",
       "\n",
       "                                            historical_ca  \n",
       "142  Fantisum (2021-12-27 11:07:34 - 2033-05-26 11:07:34)  "
      ]
     },
     "execution_count": 11,
     "metadata": {},
     "output_type": "execute_result"
    }
   ],
   "source": [
    "df[df[\"issuer_O\"] == \"Fantisu\"]"
   ]
  },
  {
   "attachments": {},
   "cell_type": "markdown",
   "metadata": {},
   "source": [
    "**PKI Center NextGen**"
   ]
  },
  {
   "attachments": {},
   "cell_type": "markdown",
   "metadata": {},
   "source": [
    "* PKI Center NextGen is the certificate issuer for csidms.cs-hms.com as confirmed by SSL Checker"
   ]
  },
  {
   "cell_type": "code",
   "execution_count": 12,
   "metadata": {},
   "outputs": [
    {
     "data": {
      "text/html": [
       "<div>\n",
       "<style scoped>\n",
       "    .dataframe tbody tr th:only-of-type {\n",
       "        vertical-align: middle;\n",
       "    }\n",
       "\n",
       "    .dataframe tbody tr th {\n",
       "        vertical-align: top;\n",
       "    }\n",
       "\n",
       "    .dataframe thead th {\n",
       "        text-align: right;\n",
       "    }\n",
       "</style>\n",
       "<table border=\"1\" class=\"dataframe\">\n",
       "  <thead>\n",
       "    <tr style=\"text-align: right;\">\n",
       "      <th></th>\n",
       "      <th>index</th>\n",
       "      <th>domain</th>\n",
       "      <th>issuer_O</th>\n",
       "      <th>conn_count</th>\n",
       "      <th>historical_ca</th>\n",
       "    </tr>\n",
       "  </thead>\n",
       "  <tbody>\n",
       "    <tr>\n",
       "      <th>149</th>\n",
       "      <td>5</td>\n",
       "      <td>csidms.cs-hms.com</td>\n",
       "      <td>PKI Center NextGen</td>\n",
       "      <td>2</td>\n",
       "      <td>Network Solutions L.L.C. (2022-03-24 - 2023-03-03)</td>\n",
       "    </tr>\n",
       "    <tr>\n",
       "      <th>793</th>\n",
       "      <td>7</td>\n",
       "      <td>csidms.cs-hms.com</td>\n",
       "      <td>PKI Center NextGen</td>\n",
       "      <td>2</td>\n",
       "      <td>Network Solutions L.L.C. (2022-03-24 - 2023-03-03)</td>\n",
       "    </tr>\n",
       "  </tbody>\n",
       "</table>\n",
       "</div>"
      ],
      "text/plain": [
       "    index             domain            issuer_O  conn_count  \\\n",
       "149     5  csidms.cs-hms.com  PKI Center NextGen           2   \n",
       "793     7  csidms.cs-hms.com  PKI Center NextGen           2   \n",
       "\n",
       "                                          historical_ca  \n",
       "149  Network Solutions L.L.C. (2022-03-24 - 2023-03-03)  \n",
       "793  Network Solutions L.L.C. (2022-03-24 - 2023-03-03)  "
      ]
     },
     "execution_count": 12,
     "metadata": {},
     "output_type": "execute_result"
    }
   ],
   "source": [
    "df[df[\"issuer_O\"] == \"PKI Center NextGen\"]"
   ]
  },
  {
   "attachments": {},
   "cell_type": "markdown",
   "metadata": {},
   "source": [
    "**Micron Technologies**\n",
    "* Produces Computer memory and storage devices\n",
    "* https://www.micron.com/\n",
    "* Likely case of SSL Interception - visiting Microsoft domains"
   ]
  },
  {
   "cell_type": "code",
   "execution_count": 13,
   "metadata": {},
   "outputs": [
    {
     "data": {
      "text/html": [
       "<div>\n",
       "<style scoped>\n",
       "    .dataframe tbody tr th:only-of-type {\n",
       "        vertical-align: middle;\n",
       "    }\n",
       "\n",
       "    .dataframe tbody tr th {\n",
       "        vertical-align: top;\n",
       "    }\n",
       "\n",
       "    .dataframe thead th {\n",
       "        text-align: right;\n",
       "    }\n",
       "</style>\n",
       "<table border=\"1\" class=\"dataframe\">\n",
       "  <thead>\n",
       "    <tr style=\"text-align: right;\">\n",
       "      <th></th>\n",
       "      <th>index</th>\n",
       "      <th>domain</th>\n",
       "      <th>issuer_O</th>\n",
       "      <th>conn_count</th>\n",
       "      <th>historical_ca</th>\n",
       "    </tr>\n",
       "  </thead>\n",
       "  <tbody>\n",
       "    <tr>\n",
       "      <th>180</th>\n",
       "      <td>24</td>\n",
       "      <td>login.live.com</td>\n",
       "      <td>Micron Technologies</td>\n",
       "      <td>1</td>\n",
       "      <td>DigiCert Inc (2023-04-02 00:00:00 - 2024-04-02 23:59:59)</td>\n",
       "    </tr>\n",
       "    <tr>\n",
       "      <th>182</th>\n",
       "      <td>28</td>\n",
       "      <td>login.microsoftonline.com</td>\n",
       "      <td>Micron Technologies</td>\n",
       "      <td>23</td>\n",
       "      <td>DigiCert Inc (2023-02-19 00:00:00 - 2024-02-19 23:59:59)</td>\n",
       "    </tr>\n",
       "    <tr>\n",
       "      <th>689</th>\n",
       "      <td>15</td>\n",
       "      <td>login.microsoftonline.com</td>\n",
       "      <td>Micron Technologies</td>\n",
       "      <td>1</td>\n",
       "      <td>DigiCert Inc (2023-02-19 00:00:00 - 2024-02-19 23:59:59)</td>\n",
       "    </tr>\n",
       "    <tr>\n",
       "      <th>947</th>\n",
       "      <td>20</td>\n",
       "      <td>g.live.com</td>\n",
       "      <td>Micron Technologies</td>\n",
       "      <td>3</td>\n",
       "      <td>Microsoft Corporation (2022-05-25 20:47:12 - 2023-05-20 20:47:12)</td>\n",
       "    </tr>\n",
       "  </tbody>\n",
       "</table>\n",
       "</div>"
      ],
      "text/plain": [
       "    index                     domain             issuer_O  conn_count  \\\n",
       "180    24             login.live.com  Micron Technologies           1   \n",
       "182    28  login.microsoftonline.com  Micron Technologies          23   \n",
       "689    15  login.microsoftonline.com  Micron Technologies           1   \n",
       "947    20                 g.live.com  Micron Technologies           3   \n",
       "\n",
       "                                                         historical_ca  \n",
       "180           DigiCert Inc (2023-04-02 00:00:00 - 2024-04-02 23:59:59)  \n",
       "182           DigiCert Inc (2023-02-19 00:00:00 - 2024-02-19 23:59:59)  \n",
       "689           DigiCert Inc (2023-02-19 00:00:00 - 2024-02-19 23:59:59)  \n",
       "947  Microsoft Corporation (2022-05-25 20:47:12 - 2023-05-20 20:47:12)  "
      ]
     },
     "execution_count": 13,
     "metadata": {},
     "output_type": "execute_result"
    }
   ],
   "source": [
    "df[df[\"issuer_O\"] == \"Micron Technologies\"]"
   ]
  },
  {
   "attachments": {},
   "cell_type": "markdown",
   "metadata": {},
   "source": [
    "**Camaster**"
   ]
  },
  {
   "attachments": {},
   "cell_type": "markdown",
   "metadata": {},
   "source": [
    "* CAMaster produces wood and metal cutting machines"
   ]
  },
  {
   "cell_type": "code",
   "execution_count": 14,
   "metadata": {},
   "outputs": [
    {
     "data": {
      "text/html": [
       "<div>\n",
       "<style scoped>\n",
       "    .dataframe tbody tr th:only-of-type {\n",
       "        vertical-align: middle;\n",
       "    }\n",
       "\n",
       "    .dataframe tbody tr th {\n",
       "        vertical-align: top;\n",
       "    }\n",
       "\n",
       "    .dataframe thead th {\n",
       "        text-align: right;\n",
       "    }\n",
       "</style>\n",
       "<table border=\"1\" class=\"dataframe\">\n",
       "  <thead>\n",
       "    <tr style=\"text-align: right;\">\n",
       "      <th></th>\n",
       "      <th>index</th>\n",
       "      <th>domain</th>\n",
       "      <th>issuer_O</th>\n",
       "      <th>conn_count</th>\n",
       "      <th>historical_ca</th>\n",
       "    </tr>\n",
       "  </thead>\n",
       "  <tbody>\n",
       "    <tr>\n",
       "      <th>251</th>\n",
       "      <td>92</td>\n",
       "      <td>mqt.egloo.co.kr</td>\n",
       "      <td>Camaster</td>\n",
       "      <td>1</td>\n",
       "      <td>DigiCert Inc (2022-10-17 - 2023-11-17)</td>\n",
       "    </tr>\n",
       "  </tbody>\n",
       "</table>\n",
       "</div>"
      ],
      "text/plain": [
       "    index           domain  issuer_O  conn_count  \\\n",
       "251    92  mqt.egloo.co.kr  Camaster           1   \n",
       "\n",
       "                              historical_ca  \n",
       "251  DigiCert Inc (2022-10-17 - 2023-11-17)  "
      ]
     },
     "execution_count": 14,
     "metadata": {},
     "output_type": "execute_result"
    }
   ],
   "source": [
    "df[df[\"issuer_O\"] == \"Camaster\"]"
   ]
  },
  {
   "attachments": {},
   "cell_type": "markdown",
   "metadata": {},
   "source": [
    "**PrivacyProtector Ltd**"
   ]
  },
  {
   "attachments": {},
   "cell_type": "markdown",
   "metadata": {},
   "source": [
    "* Possible case of SSL Interception"
   ]
  },
  {
   "cell_type": "code",
   "execution_count": 15,
   "metadata": {},
   "outputs": [
    {
     "data": {
      "text/html": [
       "<div>\n",
       "<style scoped>\n",
       "    .dataframe tbody tr th:only-of-type {\n",
       "        vertical-align: middle;\n",
       "    }\n",
       "\n",
       "    .dataframe tbody tr th {\n",
       "        vertical-align: top;\n",
       "    }\n",
       "\n",
       "    .dataframe thead th {\n",
       "        text-align: right;\n",
       "    }\n",
       "</style>\n",
       "<table border=\"1\" class=\"dataframe\">\n",
       "  <thead>\n",
       "    <tr style=\"text-align: right;\">\n",
       "      <th></th>\n",
       "      <th>index</th>\n",
       "      <th>domain</th>\n",
       "      <th>issuer_O</th>\n",
       "      <th>conn_count</th>\n",
       "      <th>historical_ca</th>\n",
       "    </tr>\n",
       "  </thead>\n",
       "  <tbody>\n",
       "    <tr>\n",
       "      <th>499</th>\n",
       "      <td>20</td>\n",
       "      <td>www.google.com</td>\n",
       "      <td>PrivacyProtector Ltd</td>\n",
       "      <td>5</td>\n",
       "      <td>Google Trust Services LLC (2023-03-02 04:23:01 - 2023-05-25 04:23:00)</td>\n",
       "    </tr>\n",
       "  </tbody>\n",
       "</table>\n",
       "</div>"
      ],
      "text/plain": [
       "    index          domain              issuer_O  conn_count  \\\n",
       "499    20  www.google.com  PrivacyProtector Ltd           5   \n",
       "\n",
       "                                                             historical_ca  \n",
       "499  Google Trust Services LLC (2023-03-02 04:23:01 - 2023-05-25 04:23:00)  "
      ]
     },
     "execution_count": 15,
     "metadata": {},
     "output_type": "execute_result"
    }
   ],
   "source": [
    "df[df[\"issuer_O\"] == \"PrivacyProtector Ltd\"]"
   ]
  },
  {
   "attachments": {},
   "cell_type": "markdown",
   "metadata": {},
   "source": [
    "**Reckitt**"
   ]
  },
  {
   "attachments": {},
   "cell_type": "markdown",
   "metadata": {},
   "source": [
    "* Likely case of SSL Interception\n",
    "* Produces health, hygiene, and nutrition products\n",
    "* https://www.reckitt.com/"
   ]
  },
  {
   "cell_type": "code",
   "execution_count": 16,
   "metadata": {},
   "outputs": [
    {
     "data": {
      "text/html": [
       "<div>\n",
       "<style scoped>\n",
       "    .dataframe tbody tr th:only-of-type {\n",
       "        vertical-align: middle;\n",
       "    }\n",
       "\n",
       "    .dataframe tbody tr th {\n",
       "        vertical-align: top;\n",
       "    }\n",
       "\n",
       "    .dataframe thead th {\n",
       "        text-align: right;\n",
       "    }\n",
       "</style>\n",
       "<table border=\"1\" class=\"dataframe\">\n",
       "  <thead>\n",
       "    <tr style=\"text-align: right;\">\n",
       "      <th></th>\n",
       "      <th>index</th>\n",
       "      <th>domain</th>\n",
       "      <th>issuer_O</th>\n",
       "      <th>conn_count</th>\n",
       "      <th>historical_ca</th>\n",
       "    </tr>\n",
       "  </thead>\n",
       "  <tbody>\n",
       "    <tr>\n",
       "      <th>677</th>\n",
       "      <td>41</td>\n",
       "      <td>sp.cwfservice.net</td>\n",
       "      <td>Reckitt</td>\n",
       "      <td>2</td>\n",
       "      <td>['DigiCert Inc (2023-01-18 - 2024-02-18)', '\"Entrust, Inc.\" (2010-12-14 - 2015-02-07)', 'Symantec Corporation (2017-04-12 - 2019-04-13)']</td>\n",
       "    </tr>\n",
       "    <tr>\n",
       "      <th>680</th>\n",
       "      <td>69</td>\n",
       "      <td>fef.msub02.manage.microsoft.com</td>\n",
       "      <td>Reckitt</td>\n",
       "      <td>2</td>\n",
       "      <td>Microsoft Corporation (2023-01-07 - 2024-01-02)</td>\n",
       "    </tr>\n",
       "    <tr>\n",
       "      <th>683</th>\n",
       "      <td>86</td>\n",
       "      <td>www.bing.com</td>\n",
       "      <td>Reckitt</td>\n",
       "      <td>1</td>\n",
       "      <td>Microsoft Corporation (2022-11-25 - 2023-05-25)</td>\n",
       "    </tr>\n",
       "    <tr>\n",
       "      <th>684</th>\n",
       "      <td>89</td>\n",
       "      <td>settings-win.data.microsoft.com</td>\n",
       "      <td>Reckitt</td>\n",
       "      <td>1</td>\n",
       "      <td>Microsoft Corporation (2014-10-08 - 2016-01-08)</td>\n",
       "    </tr>\n",
       "    <tr>\n",
       "      <th>685</th>\n",
       "      <td>105</td>\n",
       "      <td>g.live.com</td>\n",
       "      <td>Reckitt</td>\n",
       "      <td>2</td>\n",
       "      <td>Microsoft Corporation (2022-05-25 20:47:12 - 2023-05-20 20:47:12)</td>\n",
       "    </tr>\n",
       "    <tr>\n",
       "      <th>805</th>\n",
       "      <td>22</td>\n",
       "      <td>performancemanager.successfactors.eu</td>\n",
       "      <td>Reckitt</td>\n",
       "      <td>2</td>\n",
       "      <td>\"VeriSign, Inc.\" (2010-10-23 - 2012-10-22)</td>\n",
       "    </tr>\n",
       "    <tr>\n",
       "      <th>807</th>\n",
       "      <td>36</td>\n",
       "      <td>sp.cwfservice.net</td>\n",
       "      <td>Reckitt</td>\n",
       "      <td>81</td>\n",
       "      <td>['DigiCert Inc (2023-01-18 - 2024-02-18)', '\"Entrust, Inc.\" (2010-12-14 - 2015-02-07)', 'Symantec Corporation (2017-04-12 - 2019-04-13)']</td>\n",
       "    </tr>\n",
       "    <tr>\n",
       "      <th>808</th>\n",
       "      <td>45</td>\n",
       "      <td>www.office.com</td>\n",
       "      <td>Reckitt</td>\n",
       "      <td>1</td>\n",
       "      <td>['Microsoft Corporation (2022-08-29 - 2023-08-24)', 'DigiCert Inc (2022-10-18 - 2023-10-18)', 'GlobalSign nv-sa (2020-05-29 - 2022-05-30)']</td>\n",
       "    </tr>\n",
       "    <tr>\n",
       "      <th>810</th>\n",
       "      <td>60</td>\n",
       "      <td>rbassist.service-now.com</td>\n",
       "      <td>Reckitt</td>\n",
       "      <td>2</td>\n",
       "      <td>['\"Entrust, Inc.\" (2023-01-20 - 2023-10-10)', '\"GoDaddy.com, Inc.\" (2008-06-03 - 2010-07-11)', '\"Starfield Technologies, Inc.\" (2006-07-11 - 2008-07-11)', 'Thawte Consulting cc (2009-08-26 - 2011-08-26)', '\"Thawte, Inc.\" (2011-07-04 - 2013-10-02)']</td>\n",
       "    </tr>\n",
       "    <tr>\n",
       "      <th>812</th>\n",
       "      <td>65</td>\n",
       "      <td>liveupdate.symantecliveupdate.com</td>\n",
       "      <td>Reckitt</td>\n",
       "      <td>2</td>\n",
       "      <td>DigiCert Inc (2022-04-20 00:00:00 - 2023-04-20 23:59:59)</td>\n",
       "    </tr>\n",
       "    <tr>\n",
       "      <th>813</th>\n",
       "      <td>75</td>\n",
       "      <td>euprodimedatapri.azureedge.net</td>\n",
       "      <td>Reckitt</td>\n",
       "      <td>1</td>\n",
       "      <td>['DigiCert Inc (2022-07-11 00:00:00 - 2023-07-11 23:59:59)', 'Microsoft Corporation (2018-03-30 17:48:56 - 2020-03-30 17:48:56)']</td>\n",
       "    </tr>\n",
       "  </tbody>\n",
       "</table>\n",
       "</div>"
      ],
      "text/plain": [
       "    index                                domain issuer_O  conn_count  \\\n",
       "677    41                     sp.cwfservice.net  Reckitt           2   \n",
       "680    69       fef.msub02.manage.microsoft.com  Reckitt           2   \n",
       "683    86                          www.bing.com  Reckitt           1   \n",
       "684    89       settings-win.data.microsoft.com  Reckitt           1   \n",
       "685   105                            g.live.com  Reckitt           2   \n",
       "805    22  performancemanager.successfactors.eu  Reckitt           2   \n",
       "807    36                     sp.cwfservice.net  Reckitt          81   \n",
       "808    45                        www.office.com  Reckitt           1   \n",
       "810    60              rbassist.service-now.com  Reckitt           2   \n",
       "812    65     liveupdate.symantecliveupdate.com  Reckitt           2   \n",
       "813    75        euprodimedatapri.azureedge.net  Reckitt           1   \n",
       "\n",
       "                                                                                                                                                                                                                                                historical_ca  \n",
       "677                                                                                                                 ['DigiCert Inc (2023-01-18 - 2024-02-18)', '\"Entrust, Inc.\" (2010-12-14 - 2015-02-07)', 'Symantec Corporation (2017-04-12 - 2019-04-13)']  \n",
       "680                                                                                                                                                                                                           Microsoft Corporation (2023-01-07 - 2024-01-02)  \n",
       "683                                                                                                                                                                                                           Microsoft Corporation (2022-11-25 - 2023-05-25)  \n",
       "684                                                                                                                                                                                                           Microsoft Corporation (2014-10-08 - 2016-01-08)  \n",
       "685                                                                                                                                                                                         Microsoft Corporation (2022-05-25 20:47:12 - 2023-05-20 20:47:12)  \n",
       "805                                                                                                                                                                                                                \"VeriSign, Inc.\" (2010-10-23 - 2012-10-22)  \n",
       "807                                                                                                                 ['DigiCert Inc (2023-01-18 - 2024-02-18)', '\"Entrust, Inc.\" (2010-12-14 - 2015-02-07)', 'Symantec Corporation (2017-04-12 - 2019-04-13)']  \n",
       "808                                                                                                               ['Microsoft Corporation (2022-08-29 - 2023-08-24)', 'DigiCert Inc (2022-10-18 - 2023-10-18)', 'GlobalSign nv-sa (2020-05-29 - 2022-05-30)']  \n",
       "810  ['\"Entrust, Inc.\" (2023-01-20 - 2023-10-10)', '\"GoDaddy.com, Inc.\" (2008-06-03 - 2010-07-11)', '\"Starfield Technologies, Inc.\" (2006-07-11 - 2008-07-11)', 'Thawte Consulting cc (2009-08-26 - 2011-08-26)', '\"Thawte, Inc.\" (2011-07-04 - 2013-10-02)']  \n",
       "812                                                                                                                                                                                                  DigiCert Inc (2022-04-20 00:00:00 - 2023-04-20 23:59:59)  \n",
       "813                                                                                                                         ['DigiCert Inc (2022-07-11 00:00:00 - 2023-07-11 23:59:59)', 'Microsoft Corporation (2018-03-30 17:48:56 - 2020-03-30 17:48:56)']  "
      ]
     },
     "execution_count": 16,
     "metadata": {},
     "output_type": "execute_result"
    }
   ],
   "source": [
    "df[df[\"issuer_O\"] == \"Reckitt\"]"
   ]
  },
  {
   "attachments": {},
   "cell_type": "markdown",
   "metadata": {},
   "source": [
    "**Zabbix SIA**"
   ]
  },
  {
   "attachments": {},
   "cell_type": "markdown",
   "metadata": {},
   "source": [
    "* Potential case of SSL Interception\n",
    "* In January 2023, ni.uznna.com had a Google Trust Services LLC certificate and xe.vldbd.com had a Cloudflare certificate\n",
    "* Zabbix provides network, cloud, appication, server, and service monitoring\n",
    "* https://www.zabbix.com/"
   ]
  },
  {
   "cell_type": "code",
   "execution_count": 17,
   "metadata": {},
   "outputs": [
    {
     "data": {
      "text/html": [
       "<div>\n",
       "<style scoped>\n",
       "    .dataframe tbody tr th:only-of-type {\n",
       "        vertical-align: middle;\n",
       "    }\n",
       "\n",
       "    .dataframe tbody tr th {\n",
       "        vertical-align: top;\n",
       "    }\n",
       "\n",
       "    .dataframe thead th {\n",
       "        text-align: right;\n",
       "    }\n",
       "</style>\n",
       "<table border=\"1\" class=\"dataframe\">\n",
       "  <thead>\n",
       "    <tr style=\"text-align: right;\">\n",
       "      <th></th>\n",
       "      <th>index</th>\n",
       "      <th>domain</th>\n",
       "      <th>issuer_O</th>\n",
       "      <th>conn_count</th>\n",
       "      <th>historical_ca</th>\n",
       "    </tr>\n",
       "  </thead>\n",
       "  <tbody>\n",
       "    <tr>\n",
       "      <th>1036</th>\n",
       "      <td>2</td>\n",
       "      <td>xe.vldbd.com</td>\n",
       "      <td>Zabbix SIA</td>\n",
       "      <td>2</td>\n",
       "      <td>[\"Let's Encrypt (2022-10-09 - 2023-01-07)\", '\"Cloudflare, Inc.\" (2022-07-05 - 2023-07-04)']</td>\n",
       "    </tr>\n",
       "    <tr>\n",
       "      <th>1037</th>\n",
       "      <td>4</td>\n",
       "      <td>ni.uznna.com</td>\n",
       "      <td>Zabbix SIA</td>\n",
       "      <td>3</td>\n",
       "      <td>['Google Trust Services LLC (2022-12-01 - 2023-03-01)', \"Let's Encrypt (2022-10-24 - 2023-01-22)\"]</td>\n",
       "    </tr>\n",
       "  </tbody>\n",
       "</table>\n",
       "</div>"
      ],
      "text/plain": [
       "     index        domain    issuer_O  conn_count  \\\n",
       "1036     2  xe.vldbd.com  Zabbix SIA           2   \n",
       "1037     4  ni.uznna.com  Zabbix SIA           3   \n",
       "\n",
       "                                                                                           historical_ca  \n",
       "1036         [\"Let's Encrypt (2022-10-09 - 2023-01-07)\", '\"Cloudflare, Inc.\" (2022-07-05 - 2023-07-04)']  \n",
       "1037  ['Google Trust Services LLC (2022-12-01 - 2023-03-01)', \"Let's Encrypt (2022-10-24 - 2023-01-22)\"]  "
      ]
     },
     "execution_count": 17,
     "metadata": {},
     "output_type": "execute_result"
    }
   ],
   "source": [
    "df[df[\"issuer_O\"] == \"Zabbix SIA\"]"
   ]
  },
  {
   "attachments": {},
   "cell_type": "markdown",
   "metadata": {},
   "source": [
    "**OpenSSL Group**"
   ]
  },
  {
   "cell_type": "code",
   "execution_count": 19,
   "metadata": {},
   "outputs": [
    {
     "data": {
      "text/html": [
       "<div>\n",
       "<style scoped>\n",
       "    .dataframe tbody tr th:only-of-type {\n",
       "        vertical-align: middle;\n",
       "    }\n",
       "\n",
       "    .dataframe tbody tr th {\n",
       "        vertical-align: top;\n",
       "    }\n",
       "\n",
       "    .dataframe thead th {\n",
       "        text-align: right;\n",
       "    }\n",
       "</style>\n",
       "<table border=\"1\" class=\"dataframe\">\n",
       "  <thead>\n",
       "    <tr style=\"text-align: right;\">\n",
       "      <th></th>\n",
       "      <th>index</th>\n",
       "      <th>domain</th>\n",
       "      <th>issuer_O</th>\n",
       "      <th>conn_count</th>\n",
       "      <th>historical_ca</th>\n",
       "    </tr>\n",
       "  </thead>\n",
       "  <tbody>\n",
       "    <tr>\n",
       "      <th>1155</th>\n",
       "      <td>24</td>\n",
       "      <td>googleleadservices.com</td>\n",
       "      <td>OpenSSL Group</td>\n",
       "      <td>1</td>\n",
       "      <td>GoDaddy.com, Inc. (2018-01-14 07:28:01 - 2021-01-14 07:28:01)</td>\n",
       "    </tr>\n",
       "  </tbody>\n",
       "</table>\n",
       "</div>"
      ],
      "text/plain": [
       "     index                  domain       issuer_O  conn_count  \\\n",
       "1155    24  googleleadservices.com  OpenSSL Group           1   \n",
       "\n",
       "                                                      historical_ca  \n",
       "1155  GoDaddy.com, Inc. (2018-01-14 07:28:01 - 2021-01-14 07:28:01)  "
      ]
     },
     "execution_count": 19,
     "metadata": {},
     "output_type": "execute_result"
    }
   ],
   "source": [
    "df[df[\"issuer_O\"] == \"OpenSSL Group\"]"
   ]
  },
  {
   "attachments": {},
   "cell_type": "markdown",
   "metadata": {},
   "source": [
    "**Convo Communications**"
   ]
  },
  {
   "attachments": {},
   "cell_type": "markdown",
   "metadata": {},
   "source": [
    "* Likely self-signed certificate"
   ]
  },
  {
   "cell_type": "code",
   "execution_count": 20,
   "metadata": {},
   "outputs": [
    {
     "data": {
      "text/html": [
       "<div>\n",
       "<style scoped>\n",
       "    .dataframe tbody tr th:only-of-type {\n",
       "        vertical-align: middle;\n",
       "    }\n",
       "\n",
       "    .dataframe tbody tr th {\n",
       "        vertical-align: top;\n",
       "    }\n",
       "\n",
       "    .dataframe thead th {\n",
       "        text-align: right;\n",
       "    }\n",
       "</style>\n",
       "<table border=\"1\" class=\"dataframe\">\n",
       "  <thead>\n",
       "    <tr style=\"text-align: right;\">\n",
       "      <th></th>\n",
       "      <th>index</th>\n",
       "      <th>domain</th>\n",
       "      <th>issuer_O</th>\n",
       "      <th>conn_count</th>\n",
       "      <th>historical_ca</th>\n",
       "    </tr>\n",
       "  </thead>\n",
       "  <tbody>\n",
       "    <tr>\n",
       "      <th>1172</th>\n",
       "      <td>6</td>\n",
       "      <td>client.app.convorelay.net</td>\n",
       "      <td>Convo Communications</td>\n",
       "      <td>4</td>\n",
       "      <td>['Amazon (2022-05-20 - 2023-06-18)', \"Let's Encrypt (2020-06-22 - 2020-09-20)\", 'DigiCert Inc (2014-09-15 - 2015-11-19)']</td>\n",
       "    </tr>\n",
       "  </tbody>\n",
       "</table>\n",
       "</div>"
      ],
      "text/plain": [
       "     index                     domain              issuer_O  conn_count  \\\n",
       "1172     6  client.app.convorelay.net  Convo Communications           4   \n",
       "\n",
       "                                                                                                                  historical_ca  \n",
       "1172  ['Amazon (2022-05-20 - 2023-06-18)', \"Let's Encrypt (2020-06-22 - 2020-09-20)\", 'DigiCert Inc (2014-09-15 - 2015-11-19)']  "
      ]
     },
     "execution_count": 20,
     "metadata": {},
     "output_type": "execute_result"
    }
   ],
   "source": [
    "df[df[\"issuer_O\"] == \"Convo Communications\"]"
   ]
  },
  {
   "attachments": {},
   "cell_type": "markdown",
   "metadata": {},
   "source": [
    "**eVenture Limited**"
   ]
  },
  {
   "attachments": {},
   "cell_type": "markdown",
   "metadata": {},
   "source": [
    "* eVenture Limited owns free-us-ds.hideservers.net - Likely self-signed"
   ]
  },
  {
   "cell_type": "code",
   "execution_count": 21,
   "metadata": {},
   "outputs": [
    {
     "data": {
      "text/html": [
       "<div>\n",
       "<style scoped>\n",
       "    .dataframe tbody tr th:only-of-type {\n",
       "        vertical-align: middle;\n",
       "    }\n",
       "\n",
       "    .dataframe tbody tr th {\n",
       "        vertical-align: top;\n",
       "    }\n",
       "\n",
       "    .dataframe thead th {\n",
       "        text-align: right;\n",
       "    }\n",
       "</style>\n",
       "<table border=\"1\" class=\"dataframe\">\n",
       "  <thead>\n",
       "    <tr style=\"text-align: right;\">\n",
       "      <th></th>\n",
       "      <th>index</th>\n",
       "      <th>domain</th>\n",
       "      <th>issuer_O</th>\n",
       "      <th>conn_count</th>\n",
       "      <th>historical_ca</th>\n",
       "    </tr>\n",
       "  </thead>\n",
       "  <tbody>\n",
       "    <tr>\n",
       "      <th>1250</th>\n",
       "      <td>4</td>\n",
       "      <td>free-us-ds.hideservers.net</td>\n",
       "      <td>eVenture Limited</td>\n",
       "      <td>2</td>\n",
       "      <td>DigiCert Inc (2022-03-02 - 2023-03-17)</td>\n",
       "    </tr>\n",
       "  </tbody>\n",
       "</table>\n",
       "</div>"
      ],
      "text/plain": [
       "     index                      domain          issuer_O  conn_count  \\\n",
       "1250     4  free-us-ds.hideservers.net  eVenture Limited           2   \n",
       "\n",
       "                               historical_ca  \n",
       "1250  DigiCert Inc (2022-03-02 - 2023-03-17)  "
      ]
     },
     "execution_count": 21,
     "metadata": {},
     "output_type": "execute_result"
    }
   ],
   "source": [
    "df[df[\"issuer_O\"] == \"eVenture Limited\"] "
   ]
  }
 ],
 "metadata": {
  "kernelspec": {
   "display_name": "Python 3",
   "language": "python",
   "name": "python3"
  },
  "language_info": {
   "codemirror_mode": {
    "name": "ipython",
    "version": 3
   },
   "file_extension": ".py",
   "mimetype": "text/x-python",
   "name": "python",
   "nbconvert_exporter": "python",
   "pygments_lexer": "ipython3",
   "version": "3.8.10"
  },
  "orig_nbformat": 4
 },
 "nbformat": 4,
 "nbformat_minor": 2
}
