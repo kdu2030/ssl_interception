{
 "cells": [
  {
   "cell_type": "code",
   "execution_count": 1,
   "metadata": {},
   "outputs": [],
   "source": [
    "from analysis_helpers.intercept_helpers import process_parquet_dir\n",
    "import pandas as pd"
   ]
  },
  {
   "cell_type": "code",
   "execution_count": 2,
   "metadata": {},
   "outputs": [
    {
     "name": "stderr",
     "output_type": "stream",
     "text": [
      "/home/ubuntu/GitLab/ssl_interception/notebooks/analysis_notebooks/analysis_helpers/intercept_helpers.py:43: SettingWithCopyWarning: \n",
      "A value is trying to be set on a copy of a slice from a DataFrame.\n",
      "Try using .loc[row_indexer,col_indexer] = value instead\n",
      "\n",
      "See the caveats in the documentation: https://pandas.pydata.org/pandas-docs/stable/user_guide/indexing.html#returning-a-view-versus-a-copy\n",
      "  df[\"does_ca_match\"] = df.apply(lambda row: does_ca_match(\n"
     ]
    }
   ],
   "source": [
    "data_path = \"/mnt/chaseproject/uva/kd5eyn/intercept_data/2022-09-01_2022-09-30/\"\n",
    "df = process_parquet_dir(data_path)"
   ]
  },
  {
   "cell_type": "code",
   "execution_count": 3,
   "metadata": {},
   "outputs": [
    {
     "name": "stdout",
     "output_type": "stream",
     "text": [
      "Temporary CA a0305fb9-1d21-4142-9f97-e1c6efdab8f\n",
      "Dehuinet\n",
      "Micron Technologies\n",
      "COMODO CA Limited\n",
      "VK\n",
      "Kabam Games Inc.\n",
      "N=cert-manager.loca\n",
      "N=5jANS_HoC46Ta_5NwR_7e4ao\n",
      "Xero\n",
      "PrivacySearch Ltd\n",
      "GeoTrust\n",
      "N=1Hx32o2d\n",
      "N=1sAL 3ul 5lja1WF 1V,OU=FPKI,OU=U.S. Government,C=U\n",
      "GlobalSign nv-sa\n",
      "N=6Fk1JiB 1kKtVMy 11d\n",
      "GoDaddy.com\n",
      "Soluciones Corporativas IP\n",
      "N=2hsqsq-2XqsqkB\n",
      "CloudFlare\n",
      "Acme C\n",
      "GeoTrust Inc.\n",
      "N=5Gkzg038J36 2LJjWLD5 57JOJKKD\n",
      "L3 Harris Technologies\n",
      "N=3Q4Dsb9\n",
      "N=6vaMXDqR\n",
      "SECOM Trust Systems CO.\n",
      "N=6Mi7ZTi\n",
      "N=4K2VsoWa\n",
      "Northrop Grumman Corporation\n",
      "N=67FxPju\n",
      "Opera Software ASA\n",
      "MI_Uni_Koel\n",
      "N=3g-25UPF19\n",
      "N=7Fw6H 2cMYVTs\n",
      "N=3x1M07 1V: 2HL4gm.unCmGq.6o\n",
      "N=3cN-6csb-4fkbjMa-1V,DC=na,DC=fti,DC=loca\n",
      "Global Digital Cybersecurity Authority Co.\n",
      "N=2fq-6Nr2XkT,DC=ad,DC=loca\n",
      "Government of Korea\n",
      "Thawte Consulting cc\n",
      "Cloudflare\n",
      "FNMT-RCM\n",
      "Rede Nacional de Ensino e Pesquisa - RNP\n",
      "N=websync.cavaliers.DVSport.co\n",
      "N=2FaCoTL 4dA 1\n",
      "snap-cloud\n",
      "N=uGPnM2n4wJj 5EbvZ8tQOb 1V,DC=healthsouth,DC=insidehrc,DC=co\n",
      "TBS INTERNET\n",
      "DHIMYOTIS\n",
      "nQualifier=6crrflRY-1f5g-2aYz-1eg6-7kpF0Kd05Cwg,CN=1msQj6pBELU 6Nwi 1\n",
      "\n",
      "Leido\n",
      "GSM Associatio\n",
      "nQualifier=1xKEXgaI-4tSK-4PRz-52RJ-227bMeyOuNLI,CN=1msQj6pBELU 6Nwi 1\n",
      "N=13MPnX0jgs,DC=despreinte,DC=loca\n",
      "Verizon Enterprise Solutions\n",
      "BlackBerry Limited\n",
      "Indus\n",
      "N=16AWS-5B05id\n",
      "XM\n",
      "Sectigo Limited\n",
      "Peloton Interactive Inc\n",
      "N=1HYakN5S4zjWaE\n",
      "N=5a8uEGx 73oFVybUf 5lja1WF 1V \n",
      "N=www.k5i4hmmlssxfyqtcy3.co\n",
      "Nintendo of America\n",
      "Standard Chartered Bank\n",
      "N=Mail.Ru Development Intermediate Certificate N6 -PA\n",
      "N=7Z8yTu\n",
      "N=1\n",
      "Chunghwa Telecom Co.\n",
      "Bad Server Certificate [invalid server certificate]\n",
      "Palo-Alto-Networks-Inc.\n",
      "The USERTRUST Network\n",
      "CertCloud Pte. Ltd.\n",
      "N=4tWHEVNjev 5EbvZ8tQOb 1mfpSQi,DC=bbbb,DC=ne\n"
     ]
    }
   ],
   "source": [
    "unique_issuers = df[\"issuer_O\"].unique()\n",
    "for issuer in unique_issuers:\n",
    "    print(issuer)"
   ]
  },
  {
   "attachments": {},
   "cell_type": "markdown",
   "metadata": {},
   "source": [
    "**Xero**"
   ]
  },
  {
   "attachments": {},
   "cell_type": "markdown",
   "metadata": {},
   "source": [
    "* Xero is an accounting software firm - https://www.xero.com/us/"
   ]
  },
  {
   "cell_type": "code",
   "execution_count": 5,
   "metadata": {},
   "outputs": [
    {
     "data": {
      "text/html": [
       "<div>\n",
       "<style scoped>\n",
       "    .dataframe tbody tr th:only-of-type {\n",
       "        vertical-align: middle;\n",
       "    }\n",
       "\n",
       "    .dataframe tbody tr th {\n",
       "        vertical-align: top;\n",
       "    }\n",
       "\n",
       "    .dataframe thead th {\n",
       "        text-align: right;\n",
       "    }\n",
       "</style>\n",
       "<table border=\"1\" class=\"dataframe\">\n",
       "  <thead>\n",
       "    <tr style=\"text-align: right;\">\n",
       "      <th></th>\n",
       "      <th>index</th>\n",
       "      <th>domain</th>\n",
       "      <th>issuer_O</th>\n",
       "      <th>conn_count</th>\n",
       "      <th>historical_ca</th>\n",
       "    </tr>\n",
       "  </thead>\n",
       "  <tbody>\n",
       "    <tr>\n",
       "      <th>38</th>\n",
       "      <td>97</td>\n",
       "      <td>app.yinxiang.com</td>\n",
       "      <td>Xero</td>\n",
       "      <td>1</td>\n",
       "      <td>[\"Let's Encrypt (2022-08-19 - 2022-11-17)\", '\"TrustAsia Technologies, Inc.\" (2021-11-11 - 2022-11-10)', '\"DNSPod, Inc.\" (2022-11-01 - 2023-11-01)', 'DigiCert Inc (2018-08-09 - 2019-10-16)', 'COMODO CA Limited (2012-05-02 - 2014-05-02)', 'Symantec Corporation (2014-11-07 - 2017-04-24)', '\"VeriSign, Inc.\" (2012-06-14 - 2017-06-13)']</td>\n",
       "    </tr>\n",
       "  </tbody>\n",
       "</table>\n",
       "</div>"
      ],
      "text/plain": [
       "    index            domain issuer_O  conn_count  \\\n",
       "38     97  app.yinxiang.com     Xero           1   \n",
       "\n",
       "                                                                                                                                                                                                                                                                                                                                   historical_ca  \n",
       "38  [\"Let's Encrypt (2022-08-19 - 2022-11-17)\", '\"TrustAsia Technologies, Inc.\" (2021-11-11 - 2022-11-10)', '\"DNSPod, Inc.\" (2022-11-01 - 2023-11-01)', 'DigiCert Inc (2018-08-09 - 2019-10-16)', 'COMODO CA Limited (2012-05-02 - 2014-05-02)', 'Symantec Corporation (2014-11-07 - 2017-04-24)', '\"VeriSign, Inc.\" (2012-06-14 - 2017-06-13)']  "
      ]
     },
     "execution_count": 5,
     "metadata": {},
     "output_type": "execute_result"
    }
   ],
   "source": [
    "pd.set_option(\"colwidth\", None)\n",
    "df[df[\"issuer_O\"] == \"Xero\"]"
   ]
  },
  {
   "attachments": {},
   "cell_type": "markdown",
   "metadata": {},
   "source": [
    "**Soluciones Corporativas IP**"
   ]
  },
  {
   "cell_type": "code",
   "execution_count": 6,
   "metadata": {},
   "outputs": [
    {
     "data": {
      "text/html": [
       "<div>\n",
       "<style scoped>\n",
       "    .dataframe tbody tr th:only-of-type {\n",
       "        vertical-align: middle;\n",
       "    }\n",
       "\n",
       "    .dataframe tbody tr th {\n",
       "        vertical-align: top;\n",
       "    }\n",
       "\n",
       "    .dataframe thead th {\n",
       "        text-align: right;\n",
       "    }\n",
       "</style>\n",
       "<table border=\"1\" class=\"dataframe\">\n",
       "  <thead>\n",
       "    <tr style=\"text-align: right;\">\n",
       "      <th></th>\n",
       "      <th>index</th>\n",
       "      <th>domain</th>\n",
       "      <th>issuer_O</th>\n",
       "      <th>conn_count</th>\n",
       "      <th>historical_ca</th>\n",
       "    </tr>\n",
       "  </thead>\n",
       "  <tbody>\n",
       "    <tr>\n",
       "      <th>66</th>\n",
       "      <td>111</td>\n",
       "      <td>humanox.com</td>\n",
       "      <td>Soluciones Corporativas IP</td>\n",
       "      <td>1</td>\n",
       "      <td>['Soluciones Corporativas IP, SL (2019-12-02 00:00:00 - 2020-12-01 23:59:59)', 'DigiCert Inc (2019-01-10 00:00:00 - 2021-01-14 12:00:00)']</td>\n",
       "    </tr>\n",
       "  </tbody>\n",
       "</table>\n",
       "</div>"
      ],
      "text/plain": [
       "    index       domain                    issuer_O  conn_count  \\\n",
       "66    111  humanox.com  Soluciones Corporativas IP           1   \n",
       "\n",
       "                                                                                                                                 historical_ca  \n",
       "66  ['Soluciones Corporativas IP, SL (2019-12-02 00:00:00 - 2020-12-01 23:59:59)', 'DigiCert Inc (2019-01-10 00:00:00 - 2021-01-14 12:00:00)']  "
      ]
     },
     "execution_count": 6,
     "metadata": {},
     "output_type": "execute_result"
    }
   ],
   "source": [
    "df[df[\"issuer_O\"] == \"Soluciones Corporativas IP\"]"
   ]
  },
  {
   "attachments": {},
   "cell_type": "markdown",
   "metadata": {},
   "source": [
    "**SECOM Trust Systems CO.**"
   ]
  },
  {
   "cell_type": "code",
   "execution_count": 7,
   "metadata": {},
   "outputs": [
    {
     "data": {
      "text/html": [
       "<div>\n",
       "<style scoped>\n",
       "    .dataframe tbody tr th:only-of-type {\n",
       "        vertical-align: middle;\n",
       "    }\n",
       "\n",
       "    .dataframe tbody tr th {\n",
       "        vertical-align: top;\n",
       "    }\n",
       "\n",
       "    .dataframe thead th {\n",
       "        text-align: right;\n",
       "    }\n",
       "</style>\n",
       "<table border=\"1\" class=\"dataframe\">\n",
       "  <thead>\n",
       "    <tr style=\"text-align: right;\">\n",
       "      <th></th>\n",
       "      <th>index</th>\n",
       "      <th>domain</th>\n",
       "      <th>issuer_O</th>\n",
       "      <th>conn_count</th>\n",
       "      <th>historical_ca</th>\n",
       "    </tr>\n",
       "  </thead>\n",
       "  <tbody>\n",
       "    <tr>\n",
       "      <th>144</th>\n",
       "      <td>15</td>\n",
       "      <td>bioconductor.riken.jp</td>\n",
       "      <td>SECOM Trust Systems CO.</td>\n",
       "      <td>2</td>\n",
       "      <td>['\"SECOM Trust Systems CO.,LTD.\" (2022-04-13 - 2023-05-14)', 'National Institute of Informatics (2015-07-27 - 2017-08-26)']</td>\n",
       "    </tr>\n",
       "  </tbody>\n",
       "</table>\n",
       "</div>"
      ],
      "text/plain": [
       "     index                 domain                 issuer_O  conn_count  \\\n",
       "144     15  bioconductor.riken.jp  SECOM Trust Systems CO.           2   \n",
       "\n",
       "                                                                                                                   historical_ca  \n",
       "144  ['\"SECOM Trust Systems CO.,LTD.\" (2022-04-13 - 2023-05-14)', 'National Institute of Informatics (2015-07-27 - 2017-08-26)']  "
      ]
     },
     "execution_count": 7,
     "metadata": {},
     "output_type": "execute_result"
    }
   ],
   "source": [
    "df[df[\"issuer_O\"] == \"SECOM Trust Systems CO.\"]"
   ]
  },
  {
   "attachments": {},
   "cell_type": "markdown",
   "metadata": {},
   "source": [
    "**MI_Uni_Koel**"
   ]
  },
  {
   "attachments": {},
   "cell_type": "markdown",
   "metadata": {},
   "source": [
    "* Likely self-signed certificate\n",
    "  "
   ]
  },
  {
   "cell_type": "code",
   "execution_count": 8,
   "metadata": {},
   "outputs": [
    {
     "data": {
      "text/html": [
       "<div>\n",
       "<style scoped>\n",
       "    .dataframe tbody tr th:only-of-type {\n",
       "        vertical-align: middle;\n",
       "    }\n",
       "\n",
       "    .dataframe tbody tr th {\n",
       "        vertical-align: top;\n",
       "    }\n",
       "\n",
       "    .dataframe thead th {\n",
       "        text-align: right;\n",
       "    }\n",
       "</style>\n",
       "<table border=\"1\" class=\"dataframe\">\n",
       "  <thead>\n",
       "    <tr style=\"text-align: right;\">\n",
       "      <th></th>\n",
       "      <th>index</th>\n",
       "      <th>domain</th>\n",
       "      <th>issuer_O</th>\n",
       "      <th>conn_count</th>\n",
       "      <th>historical_ca</th>\n",
       "    </tr>\n",
       "  </thead>\n",
       "  <tbody>\n",
       "    <tr>\n",
       "      <th>209</th>\n",
       "      <td>464</td>\n",
       "      <td>thales.mi.uni-koeln.de</td>\n",
       "      <td>MI_Uni_Koel</td>\n",
       "      <td>14</td>\n",
       "      <td>Let's Encrypt (2016-12-18 - 2017-03-18)</td>\n",
       "    </tr>\n",
       "    <tr>\n",
       "      <th>441</th>\n",
       "      <td>494</td>\n",
       "      <td>thales.mi.uni-koeln.de</td>\n",
       "      <td>MI_Uni_Koel</td>\n",
       "      <td>6</td>\n",
       "      <td>Let's Encrypt (2016-12-18 - 2017-03-18)</td>\n",
       "    </tr>\n",
       "    <tr>\n",
       "      <th>485</th>\n",
       "      <td>457</td>\n",
       "      <td>thales.mi.uni-koeln.de</td>\n",
       "      <td>MI_Uni_Koel</td>\n",
       "      <td>6</td>\n",
       "      <td>Let's Encrypt (2016-12-18 - 2017-03-18)</td>\n",
       "    </tr>\n",
       "    <tr>\n",
       "      <th>691</th>\n",
       "      <td>549</td>\n",
       "      <td>thales.mi.uni-koeln.de</td>\n",
       "      <td>MI_Uni_Koel</td>\n",
       "      <td>5</td>\n",
       "      <td>Let's Encrypt (2016-12-18 - 2017-03-18)</td>\n",
       "    </tr>\n",
       "  </tbody>\n",
       "</table>\n",
       "</div>"
      ],
      "text/plain": [
       "     index                  domain     issuer_O  conn_count  \\\n",
       "209    464  thales.mi.uni-koeln.de  MI_Uni_Koel          14   \n",
       "441    494  thales.mi.uni-koeln.de  MI_Uni_Koel           6   \n",
       "485    457  thales.mi.uni-koeln.de  MI_Uni_Koel           6   \n",
       "691    549  thales.mi.uni-koeln.de  MI_Uni_Koel           5   \n",
       "\n",
       "                               historical_ca  \n",
       "209  Let's Encrypt (2016-12-18 - 2017-03-18)  \n",
       "441  Let's Encrypt (2016-12-18 - 2017-03-18)  \n",
       "485  Let's Encrypt (2016-12-18 - 2017-03-18)  \n",
       "691  Let's Encrypt (2016-12-18 - 2017-03-18)  "
      ]
     },
     "execution_count": 8,
     "metadata": {},
     "output_type": "execute_result"
    }
   ],
   "source": [
    "df[df[\"issuer_O\"] == \"MI_Uni_Koel\"]"
   ]
  },
  {
   "attachments": {},
   "cell_type": "markdown",
   "metadata": {},
   "source": [
    "**Global Digital Cybersecurity Authority Co.**"
   ]
  },
  {
   "cell_type": "code",
   "execution_count": 9,
   "metadata": {},
   "outputs": [
    {
     "data": {
      "text/html": [
       "<div>\n",
       "<style scoped>\n",
       "    .dataframe tbody tr th:only-of-type {\n",
       "        vertical-align: middle;\n",
       "    }\n",
       "\n",
       "    .dataframe tbody tr th {\n",
       "        vertical-align: top;\n",
       "    }\n",
       "\n",
       "    .dataframe thead th {\n",
       "        text-align: right;\n",
       "    }\n",
       "</style>\n",
       "<table border=\"1\" class=\"dataframe\">\n",
       "  <thead>\n",
       "    <tr style=\"text-align: right;\">\n",
       "      <th></th>\n",
       "      <th>index</th>\n",
       "      <th>domain</th>\n",
       "      <th>issuer_O</th>\n",
       "      <th>conn_count</th>\n",
       "      <th>historical_ca</th>\n",
       "    </tr>\n",
       "  </thead>\n",
       "  <tbody>\n",
       "    <tr>\n",
       "      <th>260</th>\n",
       "      <td>18</td>\n",
       "      <td>mb.sczwfw.gov.cn</td>\n",
       "      <td>Global Digital Cybersecurity Authority Co.</td>\n",
       "      <td>2</td>\n",
       "      <td>\"Global Digital Cybersecurity Authority Co., Ltd.\" (2022-06-22 - 2023-06-22)</td>\n",
       "    </tr>\n",
       "  </tbody>\n",
       "</table>\n",
       "</div>"
      ],
      "text/plain": [
       "     index            domain                                    issuer_O  \\\n",
       "260     18  mb.sczwfw.gov.cn  Global Digital Cybersecurity Authority Co.   \n",
       "\n",
       "     conn_count  \\\n",
       "260           2   \n",
       "\n",
       "                                                                    historical_ca  \n",
       "260  \"Global Digital Cybersecurity Authority Co., Ltd.\" (2022-06-22 - 2023-06-22)  "
      ]
     },
     "execution_count": 9,
     "metadata": {},
     "output_type": "execute_result"
    }
   ],
   "source": [
    "df[df[\"issuer_O\"] == \"Global Digital Cybersecurity Authority Co.\"]"
   ]
  },
  {
   "attachments": {},
   "cell_type": "markdown",
   "metadata": {},
   "source": [
    "**Government of Korea**"
   ]
  },
  {
   "cell_type": "code",
   "execution_count": 10,
   "metadata": {},
   "outputs": [
    {
     "data": {
      "text/html": [
       "<div>\n",
       "<style scoped>\n",
       "    .dataframe tbody tr th:only-of-type {\n",
       "        vertical-align: middle;\n",
       "    }\n",
       "\n",
       "    .dataframe tbody tr th {\n",
       "        vertical-align: top;\n",
       "    }\n",
       "\n",
       "    .dataframe thead th {\n",
       "        text-align: right;\n",
       "    }\n",
       "</style>\n",
       "<table border=\"1\" class=\"dataframe\">\n",
       "  <thead>\n",
       "    <tr style=\"text-align: right;\">\n",
       "      <th></th>\n",
       "      <th>index</th>\n",
       "      <th>domain</th>\n",
       "      <th>issuer_O</th>\n",
       "      <th>conn_count</th>\n",
       "      <th>historical_ca</th>\n",
       "    </tr>\n",
       "  </thead>\n",
       "  <tbody>\n",
       "    <tr>\n",
       "      <th>280</th>\n",
       "      <td>139</td>\n",
       "      <td>web.donga.ac.kr</td>\n",
       "      <td>Government of Korea</td>\n",
       "      <td>6</td>\n",
       "      <td>['Sectigo Limited (2022-08-24 - 2023-09-23)', 'COMODO CA Limited (2018-09-03 - 2020-09-02)', 'Government of Korea (2012-09-14 - 2014-12-14)']</td>\n",
       "    </tr>\n",
       "  </tbody>\n",
       "</table>\n",
       "</div>"
      ],
      "text/plain": [
       "     index           domain             issuer_O  conn_count  \\\n",
       "280    139  web.donga.ac.kr  Government of Korea           6   \n",
       "\n",
       "                                                                                                                                     historical_ca  \n",
       "280  ['Sectigo Limited (2022-08-24 - 2023-09-23)', 'COMODO CA Limited (2018-09-03 - 2020-09-02)', 'Government of Korea (2012-09-14 - 2014-12-14)']  "
      ]
     },
     "execution_count": 10,
     "metadata": {},
     "output_type": "execute_result"
    }
   ],
   "source": [
    "df[df[\"issuer_O\"] == \"Government of Korea\"]"
   ]
  },
  {
   "attachments": {},
   "cell_type": "markdown",
   "metadata": {},
   "source": [
    "**Rede Nacional de Ensino e Pesquisa - RNP**"
   ]
  },
  {
   "cell_type": "code",
   "execution_count": 11,
   "metadata": {},
   "outputs": [
    {
     "data": {
      "text/html": [
       "<div>\n",
       "<style scoped>\n",
       "    .dataframe tbody tr th:only-of-type {\n",
       "        vertical-align: middle;\n",
       "    }\n",
       "\n",
       "    .dataframe tbody tr th {\n",
       "        vertical-align: top;\n",
       "    }\n",
       "\n",
       "    .dataframe thead th {\n",
       "        text-align: right;\n",
       "    }\n",
       "</style>\n",
       "<table border=\"1\" class=\"dataframe\">\n",
       "  <thead>\n",
       "    <tr style=\"text-align: right;\">\n",
       "      <th></th>\n",
       "      <th>index</th>\n",
       "      <th>domain</th>\n",
       "      <th>issuer_O</th>\n",
       "      <th>conn_count</th>\n",
       "      <th>historical_ca</th>\n",
       "    </tr>\n",
       "  </thead>\n",
       "  <tbody>\n",
       "    <tr>\n",
       "      <th>346</th>\n",
       "      <td>75</td>\n",
       "      <td>www.visgraf.impa.br</td>\n",
       "      <td>Rede Nacional de Ensino e Pesquisa - RNP</td>\n",
       "      <td>1</td>\n",
       "      <td>['GlobalSign nv-sa (2020-07-08 - 2022-07-09)', 'Rede Nacional de Ensino e Pesquisa - RNP (2017-09-01 - 2020-09-01)']</td>\n",
       "    </tr>\n",
       "  </tbody>\n",
       "</table>\n",
       "</div>"
      ],
      "text/plain": [
       "     index               domain                                  issuer_O  \\\n",
       "346     75  www.visgraf.impa.br  Rede Nacional de Ensino e Pesquisa - RNP   \n",
       "\n",
       "     conn_count  \\\n",
       "346           1   \n",
       "\n",
       "                                                                                                            historical_ca  \n",
       "346  ['GlobalSign nv-sa (2020-07-08 - 2022-07-09)', 'Rede Nacional de Ensino e Pesquisa - RNP (2017-09-01 - 2020-09-01)']  "
      ]
     },
     "execution_count": 11,
     "metadata": {},
     "output_type": "execute_result"
    }
   ],
   "source": [
    "df[df[\"issuer_O\"] == \"Rede Nacional de Ensino e Pesquisa - RNP\"]"
   ]
  },
  {
   "attachments": {},
   "cell_type": "markdown",
   "metadata": {},
   "source": [
    "**TBS INTERNET**"
   ]
  },
  {
   "cell_type": "code",
   "execution_count": 12,
   "metadata": {},
   "outputs": [
    {
     "data": {
      "text/html": [
       "<div>\n",
       "<style scoped>\n",
       "    .dataframe tbody tr th:only-of-type {\n",
       "        vertical-align: middle;\n",
       "    }\n",
       "\n",
       "    .dataframe tbody tr th {\n",
       "        vertical-align: top;\n",
       "    }\n",
       "\n",
       "    .dataframe thead th {\n",
       "        text-align: right;\n",
       "    }\n",
       "</style>\n",
       "<table border=\"1\" class=\"dataframe\">\n",
       "  <thead>\n",
       "    <tr style=\"text-align: right;\">\n",
       "      <th></th>\n",
       "      <th>index</th>\n",
       "      <th>domain</th>\n",
       "      <th>issuer_O</th>\n",
       "      <th>conn_count</th>\n",
       "      <th>historical_ca</th>\n",
       "    </tr>\n",
       "  </thead>\n",
       "  <tbody>\n",
       "    <tr>\n",
       "      <th>403</th>\n",
       "      <td>12</td>\n",
       "      <td>www.neuhauser.fr</td>\n",
       "      <td>TBS INTERNET</td>\n",
       "      <td>1</td>\n",
       "      <td>TBS INTERNET (2022-02-10 - 2023-03-13)</td>\n",
       "    </tr>\n",
       "  </tbody>\n",
       "</table>\n",
       "</div>"
      ],
      "text/plain": [
       "     index            domain      issuer_O  conn_count  \\\n",
       "403     12  www.neuhauser.fr  TBS INTERNET           1   \n",
       "\n",
       "                              historical_ca  \n",
       "403  TBS INTERNET (2022-02-10 - 2023-03-13)  "
      ]
     },
     "execution_count": 12,
     "metadata": {},
     "output_type": "execute_result"
    }
   ],
   "source": [
    "df[df[\"issuer_O\"] == \"TBS INTERNET\"]"
   ]
  },
  {
   "attachments": {},
   "cell_type": "markdown",
   "metadata": {},
   "source": [
    "**DHIMYOTIS**"
   ]
  },
  {
   "cell_type": "code",
   "execution_count": 13,
   "metadata": {},
   "outputs": [
    {
     "data": {
      "text/html": [
       "<div>\n",
       "<style scoped>\n",
       "    .dataframe tbody tr th:only-of-type {\n",
       "        vertical-align: middle;\n",
       "    }\n",
       "\n",
       "    .dataframe tbody tr th {\n",
       "        vertical-align: top;\n",
       "    }\n",
       "\n",
       "    .dataframe thead th {\n",
       "        text-align: right;\n",
       "    }\n",
       "</style>\n",
       "<table border=\"1\" class=\"dataframe\">\n",
       "  <thead>\n",
       "    <tr style=\"text-align: right;\">\n",
       "      <th></th>\n",
       "      <th>index</th>\n",
       "      <th>domain</th>\n",
       "      <th>issuer_O</th>\n",
       "      <th>conn_count</th>\n",
       "      <th>historical_ca</th>\n",
       "    </tr>\n",
       "  </thead>\n",
       "  <tbody>\n",
       "    <tr>\n",
       "      <th>433</th>\n",
       "      <td>362</td>\n",
       "      <td>accueil.banque-france.fr</td>\n",
       "      <td>DHIMYOTIS</td>\n",
       "      <td>18</td>\n",
       "      <td>DHIMYOTIS (2022-07-12 - 2023-07-12)</td>\n",
       "    </tr>\n",
       "    <tr>\n",
       "      <th>435</th>\n",
       "      <td>379</td>\n",
       "      <td>sso.banque-france.fr</td>\n",
       "      <td>DHIMYOTIS</td>\n",
       "      <td>4</td>\n",
       "      <td>DHIMYOTIS (2018-11-09 16:10:19 - 2020-11-08 16:10:19)</td>\n",
       "    </tr>\n",
       "  </tbody>\n",
       "</table>\n",
       "</div>"
      ],
      "text/plain": [
       "     index                    domain   issuer_O  conn_count  \\\n",
       "433    362  accueil.banque-france.fr  DHIMYOTIS          18   \n",
       "435    379      sso.banque-france.fr  DHIMYOTIS           4   \n",
       "\n",
       "                                             historical_ca  \n",
       "433                    DHIMYOTIS (2022-07-12 - 2023-07-12)  \n",
       "435  DHIMYOTIS (2018-11-09 16:10:19 - 2020-11-08 16:10:19)  "
      ]
     },
     "execution_count": 13,
     "metadata": {},
     "output_type": "execute_result"
    }
   ],
   "source": [
    "df[df[\"issuer_O\"] == \"DHIMYOTIS\"]"
   ]
  },
  {
   "attachments": {},
   "cell_type": "markdown",
   "metadata": {},
   "source": [
    "**Verizon Enterprise Solutions**\n",
    "* Verizon Enterprise Solutions is the branch of Verizon that provides wireless networks for businesses"
   ]
  },
  {
   "cell_type": "code",
   "execution_count": 14,
   "metadata": {},
   "outputs": [
    {
     "data": {
      "text/html": [
       "<div>\n",
       "<style scoped>\n",
       "    .dataframe tbody tr th:only-of-type {\n",
       "        vertical-align: middle;\n",
       "    }\n",
       "\n",
       "    .dataframe tbody tr th {\n",
       "        vertical-align: top;\n",
       "    }\n",
       "\n",
       "    .dataframe thead th {\n",
       "        text-align: right;\n",
       "    }\n",
       "</style>\n",
       "<table border=\"1\" class=\"dataframe\">\n",
       "  <thead>\n",
       "    <tr style=\"text-align: right;\">\n",
       "      <th></th>\n",
       "      <th>index</th>\n",
       "      <th>domain</th>\n",
       "      <th>issuer_O</th>\n",
       "      <th>conn_count</th>\n",
       "      <th>historical_ca</th>\n",
       "    </tr>\n",
       "  </thead>\n",
       "  <tbody>\n",
       "    <tr>\n",
       "      <th>571</th>\n",
       "      <td>10</td>\n",
       "      <td>emirates.com</td>\n",
       "      <td>Verizon Enterprise Solutions</td>\n",
       "      <td>4</td>\n",
       "      <td>DigiCert Inc (2020-07-29 00:00:00 - 2022-10-28 12:00:00)</td>\n",
       "    </tr>\n",
       "    <tr>\n",
       "      <th>715</th>\n",
       "      <td>9</td>\n",
       "      <td>emirates.com</td>\n",
       "      <td>Verizon Enterprise Solutions</td>\n",
       "      <td>2</td>\n",
       "      <td>DigiCert Inc (2020-07-29 00:00:00 - 2022-10-28 12:00:00)</td>\n",
       "    </tr>\n",
       "    <tr>\n",
       "      <th>847</th>\n",
       "      <td>3</td>\n",
       "      <td>emirates.com</td>\n",
       "      <td>Verizon Enterprise Solutions</td>\n",
       "      <td>17</td>\n",
       "      <td>DigiCert Inc (2020-07-29 00:00:00 - 2022-10-28 12:00:00)</td>\n",
       "    </tr>\n",
       "  </tbody>\n",
       "</table>\n",
       "</div>"
      ],
      "text/plain": [
       "     index        domain                      issuer_O  conn_count  \\\n",
       "571     10  emirates.com  Verizon Enterprise Solutions           4   \n",
       "715      9  emirates.com  Verizon Enterprise Solutions           2   \n",
       "847      3  emirates.com  Verizon Enterprise Solutions          17   \n",
       "\n",
       "                                                historical_ca  \n",
       "571  DigiCert Inc (2020-07-29 00:00:00 - 2022-10-28 12:00:00)  \n",
       "715  DigiCert Inc (2020-07-29 00:00:00 - 2022-10-28 12:00:00)  \n",
       "847  DigiCert Inc (2020-07-29 00:00:00 - 2022-10-28 12:00:00)  "
      ]
     },
     "execution_count": 14,
     "metadata": {},
     "output_type": "execute_result"
    }
   ],
   "source": [
    "df[df[\"issuer_O\"] == \"Verizon Enterprise Solutions\"]"
   ]
  },
  {
   "attachments": {},
   "cell_type": "markdown",
   "metadata": {},
   "source": [
    "**Standard Chartered Bank**\n",
    "* British multinational Banking Group\n",
    "* Could be a Standard Chartered Bank employee with SSL Interception Software on their machine"
   ]
  },
  {
   "cell_type": "code",
   "execution_count": 15,
   "metadata": {},
   "outputs": [
    {
     "data": {
      "text/html": [
       "<div>\n",
       "<style scoped>\n",
       "    .dataframe tbody tr th:only-of-type {\n",
       "        vertical-align: middle;\n",
       "    }\n",
       "\n",
       "    .dataframe tbody tr th {\n",
       "        vertical-align: top;\n",
       "    }\n",
       "\n",
       "    .dataframe thead th {\n",
       "        text-align: right;\n",
       "    }\n",
       "</style>\n",
       "<table border=\"1\" class=\"dataframe\">\n",
       "  <thead>\n",
       "    <tr style=\"text-align: right;\">\n",
       "      <th></th>\n",
       "      <th>index</th>\n",
       "      <th>domain</th>\n",
       "      <th>issuer_O</th>\n",
       "      <th>conn_count</th>\n",
       "      <th>historical_ca</th>\n",
       "    </tr>\n",
       "  </thead>\n",
       "  <tbody>\n",
       "    <tr>\n",
       "      <th>791</th>\n",
       "      <td>5</td>\n",
       "      <td>login.windows.net</td>\n",
       "      <td>Standard Chartered Bank</td>\n",
       "      <td>3</td>\n",
       "      <td>DigiCert Inc (2023-02-19 00:00:00 - 2024-02-19 23:59:59)</td>\n",
       "    </tr>\n",
       "    <tr>\n",
       "      <th>792</th>\n",
       "      <td>9</td>\n",
       "      <td>arc.msn.com</td>\n",
       "      <td>Standard Chartered Bank</td>\n",
       "      <td>2</td>\n",
       "      <td>Microsoft Corporation (2022-09-15 - 2023-09-10)</td>\n",
       "    </tr>\n",
       "    <tr>\n",
       "      <th>793</th>\n",
       "      <td>13</td>\n",
       "      <td>standardcharteredbank-my.sharepoint.com</td>\n",
       "      <td>Standard Chartered Bank</td>\n",
       "      <td>1</td>\n",
       "      <td>DigiCert Inc (2022-06-08 00:00:00 - 2023-06-07 23:59:59)</td>\n",
       "    </tr>\n",
       "    <tr>\n",
       "      <th>797</th>\n",
       "      <td>25</td>\n",
       "      <td>login.microsoftonline.com</td>\n",
       "      <td>Standard Chartered Bank</td>\n",
       "      <td>15</td>\n",
       "      <td>DigiCert Inc (2023-02-19 00:00:00 - 2024-02-19 23:59:59)</td>\n",
       "    </tr>\n",
       "    <tr>\n",
       "      <th>798</th>\n",
       "      <td>27</td>\n",
       "      <td>support.content.office.net</td>\n",
       "      <td>Standard Chartered Bank</td>\n",
       "      <td>1</td>\n",
       "      <td>Microsoft Corporation (2022-08-03 - 2023-07-29)</td>\n",
       "    </tr>\n",
       "    <tr>\n",
       "      <th>799</th>\n",
       "      <td>31</td>\n",
       "      <td>onedriveclubprodbn20004.blob.core.windows.net</td>\n",
       "      <td>Standard Chartered Bank</td>\n",
       "      <td>1</td>\n",
       "      <td>Microsoft Corporation (2022-08-18 14:04:16 - 2023-08-13 14:04:16)</td>\n",
       "    </tr>\n",
       "    <tr>\n",
       "      <th>800</th>\n",
       "      <td>34</td>\n",
       "      <td>clients.config.office.net</td>\n",
       "      <td>Standard Chartered Bank</td>\n",
       "      <td>1</td>\n",
       "      <td>['Microsoft Corporation (2022-07-22 - 2023-07-17)', 'DigiCert Inc (2022-09-01 - 2023-08-31)']</td>\n",
       "    </tr>\n",
       "    <tr>\n",
       "      <th>801</th>\n",
       "      <td>35</td>\n",
       "      <td>loki.delve.office.com</td>\n",
       "      <td>Standard Chartered Bank</td>\n",
       "      <td>1</td>\n",
       "      <td>['Microsoft Corporation (2022-08-31 - 2023-08-26)', 'DigiCert Inc (2022-02-04 - 2023-02-03)', 'GlobalSign nv-sa (2019-08-05 - 2021-08-05)']</td>\n",
       "    </tr>\n",
       "    <tr>\n",
       "      <th>802</th>\n",
       "      <td>45</td>\n",
       "      <td>dataservice.protection.outlook.com</td>\n",
       "      <td>Standard Chartered Bank</td>\n",
       "      <td>1</td>\n",
       "      <td>DigiCert Inc (2022-06-02 00:00:00 - 2023-06-02 23:59:59)</td>\n",
       "    </tr>\n",
       "    <tr>\n",
       "      <th>803</th>\n",
       "      <td>47</td>\n",
       "      <td>apc01.dataservice.protection.outlook.com</td>\n",
       "      <td>Standard Chartered Bank</td>\n",
       "      <td>5</td>\n",
       "      <td>['DigiCert Inc (2022-06-02 00:00:00 - 2023-06-02 23:59:59)', 'GlobalSign nv-sa (2019-10-10 17:21:59 - 2021-10-10 17:21:59)', 'Microsoft Corporation (2018-01-06 14:28:38 - 2020-01-06 14:28:38)']</td>\n",
       "    </tr>\n",
       "    <tr>\n",
       "      <th>804</th>\n",
       "      <td>50</td>\n",
       "      <td>incidents.diagnostics.office.com</td>\n",
       "      <td>Standard Chartered Bank</td>\n",
       "      <td>2</td>\n",
       "      <td>DigiCert Inc (2022-04-28 00:00:00 - 2023-04-28 23:59:59)</td>\n",
       "    </tr>\n",
       "    <tr>\n",
       "      <th>807</th>\n",
       "      <td>73</td>\n",
       "      <td>uci.cdn.office.net</td>\n",
       "      <td>Standard Chartered Bank</td>\n",
       "      <td>3</td>\n",
       "      <td>Microsoft Corporation (2022-08-22 - 2023-08-17)</td>\n",
       "    </tr>\n",
       "    <tr>\n",
       "      <th>808</th>\n",
       "      <td>79</td>\n",
       "      <td>substrate.office.com</td>\n",
       "      <td>Standard Chartered Bank</td>\n",
       "      <td>1</td>\n",
       "      <td>['DigiCert Inc (2022-07-26 - 2023-07-25)', 'Microsoft Corporation (2022-09-15 - 2023-09-15)', 'GlobalSign nv-sa (2016-05-20 - 2017-05-21)']</td>\n",
       "    </tr>\n",
       "    <tr>\n",
       "      <th>809</th>\n",
       "      <td>80</td>\n",
       "      <td>ecs.office.com</td>\n",
       "      <td>Standard Chartered Bank</td>\n",
       "      <td>1</td>\n",
       "      <td>['Microsoft Corporation (2022-07-31 16:28:59 - 2023-07-26 16:28:59)', 'DigiCert Inc (2022-11-10 00:00:00 - 2023-11-10 23:59:59)']</td>\n",
       "    </tr>\n",
       "    <tr>\n",
       "      <th>810</th>\n",
       "      <td>83</td>\n",
       "      <td>entitlement.diagnostics.office.com</td>\n",
       "      <td>Standard Chartered Bank</td>\n",
       "      <td>2</td>\n",
       "      <td>['DigiCert Inc (2022-05-12 - 2023-05-12)', 'GlobalSign nv-sa (2020-10-14 - 2021-11-15)', 'Microsoft Corporation (2019-06-13 - 2021-06-13)']</td>\n",
       "    </tr>\n",
       "    <tr>\n",
       "      <th>811</th>\n",
       "      <td>96</td>\n",
       "      <td>apc01.oscs.protection.outlook.com</td>\n",
       "      <td>Standard Chartered Bank</td>\n",
       "      <td>1</td>\n",
       "      <td>['DigiCert Inc (2022-02-03 00:00:00 - 2023-02-02 23:59:59)', 'GlobalSign nv-sa (2020-01-03 20:26:59 - 2022-01-03 20:26:59)', 'Microsoft Corporation (2018-02-21 18:29:14 - 2020-02-21 18:29:14)']</td>\n",
       "    </tr>\n",
       "  </tbody>\n",
       "</table>\n",
       "</div>"
      ],
      "text/plain": [
       "     index                                         domain  \\\n",
       "791      5                              login.windows.net   \n",
       "792      9                                    arc.msn.com   \n",
       "793     13        standardcharteredbank-my.sharepoint.com   \n",
       "797     25                      login.microsoftonline.com   \n",
       "798     27                     support.content.office.net   \n",
       "799     31  onedriveclubprodbn20004.blob.core.windows.net   \n",
       "800     34                      clients.config.office.net   \n",
       "801     35                          loki.delve.office.com   \n",
       "802     45             dataservice.protection.outlook.com   \n",
       "803     47       apc01.dataservice.protection.outlook.com   \n",
       "804     50               incidents.diagnostics.office.com   \n",
       "807     73                             uci.cdn.office.net   \n",
       "808     79                           substrate.office.com   \n",
       "809     80                                 ecs.office.com   \n",
       "810     83             entitlement.diagnostics.office.com   \n",
       "811     96              apc01.oscs.protection.outlook.com   \n",
       "\n",
       "                    issuer_O  conn_count  \\\n",
       "791  Standard Chartered Bank           3   \n",
       "792  Standard Chartered Bank           2   \n",
       "793  Standard Chartered Bank           1   \n",
       "797  Standard Chartered Bank          15   \n",
       "798  Standard Chartered Bank           1   \n",
       "799  Standard Chartered Bank           1   \n",
       "800  Standard Chartered Bank           1   \n",
       "801  Standard Chartered Bank           1   \n",
       "802  Standard Chartered Bank           1   \n",
       "803  Standard Chartered Bank           5   \n",
       "804  Standard Chartered Bank           2   \n",
       "807  Standard Chartered Bank           3   \n",
       "808  Standard Chartered Bank           1   \n",
       "809  Standard Chartered Bank           1   \n",
       "810  Standard Chartered Bank           2   \n",
       "811  Standard Chartered Bank           1   \n",
       "\n",
       "                                                                                                                                                                                         historical_ca  \n",
       "791                                                                                                                                           DigiCert Inc (2023-02-19 00:00:00 - 2024-02-19 23:59:59)  \n",
       "792                                                                                                                                                    Microsoft Corporation (2022-09-15 - 2023-09-10)  \n",
       "793                                                                                                                                           DigiCert Inc (2022-06-08 00:00:00 - 2023-06-07 23:59:59)  \n",
       "797                                                                                                                                           DigiCert Inc (2023-02-19 00:00:00 - 2024-02-19 23:59:59)  \n",
       "798                                                                                                                                                    Microsoft Corporation (2022-08-03 - 2023-07-29)  \n",
       "799                                                                                                                                  Microsoft Corporation (2022-08-18 14:04:16 - 2023-08-13 14:04:16)  \n",
       "800                                                                                                      ['Microsoft Corporation (2022-07-22 - 2023-07-17)', 'DigiCert Inc (2022-09-01 - 2023-08-31)']  \n",
       "801                                                        ['Microsoft Corporation (2022-08-31 - 2023-08-26)', 'DigiCert Inc (2022-02-04 - 2023-02-03)', 'GlobalSign nv-sa (2019-08-05 - 2021-08-05)']  \n",
       "802                                                                                                                                           DigiCert Inc (2022-06-02 00:00:00 - 2023-06-02 23:59:59)  \n",
       "803  ['DigiCert Inc (2022-06-02 00:00:00 - 2023-06-02 23:59:59)', 'GlobalSign nv-sa (2019-10-10 17:21:59 - 2021-10-10 17:21:59)', 'Microsoft Corporation (2018-01-06 14:28:38 - 2020-01-06 14:28:38)']  \n",
       "804                                                                                                                                           DigiCert Inc (2022-04-28 00:00:00 - 2023-04-28 23:59:59)  \n",
       "807                                                                                                                                                    Microsoft Corporation (2022-08-22 - 2023-08-17)  \n",
       "808                                                        ['DigiCert Inc (2022-07-26 - 2023-07-25)', 'Microsoft Corporation (2022-09-15 - 2023-09-15)', 'GlobalSign nv-sa (2016-05-20 - 2017-05-21)']  \n",
       "809                                                                  ['Microsoft Corporation (2022-07-31 16:28:59 - 2023-07-26 16:28:59)', 'DigiCert Inc (2022-11-10 00:00:00 - 2023-11-10 23:59:59)']  \n",
       "810                                                        ['DigiCert Inc (2022-05-12 - 2023-05-12)', 'GlobalSign nv-sa (2020-10-14 - 2021-11-15)', 'Microsoft Corporation (2019-06-13 - 2021-06-13)']  \n",
       "811  ['DigiCert Inc (2022-02-03 00:00:00 - 2023-02-02 23:59:59)', 'GlobalSign nv-sa (2020-01-03 20:26:59 - 2022-01-03 20:26:59)', 'Microsoft Corporation (2018-02-21 18:29:14 - 2020-02-21 18:29:14)']  "
      ]
     },
     "execution_count": 15,
     "metadata": {},
     "output_type": "execute_result"
    }
   ],
   "source": [
    "df[df[\"issuer_O\"] == \"Standard Chartered Bank\"]"
   ]
  },
  {
   "attachments": {},
   "cell_type": "markdown",
   "metadata": {},
   "source": [
    "**BlackBerry Limited**\n",
    "* Likely self-signed certificate"
   ]
  },
  {
   "cell_type": "code",
   "execution_count": 16,
   "metadata": {},
   "outputs": [
    {
     "data": {
      "text/html": [
       "<div>\n",
       "<style scoped>\n",
       "    .dataframe tbody tr th:only-of-type {\n",
       "        vertical-align: middle;\n",
       "    }\n",
       "\n",
       "    .dataframe tbody tr th {\n",
       "        vertical-align: top;\n",
       "    }\n",
       "\n",
       "    .dataframe thead th {\n",
       "        text-align: right;\n",
       "    }\n",
       "</style>\n",
       "<table border=\"1\" class=\"dataframe\">\n",
       "  <thead>\n",
       "    <tr style=\"text-align: right;\">\n",
       "      <th></th>\n",
       "      <th>index</th>\n",
       "      <th>domain</th>\n",
       "      <th>issuer_O</th>\n",
       "      <th>conn_count</th>\n",
       "      <th>historical_ca</th>\n",
       "    </tr>\n",
       "  </thead>\n",
       "  <tbody>\n",
       "    <tr>\n",
       "      <th>572</th>\n",
       "      <td>12</td>\n",
       "      <td>GB.bbsecure.com</td>\n",
       "      <td>BlackBerry Limited</td>\n",
       "      <td>1</td>\n",
       "      <td>DigiCert Inc (2022-06-10 00:00:00 - 2023-07-11 23:59:59)</td>\n",
       "    </tr>\n",
       "  </tbody>\n",
       "</table>\n",
       "</div>"
      ],
      "text/plain": [
       "     index           domain            issuer_O  conn_count  \\\n",
       "572     12  GB.bbsecure.com  BlackBerry Limited           1   \n",
       "\n",
       "                                                historical_ca  \n",
       "572  DigiCert Inc (2022-06-10 00:00:00 - 2023-07-11 23:59:59)  "
      ]
     },
     "execution_count": 16,
     "metadata": {},
     "output_type": "execute_result"
    }
   ],
   "source": [
    "df[df[\"issuer_O\"] == \"BlackBerry Limited\"]"
   ]
  },
  {
   "attachments": {},
   "cell_type": "markdown",
   "metadata": {},
   "source": [
    "**XM**"
   ]
  },
  {
   "attachments": {},
   "cell_type": "markdown",
   "metadata": {},
   "source": [
    "* Likely self-signed certificate - According to SSL Certificate Cheker, the issuer organization matches the organization that the certificate was issued for"
   ]
  },
  {
   "cell_type": "code",
   "execution_count": 17,
   "metadata": {},
   "outputs": [
    {
     "data": {
      "text/html": [
       "<div>\n",
       "<style scoped>\n",
       "    .dataframe tbody tr th:only-of-type {\n",
       "        vertical-align: middle;\n",
       "    }\n",
       "\n",
       "    .dataframe tbody tr th {\n",
       "        vertical-align: top;\n",
       "    }\n",
       "\n",
       "    .dataframe thead th {\n",
       "        text-align: right;\n",
       "    }\n",
       "</style>\n",
       "<table border=\"1\" class=\"dataframe\">\n",
       "  <thead>\n",
       "    <tr style=\"text-align: right;\">\n",
       "      <th></th>\n",
       "      <th>index</th>\n",
       "      <th>domain</th>\n",
       "      <th>issuer_O</th>\n",
       "      <th>conn_count</th>\n",
       "      <th>historical_ca</th>\n",
       "    </tr>\n",
       "  </thead>\n",
       "  <tbody>\n",
       "    <tr>\n",
       "      <th>696</th>\n",
       "      <td>1</td>\n",
       "      <td>s-karlstorz.haxm.co</td>\n",
       "      <td>XM</td>\n",
       "      <td>1</td>\n",
       "      <td>[\"Let's Encrypt (2023-04-23 - 2023-07-22)\", 'Google Trust Services LLC (2023-04-23 - 2023-07-22)']</td>\n",
       "    </tr>\n",
       "  </tbody>\n",
       "</table>\n",
       "</div>"
      ],
      "text/plain": [
       "     index               domain issuer_O  conn_count  \\\n",
       "696      1  s-karlstorz.haxm.co       XM           1   \n",
       "\n",
       "                                                                                          historical_ca  \n",
       "696  [\"Let's Encrypt (2023-04-23 - 2023-07-22)\", 'Google Trust Services LLC (2023-04-23 - 2023-07-22)']  "
      ]
     },
     "execution_count": 17,
     "metadata": {},
     "output_type": "execute_result"
    }
   ],
   "source": [
    "df[df[\"issuer_O\"] == \"XM\"]"
   ]
  },
  {
   "attachments": {},
   "cell_type": "markdown",
   "metadata": {},
   "source": [
    "**Nintendo of America**\n",
    "* Self-signed certificate"
   ]
  },
  {
   "cell_type": "code",
   "execution_count": 18,
   "metadata": {},
   "outputs": [
    {
     "data": {
      "text/html": [
       "<div>\n",
       "<style scoped>\n",
       "    .dataframe tbody tr th:only-of-type {\n",
       "        vertical-align: middle;\n",
       "    }\n",
       "\n",
       "    .dataframe tbody tr th {\n",
       "        vertical-align: top;\n",
       "    }\n",
       "\n",
       "    .dataframe thead th {\n",
       "        text-align: right;\n",
       "    }\n",
       "</style>\n",
       "<table border=\"1\" class=\"dataframe\">\n",
       "  <thead>\n",
       "    <tr style=\"text-align: right;\">\n",
       "      <th></th>\n",
       "      <th>index</th>\n",
       "      <th>domain</th>\n",
       "      <th>issuer_O</th>\n",
       "      <th>conn_count</th>\n",
       "      <th>historical_ca</th>\n",
       "    </tr>\n",
       "  </thead>\n",
       "  <tbody>\n",
       "    <tr>\n",
       "      <th>781</th>\n",
       "      <td>18</td>\n",
       "      <td>api.fushigi.switch1.pokemon-gl.com</td>\n",
       "      <td>Nintendo of America</td>\n",
       "      <td>2</td>\n",
       "      <td>Let's Encrypt (2018-03-05 - 2018-06-03)</td>\n",
       "    </tr>\n",
       "  </tbody>\n",
       "</table>\n",
       "</div>"
      ],
      "text/plain": [
       "     index                              domain             issuer_O  \\\n",
       "781     18  api.fushigi.switch1.pokemon-gl.com  Nintendo of America   \n",
       "\n",
       "     conn_count                            historical_ca  \n",
       "781           2  Let's Encrypt (2018-03-05 - 2018-06-03)  "
      ]
     },
     "execution_count": 18,
     "metadata": {},
     "output_type": "execute_result"
    }
   ],
   "source": [
    "df[df[\"issuer_O\"] == \"Nintendo of America\"]"
   ]
  },
  {
   "attachments": {},
   "cell_type": "markdown",
   "metadata": {},
   "source": [
    "**Chunghwa Telecom Co.**"
   ]
  },
  {
   "cell_type": "code",
   "execution_count": 19,
   "metadata": {},
   "outputs": [
    {
     "data": {
      "text/html": [
       "<div>\n",
       "<style scoped>\n",
       "    .dataframe tbody tr th:only-of-type {\n",
       "        vertical-align: middle;\n",
       "    }\n",
       "\n",
       "    .dataframe tbody tr th {\n",
       "        vertical-align: top;\n",
       "    }\n",
       "\n",
       "    .dataframe thead th {\n",
       "        text-align: right;\n",
       "    }\n",
       "</style>\n",
       "<table border=\"1\" class=\"dataframe\">\n",
       "  <thead>\n",
       "    <tr style=\"text-align: right;\">\n",
       "      <th></th>\n",
       "      <th>index</th>\n",
       "      <th>domain</th>\n",
       "      <th>issuer_O</th>\n",
       "      <th>conn_count</th>\n",
       "      <th>historical_ca</th>\n",
       "    </tr>\n",
       "  </thead>\n",
       "  <tbody>\n",
       "    <tr>\n",
       "      <th>850</th>\n",
       "      <td>22</td>\n",
       "      <td>es.emome.net</td>\n",
       "      <td>Chunghwa Telecom Co.</td>\n",
       "      <td>1</td>\n",
       "      <td>Chunghwa Telecom Co., Ltd. (2019-03-07 02:28:07 - 2021-03-07 02:28:07)</td>\n",
       "    </tr>\n",
       "  </tbody>\n",
       "</table>\n",
       "</div>"
      ],
      "text/plain": [
       "     index        domain              issuer_O  conn_count  \\\n",
       "850     22  es.emome.net  Chunghwa Telecom Co.           1   \n",
       "\n",
       "                                                              historical_ca  \n",
       "850  Chunghwa Telecom Co., Ltd. (2019-03-07 02:28:07 - 2021-03-07 02:28:07)  "
      ]
     },
     "execution_count": 19,
     "metadata": {},
     "output_type": "execute_result"
    }
   ],
   "source": [
    "df[df[\"issuer_O\"] == \"Chunghwa Telecom Co.\"]"
   ]
  }
 ],
 "metadata": {
  "kernelspec": {
   "display_name": "Python 3",
   "language": "python",
   "name": "python3"
  },
  "language_info": {
   "codemirror_mode": {
    "name": "ipython",
    "version": 3
   },
   "file_extension": ".py",
   "mimetype": "text/x-python",
   "name": "python",
   "nbconvert_exporter": "python",
   "pygments_lexer": "ipython3",
   "version": "3.8.10"
  },
  "orig_nbformat": 4
 },
 "nbformat": 4,
 "nbformat_minor": 2
}
